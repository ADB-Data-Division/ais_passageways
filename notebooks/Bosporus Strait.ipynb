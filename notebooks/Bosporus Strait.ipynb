{
 "cells": [
  {
   "cell_type": "markdown",
   "id": "652a38c0-d9e5-420c-a9ad-af660af5762e",
   "metadata": {},
   "source": [
    "# 0. Notes:\n",
    "\n",
    "This notebook identifies vessels transiting Bosporus Strait during Russian-Invasion of Ukraine.\n",
    "\n",
    "Connect to the UN Global Platform and use kernel `pyspark3.5 ais2.9`"
   ]
  },
  {
   "cell_type": "markdown",
   "id": "7a8e0465-1c2a-47be-b2d6-5517a252368e",
   "metadata": {},
   "source": [
    "# 1. Initialize"
   ]
  },
  {
   "cell_type": "code",
   "execution_count": 1,
   "id": "f3eafc0f-f552-46be-9f35-333f6207e97e",
   "metadata": {
    "execution": {
     "iopub.execute_input": "2024-09-19T00:40:41.200274Z",
     "iopub.status.busy": "2024-09-19T00:40:41.199634Z",
     "iopub.status.idle": "2024-09-19T00:40:41.979370Z",
     "shell.execute_reply": "2024-09-19T00:40:41.978852Z",
     "shell.execute_reply.started": "2024-09-19T00:40:41.200248Z"
    },
    "tags": []
   },
   "outputs": [
    {
     "name": "stdout",
     "output_type": "stream",
     "text": [
      "generated new fontManager\n"
     ]
    }
   ],
   "source": [
    "import geopandas as gpd\n",
    "from shapely.geometry import mapping, Polygon\n",
    "\n",
    "from pyspark.sql import functions as F\n",
    "from pyspark.sql import Window as W\n",
    "from ais import functions as af\n",
    "import h3.api.numpy_int as h3int\n",
    "\n",
    "import matplotlib.pyplot as plt"
   ]
  },
  {
   "cell_type": "code",
   "execution_count": 2,
   "id": "1ffffcc8-a54e-43ad-adb4-6c9f639933e4",
   "metadata": {
    "execution": {
     "iopub.execute_input": "2024-09-19T00:40:41.980798Z",
     "iopub.status.busy": "2024-09-19T00:40:41.980241Z",
     "iopub.status.idle": "2024-09-19T00:41:38.017335Z",
     "shell.execute_reply": "2024-09-19T00:41:38.016580Z",
     "shell.execute_reply.started": "2024-09-19T00:40:41.980780Z"
    },
    "tags": []
   },
   "outputs": [
    {
     "name": "stdout",
     "output_type": "stream",
     "text": [
      "Skipping SedonaKepler import, verify if keplergl is installed\n",
      "Skipping SedonaPyDeck import, verify if pydeck is installed\n"
     ]
    }
   ],
   "source": [
    "from sedona.spark import *\n",
    "\n",
    "sedona = SedonaContext.create(spark)"
   ]
  },
  {
   "cell_type": "code",
   "execution_count": 3,
   "id": "b9077e4d-03ff-4dc1-955c-c02242f70a1e",
   "metadata": {
    "execution": {
     "iopub.execute_input": "2024-09-19T00:41:38.018693Z",
     "iopub.status.busy": "2024-09-19T00:41:38.018466Z",
     "iopub.status.idle": "2024-09-19T00:41:38.021829Z",
     "shell.execute_reply": "2024-09-19T00:41:38.021259Z",
     "shell.execute_reply.started": "2024-09-19T00:41:38.018676Z"
    },
    "tags": []
   },
   "outputs": [],
   "source": [
    "import requests\n",
    "import base64\n",
    "import os\n",
    "import pandas as pd\n",
    "from io import StringIO"
   ]
  },
  {
   "cell_type": "code",
   "execution_count": 4,
   "id": "e1aa0cbf-8a49-496f-b840-114429a7549d",
   "metadata": {
    "execution": {
     "iopub.execute_input": "2024-09-19T00:41:38.022864Z",
     "iopub.status.busy": "2024-09-19T00:41:38.022642Z",
     "iopub.status.idle": "2024-09-19T00:41:38.025597Z",
     "shell.execute_reply": "2024-09-19T00:41:38.025029Z",
     "shell.execute_reply.started": "2024-09-19T00:41:38.022843Z"
    },
    "tags": []
   },
   "outputs": [],
   "source": [
    "passageway = \"bosporus_strait\"\n",
    "raw_ais_save_path = os.environ[\"USER_TEMP_S3PATH\"] + f\"cherryl/ais_passageways/{passageway}/ais/\""
   ]
  },
  {
   "cell_type": "markdown",
   "id": "55405b2f-277e-41e3-9aad-021f8787e555",
   "metadata": {
    "jp-MarkdownHeadingCollapsed": true,
    "tags": []
   },
   "source": [
    "# 2. Geometries"
   ]
  },
  {
   "cell_type": "code",
   "execution_count": 5,
   "id": "1df1295b-b9c8-4b3e-9e4b-9e6527ec2d06",
   "metadata": {
    "execution": {
     "iopub.execute_input": "2024-08-19T06:49:12.389989Z",
     "iopub.status.busy": "2024-08-19T06:49:12.389488Z",
     "iopub.status.idle": "2024-08-19T06:49:12.566241Z",
     "shell.execute_reply": "2024-08-19T06:49:12.565747Z",
     "shell.execute_reply.started": "2024-08-19T06:49:12.389970Z"
    },
    "tags": []
   },
   "outputs": [
    {
     "data": {
      "text/html": [
       "<div>\n",
       "<style scoped>\n",
       "    .dataframe tbody tr th:only-of-type {\n",
       "        vertical-align: middle;\n",
       "    }\n",
       "\n",
       "    .dataframe tbody tr th {\n",
       "        vertical-align: top;\n",
       "    }\n",
       "\n",
       "    .dataframe thead th {\n",
       "        text-align: right;\n",
       "    }\n",
       "</style>\n",
       "<table border=\"1\" class=\"dataframe\">\n",
       "  <thead>\n",
       "    <tr style=\"text-align: right;\">\n",
       "      <th></th>\n",
       "      <th>POI</th>\n",
       "      <th>Label</th>\n",
       "      <th>geometry</th>\n",
       "    </tr>\n",
       "  </thead>\n",
       "  <tbody>\n",
       "    <tr>\n",
       "      <th>0</th>\n",
       "      <td>South</td>\n",
       "      <td>South Anchorage 1</td>\n",
       "      <td>POLYGON ((29.16083 40.87750, 29.17167 40.85000...</td>\n",
       "    </tr>\n",
       "    <tr>\n",
       "      <th>1</th>\n",
       "      <td>North</td>\n",
       "      <td>North Anchorage</td>\n",
       "      <td>POLYGON ((29.16457 41.34072, 29.03290 41.32238...</td>\n",
       "    </tr>\n",
       "    <tr>\n",
       "      <th>2</th>\n",
       "      <td>South</td>\n",
       "      <td>South Anchorage 2</td>\n",
       "      <td>POLYGON ((28.99807 41.02488, 28.99507 41.02788...</td>\n",
       "    </tr>\n",
       "    <tr>\n",
       "      <th>3</th>\n",
       "      <td>Middle</td>\n",
       "      <td>Narrowest Area</td>\n",
       "      <td>POLYGON ((29.06307 41.10538, 29.06622 41.10490...</td>\n",
       "    </tr>\n",
       "  </tbody>\n",
       "</table>\n",
       "</div>"
      ],
      "text/plain": [
       "      POI              Label  \\\n",
       "0   South  South Anchorage 1   \n",
       "1   North    North Anchorage   \n",
       "2   South  South Anchorage 2   \n",
       "3  Middle     Narrowest Area   \n",
       "\n",
       "                                            geometry  \n",
       "0  POLYGON ((29.16083 40.87750, 29.17167 40.85000...  \n",
       "1  POLYGON ((29.16457 41.34072, 29.03290 41.32238...  \n",
       "2  POLYGON ((28.99807 41.02488, 28.99507 41.02788...  \n",
       "3  POLYGON ((29.06307 41.10538, 29.06622 41.10490...  "
      ]
     },
     "execution_count": 5,
     "metadata": {},
     "output_type": "execute_result"
    }
   ],
   "source": [
    "request = requests.get(f\"https://api.github.com/repos/cherrylchico/ais_passageways/contents/data/{passageway}.geojson\")\n",
    "gdf = gpd.read_file(base64.b64decode(request.json()['content']).decode('utf-8'))\n",
    "gdf"
   ]
  },
  {
   "cell_type": "code",
   "execution_count": 9,
   "id": "7bc0f0fd-03d4-4e29-b5c2-28c22ddba635",
   "metadata": {
    "execution": {
     "iopub.execute_input": "2024-08-19T06:50:19.095491Z",
     "iopub.status.busy": "2024-08-19T06:50:19.095014Z",
     "iopub.status.idle": "2024-08-19T06:50:19.221988Z",
     "shell.execute_reply": "2024-08-19T06:50:19.221341Z",
     "shell.execute_reply.started": "2024-08-19T06:50:19.095472Z"
    },
    "tags": []
   },
   "outputs": [
    {
     "name": "stdout",
     "output_type": "stream",
     "text": [
      "Input polygon is too small to be filled in with hexagon of resolution: 6\n",
      "Attempting to fit a hex of resolution: 7...\n",
      "A hex of resolution: 7 fits the input polygon\n",
      "Finding it's parent in resolution: 6\n",
      "Input polygon is too small to be filled in with hexagon of resolution: 6\n",
      "Attempting to fit a hex of resolution: 7...\n",
      "Attempting to fit a hex of resolution: 8...\n",
      "A hex of resolution: 8 fits the input polygon\n",
      "Finding it's parent in resolution: 6\n",
      "\n",
      "H3 count:53\n"
     ]
    },
    {
     "name": "stderr",
     "output_type": "stream",
     "text": [
      "WARNING: there are hex ids contained in more than 1 polygon\n"
     ]
    },
    {
     "data": {
      "text/plain": [
       "<Axes: >"
      ]
     },
     "execution_count": 9,
     "metadata": {},
     "output_type": "execute_result"
    },
    {
     "data": {
      "image/png": "[encoded data removed]",
      "text/plain": [
       "<Figure size 640x480 with 1 Axes>"
      ]
     },
     "metadata": {},
     "output_type": "display_data"
    }
   ],
   "source": [
    "#We use H3 indices (https://h3geo.org/docs) as a geo-spatial filter for AIS data in the UNGP. \n",
    "#To get all AIS data within the AOIs, we overfill the geometries with H3 indices, then use the list of H3 indices as filter.  \n",
    "#To ensure that the filtering is efficient, the number of H3 indices should small and the area outside of the AOI should also be small\n",
    "#here, we chose H3 index resolution 6. \n",
    "\n",
    "h3_resolution = 6\n",
    "\n",
    "inputs = [(row['Label'], mapping(row['geometry'])) for index, row in gdf.iterrows()]\n",
    "hex_df = af.polygon_to_hex_df(inputs, h3_resolution, overfill=True)\n",
    "hexes = hex_df['hex_id'].drop_duplicates().tolist()\n",
    "\n",
    "print(f\"\\nH3 count:{len(hexes)}\")\n",
    "hexes = hex_df['hex_id'].drop_duplicates().tolist()\n",
    "h3_gdf = gpd.GeoDataFrame([[\"H3\",Polygon(h3int.h3_set_to_multi_polygon(hexes, geo_json=True)[0][0])]], columns=['h3','geometry'], crs=4326)\n",
    "fig, ax = plt.subplots()\n",
    "gdf.plot(ax=ax)\n",
    "h3_gdf.plot(ax=ax, facecolor=\"none\")"
   ]
  },
  {
   "cell_type": "markdown",
   "id": "c470c96e-b84f-4813-bc86-b5ede4ca73b5",
   "metadata": {
    "jp-MarkdownHeadingCollapsed": true,
    "tags": []
   },
   "source": [
    "# 3. Extract AIS data and save to S3"
   ]
  },
  {
   "cell_type": "markdown",
   "id": "d2dd6d63-3b92-4de3-8935-ecaad6bd4501",
   "metadata": {
    "tags": []
   },
   "source": [
    "## 3.1 Preparation"
   ]
  },
  {
   "cell_type": "code",
   "execution_count": 10,
   "id": "9b82dbca-0849-4307-b526-381dc7ccaada",
   "metadata": {
    "execution": {
     "iopub.execute_input": "2024-08-19T06:50:34.344026Z",
     "iopub.status.busy": "2024-08-19T06:50:34.343442Z",
     "iopub.status.idle": "2024-08-19T06:50:34.346848Z",
     "shell.execute_reply": "2024-08-19T06:50:34.346334Z",
     "shell.execute_reply.started": "2024-08-19T06:50:34.344005Z"
    },
    "tags": []
   },
   "outputs": [],
   "source": [
    "ais_cols = [\n",
    " 'mmsi',\n",
    " 'longitude',\n",
    " 'latitude',\n",
    " 'imo',\n",
    " 'vessel_name',\n",
    " 'vessel_type',\n",
    " 'destination',\n",
    " 'sog',\n",
    " 'nav_status',\n",
    " 'dt_pos_utc']"
   ]
  },
  {
   "cell_type": "code",
   "execution_count": 11,
   "id": "23dcad69-aa66-46d8-a3cc-d75b2445c146",
   "metadata": {
    "execution": {
     "iopub.execute_input": "2024-08-19T06:51:40.638057Z",
     "iopub.status.busy": "2024-08-19T06:51:40.637453Z",
     "iopub.status.idle": "2024-08-19T06:52:09.658064Z",
     "shell.execute_reply": "2024-08-19T06:52:09.657459Z",
     "shell.execute_reply.started": "2024-08-19T06:51:40.638037Z"
    },
    "tags": []
   },
   "outputs": [],
   "source": [
    "#Read Ship Register datasets as a spark dataframe, use version 20220502 which is version covering the disruption\n",
    "#note that af module is from the ais package \n",
    "\n",
    "#The ShipData table provides information on the vessel's IMO, vessel type described by the StatCode5 and ShiptypeLevel5\n",
    "ihs = af.read_ihs_table(spark, \"ShipData.CSV\", version=\"20220502\") \\\n",
    ".select(\"ShipName\",\"LRIMOShipNo\",\"MaritimeMobileServiceIdentityMMSINumber\",\"StatCode5\",\"ShiptypeLevel5\")\n",
    "\n",
    "#We use the tblShipTypeCodes table to get more information on the vessel type.\n",
    "#We select only \"Cargo-carrying vessels\" which is identified by ShiptypeLevel2 information\n",
    "ihs_statcode = af.read_ihs_table(spark, \"tblShipTypeCodes.CSV\",  version=\"20210609\") \\\n",
    ".select(\"StatCode5\",\"ShiptypeLevel2\") \\\n",
    ".filter(F.col(\"ShiptypeLevel2\").isin([\"Bulk Carriers\", \"Dry Cargo/Passenger\", \"Tankers\"]))"
   ]
  },
  {
   "cell_type": "code",
   "execution_count": 12,
   "id": "d7f8167f-a5e6-4fce-b539-36255af431d0",
   "metadata": {
    "execution": {
     "iopub.execute_input": "2024-08-19T06:52:09.659700Z",
     "iopub.status.busy": "2024-08-19T06:52:09.659288Z",
     "iopub.status.idle": "2024-08-19T06:52:09.729841Z",
     "shell.execute_reply": "2024-08-19T06:52:09.729162Z",
     "shell.execute_reply.started": "2024-08-19T06:52:09.659681Z"
    },
    "tags": []
   },
   "outputs": [],
   "source": [
    "#Convert geometries to spark dataframe to prepare for spark processing of geospatial data\n",
    "sdf_poly = sedona.createDataFrame(gdf[['geometry','POI']])"
   ]
  },
  {
   "cell_type": "code",
   "execution_count": 13,
   "id": "6aeb8326-4127-47fb-9821-19b563bbee14",
   "metadata": {
    "execution": {
     "iopub.execute_input": "2024-08-19T06:52:09.731192Z",
     "iopub.status.busy": "2024-08-19T06:52:09.730657Z",
     "iopub.status.idle": "2024-08-19T06:52:09.735693Z",
     "shell.execute_reply": "2024-08-19T06:52:09.735127Z",
     "shell.execute_reply.started": "2024-08-19T06:52:09.731172Z"
    },
    "tags": []
   },
   "outputs": [],
   "source": [
    "def extract_passageway_cargo(start_date, end_date, hexes, raw_ais_save_path, mode=\"overwrite\"):\n",
    "    #Read AIS within the start date and end date where hex ids are within the hexes list\n",
    "    sdf = af.get_ais(spark, start_date=start_date, end_date=end_date, h3_list = hexes)\n",
    "    \n",
    "    #Get only AIS where location is within the POI geometries\n",
    "    sdf_w_point = sdf.withColumn(\"point\", F.expr(\"ST_Point(longitude, latitude)\"))\n",
    "    sdf_w_point.createOrReplaceTempView(\"ais_temp\")\n",
    "    sdf_poly.createOrReplaceTempView(\"poly_temp\")\n",
    "    sdf_poly_filter = spark.sql(\"\"\" select  * from ais_temp, poly_temp where ST_Within(point, geometry)\"\"\")\n",
    "    \n",
    "    #Get only AIS where the type is cargo related\n",
    "    sdf_cargo = sdf_poly_filter.join(ihs.withColumnRenamed(\"LRIMOShipNo\",\"imo\"), how=\"inner\", on=['imo']) \\\n",
    "    .join(ihs_statcode, how=\"inner\", on=['StatCode5']) \\\n",
    "    .select(*ais_cols, \"ShipName\",\"MaritimeMobileServiceIdentityMMSINumber\",\"StatCode5\",\"ShiptypeLevel5\",\"ShiptypeLevel2\",\"POI\") \\\n",
    "    .withColumns({\"year\":F.year(\"dt_pos_utc\"),\"month\":F.month(\"dt_pos_utc\")})\n",
    "    \n",
    "    #Save in S3\n",
    "    sdf_cargo.write.mode(mode).partitionBy(\"year\",\"month\").parquet(raw_ais_save_path)\n",
    "    return sdf_cargo"
   ]
  },
  {
   "cell_type": "markdown",
   "id": "f4a07ccf-47e0-486d-a212-9a9b3d5079ec",
   "metadata": {
    "tags": []
   },
   "source": [
    "## 3.2 Run"
   ]
  },
  {
   "cell_type": "code",
   "execution_count": 17,
   "id": "8aa6139b-c54d-4829-bf15-0357e1b50d79",
   "metadata": {
    "execution": {
     "iopub.execute_input": "2024-08-19T07:10:11.208094Z",
     "iopub.status.busy": "2024-08-19T07:10:11.207763Z",
     "iopub.status.idle": "2024-08-19T07:10:11.210691Z",
     "shell.execute_reply": "2024-08-19T07:10:11.210187Z",
     "shell.execute_reply.started": "2024-08-19T07:10:11.208077Z"
    },
    "tags": []
   },
   "outputs": [],
   "source": [
    "#Run the extraction process per month.Overwrite for the first time,and then append the next one\n",
    "start_date = \"2022-01-01\"\n",
    "end_date = \"2022-01-31\"\n",
    "sdf = extract_passageway_cargo(start_date, end_date, hexes, raw_ais_save_path, mode=\"overwrite\")"
   ]
  },
  {
   "cell_type": "code",
   "execution_count": 18,
   "id": "dd39e54f-3d30-4778-9650-d324defe665a",
   "metadata": {
    "execution": {
     "iopub.execute_input": "2024-08-19T07:10:13.255842Z",
     "iopub.status.busy": "2024-08-19T07:10:13.255277Z",
     "iopub.status.idle": "2024-08-19T07:10:13.258160Z",
     "shell.execute_reply": "2024-08-19T07:10:13.257700Z",
     "shell.execute_reply.started": "2024-08-19T07:10:13.255821Z"
    },
    "tags": []
   },
   "outputs": [],
   "source": [
    "start_date = \"2022-02-01\"\n",
    "end_date = \"2022-02-28\"\n",
    "sdf = extract_passageway_cargo(start_date, end_date, hexes, raw_ais_save_path, mode=\"append\")"
   ]
  },
  {
   "cell_type": "code",
   "execution_count": 19,
   "id": "174d29e5-0f58-43bb-a907-17a028fbaae8",
   "metadata": {
    "execution": {
     "iopub.execute_input": "2024-08-19T07:10:15.660974Z",
     "iopub.status.busy": "2024-08-19T07:10:15.660380Z",
     "iopub.status.idle": "2024-08-19T07:10:15.663334Z",
     "shell.execute_reply": "2024-08-19T07:10:15.662811Z",
     "shell.execute_reply.started": "2024-08-19T07:10:15.660956Z"
    },
    "tags": []
   },
   "outputs": [],
   "source": [
    "start_date = \"2022-03-01\"\n",
    "end_date = \"2022-03-31\"\n",
    "sdf = extract_passageway_cargo(start_date, end_date, hexes, raw_ais_save_path, mode=\"append\")"
   ]
  },
  {
   "cell_type": "markdown",
   "id": "f0c31d2a-5f11-42e6-89b3-cfccf3385a4e",
   "metadata": {},
   "source": [
    "# 4. Get transits"
   ]
  },
  {
   "cell_type": "markdown",
   "id": "8a78c57b-0b8f-44d5-973f-1755052cca3f",
   "metadata": {},
   "source": [
    "## 4.1 Preparation"
   ]
  },
  {
   "cell_type": "code",
   "execution_count": 7,
   "id": "1eee24e7-387e-4a51-85d2-9fbddbf6a097",
   "metadata": {
    "execution": {
     "iopub.execute_input": "2024-09-19T00:42:12.187389Z",
     "iopub.status.busy": "2024-09-19T00:42:12.186921Z",
     "iopub.status.idle": "2024-09-19T00:42:12.210931Z",
     "shell.execute_reply": "2024-09-19T00:42:12.210241Z",
     "shell.execute_reply.started": "2024-09-19T00:42:12.187371Z"
    },
    "tags": []
   },
   "outputs": [],
   "source": [
    "w = W.partitionBy(\"imo\").orderBy(\"dt_pos_utc\")\n",
    "def get_transits(sdf, min_time_diff):\n",
    "    #This function identifies the \"voyages\" of a vessel\n",
    "    #The voyage groups together consecutive messages that likely came from a single transit through the passageway\n",
    "    #A message is identified to have come from a different voyage is the time between the messages is at least a defined time period\n",
    "    sdf_groups = sdf.withColumn(\"prev_dt_pos_utc\", F.lag(\"dt_pos_utc\").over(w)) \\\n",
    "    .withColumn(\"time_diff_hours\", (F.col(\"dt_pos_utc\").cast(\"long\") - F.col(\"prev_dt_pos_utc\").cast(\"long\")) / 3600) \\\n",
    "    .withColumn(\"time_diff_flag\", F.when(F.col(\"time_diff_hours\").isNull(), 1) \\\n",
    "                                    .when(F.col(\"time_diff_hours\") > min_time_diff,1) \\\n",
    "                                    .otherwise(0)) \\\n",
    "    .withColumn(\"voyage\", F.sum(\"time_diff_flag\").over(w)) \\\n",
    "    .withColumn(\"idle_hours\", F.when(F.col(\"sog\") < 1, F.col(\"time_diff_hours\")).otherwise(0))\n",
    "    \n",
    "    #get important information from the voyages needed to identify transits and produce statistics\n",
    "    transits_sdf = sdf_groups \\\n",
    "    .groupBy(\"imo\",\"voyage\") \\\n",
    "    .agg(F.first(\"vessel_name\").alias(\"vessel_name\"),\n",
    "         F.first(\"StatCode5\").alias(\"StatCode5\"),\n",
    "         F.first(\"ShiptypeLevel2\").alias(\"ShiptypeLevel2\"),\n",
    "         F.first(\"ShiptypeLevel5\").alias(\"ShiptypeLevel5\"),\n",
    "         F.min(\"dt_pos_utc\").alias(\"arrival_date\"),\n",
    "         F.max(\"dt_pos_utc\").alias(\"departure_date\"),\n",
    "         F.min_by(\"POI\", \"dt_pos_utc\").alias(\"arrival_POI\"),\n",
    "         F.max_by(\"POI\", \"dt_pos_utc\").alias(\"departure_POI\"),\n",
    "         F.countDistinct(\"POI\").alias(\"count_distinct_POI\"),\n",
    "         F.sum(\"idle_hours\").alias(\"idle_time\")\n",
    "        ) \\\n",
    "    .filter(F.col(\"arrival_POI\")!=F.col(\"departure_POI\")) \\\n",
    "    .withColumn(\"dwell_time\",  (F.col(\"departure_date\").cast(\"long\") - F.col(\"arrival_date\").cast(\"long\")) / 3600) \\\n",
    "    .withColumn(\"direction\",     F.concat(F.col(\"arrival_POI\"), F.lit(\"-\"), F.col(\"departure_POI\"))) \\\n",
    "    .withColumn(\"complete_transit_flag\", F.col(\"direction\").isin(['North-South','South-North'])) \n",
    "    \n",
    "    return transits_sdf"
   ]
  },
  {
   "cell_type": "markdown",
   "id": "a397eafe-e75a-43e2-95cb-0eaaf584a1d2",
   "metadata": {},
   "source": [
    "## 4.2 Run"
   ]
  },
  {
   "cell_type": "code",
   "execution_count": 5,
   "id": "e47ffe68-4df7-4e2e-ba03-3f3410ec8c46",
   "metadata": {
    "execution": {
     "iopub.execute_input": "2024-09-19T00:41:38.027090Z",
     "iopub.status.busy": "2024-09-19T00:41:38.026928Z",
     "iopub.status.idle": "2024-09-19T00:41:54.437266Z",
     "shell.execute_reply": "2024-09-19T00:41:54.436506Z",
     "shell.execute_reply.started": "2024-09-19T00:41:38.027075Z"
    },
    "tags": []
   },
   "outputs": [
    {
     "name": "stdout",
     "output_type": "stream",
     "text": [
      "Total AIS messages: 1,277,826\n",
      "-RECORD 0---------------------------------------------------------\n",
      " mmsi                                    | 671659000              \n",
      " longitude                               | 28.94546833            \n",
      " latitude                                | 40.94911667            \n",
      " imo                                     | 7041053                \n",
      " vessel_name                             | PACIFIC M              \n",
      " vessel_type                             | Cargo                  \n",
      " destination                             | MIDIA                  \n",
      " sog                                     | 8.0                    \n",
      " nav_status                              | Under Way Using Engine \n",
      " dt_pos_utc                              | 2022-01-23 06:22:18    \n",
      " ShipName                                | PACIFIC M              \n",
      " MaritimeMobileServiceIdentityMMSINumber | 671659000              \n",
      " StatCode5                               | A38A2GL                \n",
      " ShiptypeLevel5                          | Livestock Carrier      \n",
      " ShiptypeLevel2                          | Dry Cargo/Passenger    \n",
      " POI                                     | South                  \n",
      " month                                   | 1                      \n",
      "only showing top 1 row\n",
      "\n"
     ]
    }
   ],
   "source": [
    "#Read the extracted data from Section 3\n",
    "sdf = spark.read.parquet(raw_ais_save_path + \"year=2022\")\n",
    "print(f\"Total AIS messages: {sdf.count():,}\")\n",
    "sdf.show(n=1, truncate=False, vertical =True)"
   ]
  },
  {
   "cell_type": "code",
   "execution_count": 8,
   "id": "0d512d8a-af90-4bc8-b3d3-b15125b9f722",
   "metadata": {
    "execution": {
     "iopub.execute_input": "2024-09-19T00:42:17.025499Z",
     "iopub.status.busy": "2024-09-19T00:42:17.024979Z",
     "iopub.status.idle": "2024-09-19T00:42:29.593869Z",
     "shell.execute_reply": "2024-09-19T00:42:29.593335Z",
     "shell.execute_reply.started": "2024-09-19T00:42:17.025474Z"
    },
    "tags": []
   },
   "outputs": [
    {
     "name": "stdout",
     "output_type": "stream",
     "text": [
      "<class 'pandas.core.frame.DataFrame'>\n",
      "RangeIndex: 8507 entries, 0 to 8506\n",
      "Data columns (total 15 columns):\n",
      " #   Column                 Non-Null Count  Dtype         \n",
      "---  ------                 --------------  -----         \n",
      " 0   imo                    8507 non-null   int32         \n",
      " 1   voyage                 8507 non-null   int64         \n",
      " 2   vessel_name            8507 non-null   object        \n",
      " 3   StatCode5              8507 non-null   object        \n",
      " 4   ShiptypeLevel2         8507 non-null   object        \n",
      " 5   ShiptypeLevel5         8507 non-null   object        \n",
      " 6   arrival_date           8507 non-null   datetime64[ns]\n",
      " 7   departure_date         8507 non-null   datetime64[ns]\n",
      " 8   arrival_POI            8507 non-null   object        \n",
      " 9   departure_POI          8507 non-null   object        \n",
      " 10  count_distinct_POI     8507 non-null   int64         \n",
      " 11  idle_time              8507 non-null   float64       \n",
      " 12  dwell_time             8507 non-null   float64       \n",
      " 13  direction              8507 non-null   object        \n",
      " 14  complete_transit_flag  8507 non-null   bool          \n",
      "dtypes: bool(1), datetime64[ns](2), float64(2), int32(1), int64(2), object(7)\n",
      "memory usage: 905.7+ KB\n"
     ]
    }
   ],
   "source": [
    "#Identify transits, using minimum time input of 12 hrs (rought estimate of transit time)\n",
    "transits_df =  get_transits(sdf, 12).toPandas()\n",
    "transits_df.info()"
   ]
  },
  {
   "cell_type": "code",
   "execution_count": 9,
   "id": "4504caea-9390-4b6a-96b3-caa71d043f79",
   "metadata": {
    "execution": {
     "iopub.execute_input": "2024-09-19T00:42:29.594971Z",
     "iopub.status.busy": "2024-09-19T00:42:29.594776Z",
     "iopub.status.idle": "2024-09-19T00:42:29.606692Z",
     "shell.execute_reply": "2024-09-19T00:42:29.606254Z",
     "shell.execute_reply.started": "2024-09-19T00:42:29.594956Z"
    },
    "tags": []
   },
   "outputs": [
    {
     "data": {
      "text/html": [
       "<div>\n",
       "<style scoped>\n",
       "    .dataframe tbody tr th:only-of-type {\n",
       "        vertical-align: middle;\n",
       "    }\n",
       "\n",
       "    .dataframe tbody tr th {\n",
       "        vertical-align: top;\n",
       "    }\n",
       "\n",
       "    .dataframe thead th {\n",
       "        text-align: right;\n",
       "    }\n",
       "</style>\n",
       "<table border=\"1\" class=\"dataframe\">\n",
       "  <thead>\n",
       "    <tr style=\"text-align: right;\">\n",
       "      <th></th>\n",
       "      <th>imo</th>\n",
       "      <th>voyage</th>\n",
       "      <th>vessel_name</th>\n",
       "      <th>StatCode5</th>\n",
       "      <th>ShiptypeLevel2</th>\n",
       "      <th>ShiptypeLevel5</th>\n",
       "      <th>arrival_date</th>\n",
       "      <th>departure_date</th>\n",
       "      <th>arrival_POI</th>\n",
       "      <th>departure_POI</th>\n",
       "      <th>count_distinct_POI</th>\n",
       "      <th>idle_time</th>\n",
       "      <th>dwell_time</th>\n",
       "      <th>direction</th>\n",
       "      <th>complete_transit_flag</th>\n",
       "    </tr>\n",
       "  </thead>\n",
       "  <tbody>\n",
       "    <tr>\n",
       "      <th>0</th>\n",
       "      <td>7113624</td>\n",
       "      <td>1</td>\n",
       "      <td>MARIONA</td>\n",
       "      <td>A38A2GL</td>\n",
       "      <td>Dry Cargo/Passenger</td>\n",
       "      <td>Livestock Carrier</td>\n",
       "      <td>2022-01-15 05:48:27</td>\n",
       "      <td>2022-01-16 15:46:05</td>\n",
       "      <td>South</td>\n",
       "      <td>North</td>\n",
       "      <td>3</td>\n",
       "      <td>20.873611</td>\n",
       "      <td>33.960556</td>\n",
       "      <td>South-North</td>\n",
       "      <td>True</td>\n",
       "    </tr>\n",
       "    <tr>\n",
       "      <th>1</th>\n",
       "      <td>7113624</td>\n",
       "      <td>2</td>\n",
       "      <td>MARIONA</td>\n",
       "      <td>A38A2GL</td>\n",
       "      <td>Dry Cargo/Passenger</td>\n",
       "      <td>Livestock Carrier</td>\n",
       "      <td>2022-01-19 14:20:29</td>\n",
       "      <td>2022-01-19 22:49:18</td>\n",
       "      <td>North</td>\n",
       "      <td>South</td>\n",
       "      <td>3</td>\n",
       "      <td>4.242222</td>\n",
       "      <td>8.480278</td>\n",
       "      <td>North-South</td>\n",
       "      <td>True</td>\n",
       "    </tr>\n",
       "    <tr>\n",
       "      <th>2</th>\n",
       "      <td>7113624</td>\n",
       "      <td>3</td>\n",
       "      <td>MARIONA</td>\n",
       "      <td>A38A2GL</td>\n",
       "      <td>Dry Cargo/Passenger</td>\n",
       "      <td>Livestock Carrier</td>\n",
       "      <td>2022-02-09 19:36:46</td>\n",
       "      <td>2022-02-10 07:58:24</td>\n",
       "      <td>South</td>\n",
       "      <td>North</td>\n",
       "      <td>3</td>\n",
       "      <td>1.389722</td>\n",
       "      <td>12.360556</td>\n",
       "      <td>South-North</td>\n",
       "      <td>True</td>\n",
       "    </tr>\n",
       "    <tr>\n",
       "      <th>3</th>\n",
       "      <td>7113624</td>\n",
       "      <td>4</td>\n",
       "      <td>MARIONA</td>\n",
       "      <td>A38A2GL</td>\n",
       "      <td>Dry Cargo/Passenger</td>\n",
       "      <td>Livestock Carrier</td>\n",
       "      <td>2022-03-04 05:20:24</td>\n",
       "      <td>2022-03-04 12:30:07</td>\n",
       "      <td>North</td>\n",
       "      <td>South</td>\n",
       "      <td>3</td>\n",
       "      <td>3.508611</td>\n",
       "      <td>7.161944</td>\n",
       "      <td>North-South</td>\n",
       "      <td>True</td>\n",
       "    </tr>\n",
       "    <tr>\n",
       "      <th>4</th>\n",
       "      <td>7113624</td>\n",
       "      <td>5</td>\n",
       "      <td>MARIONA</td>\n",
       "      <td>A38A2GL</td>\n",
       "      <td>Dry Cargo/Passenger</td>\n",
       "      <td>Livestock Carrier</td>\n",
       "      <td>2022-03-22 11:43:53</td>\n",
       "      <td>2022-03-23 23:34:06</td>\n",
       "      <td>South</td>\n",
       "      <td>North</td>\n",
       "      <td>3</td>\n",
       "      <td>23.663889</td>\n",
       "      <td>35.836944</td>\n",
       "      <td>South-North</td>\n",
       "      <td>True</td>\n",
       "    </tr>\n",
       "  </tbody>\n",
       "</table>\n",
       "</div>"
      ],
      "text/plain": [
       "       imo  voyage vessel_name StatCode5       ShiptypeLevel2  \\\n",
       "0  7113624       1     MARIONA   A38A2GL  Dry Cargo/Passenger   \n",
       "1  7113624       2     MARIONA   A38A2GL  Dry Cargo/Passenger   \n",
       "2  7113624       3     MARIONA   A38A2GL  Dry Cargo/Passenger   \n",
       "3  7113624       4     MARIONA   A38A2GL  Dry Cargo/Passenger   \n",
       "4  7113624       5     MARIONA   A38A2GL  Dry Cargo/Passenger   \n",
       "\n",
       "      ShiptypeLevel5        arrival_date      departure_date arrival_POI  \\\n",
       "0  Livestock Carrier 2022-01-15 05:48:27 2022-01-16 15:46:05       South   \n",
       "1  Livestock Carrier 2022-01-19 14:20:29 2022-01-19 22:49:18       North   \n",
       "2  Livestock Carrier 2022-02-09 19:36:46 2022-02-10 07:58:24       South   \n",
       "3  Livestock Carrier 2022-03-04 05:20:24 2022-03-04 12:30:07       North   \n",
       "4  Livestock Carrier 2022-03-22 11:43:53 2022-03-23 23:34:06       South   \n",
       "\n",
       "  departure_POI  count_distinct_POI  idle_time  dwell_time    direction  \\\n",
       "0         North                   3  20.873611   33.960556  South-North   \n",
       "1         South                   3   4.242222    8.480278  North-South   \n",
       "2         North                   3   1.389722   12.360556  South-North   \n",
       "3         South                   3   3.508611    7.161944  North-South   \n",
       "4         North                   3  23.663889   35.836944  South-North   \n",
       "\n",
       "   complete_transit_flag  \n",
       "0                   True  \n",
       "1                   True  \n",
       "2                   True  \n",
       "3                   True  \n",
       "4                   True  "
      ]
     },
     "execution_count": 9,
     "metadata": {},
     "output_type": "execute_result"
    }
   ],
   "source": [
    "#Each row of the output is a vessel transit. \n",
    "transits_df.head()"
   ]
  },
  {
   "cell_type": "code",
   "execution_count": 19,
   "id": "8ceda1a5-c982-47d4-bfae-cbc1f946c728",
   "metadata": {
    "execution": {
     "iopub.execute_input": "2024-09-19T01:06:33.429787Z",
     "iopub.status.busy": "2024-09-19T01:06:33.429278Z",
     "iopub.status.idle": "2024-09-19T01:06:33.521893Z",
     "shell.execute_reply": "2024-09-19T01:06:33.521388Z",
     "shell.execute_reply.started": "2024-09-19T01:06:33.429765Z"
    }
   },
   "outputs": [
    {
     "data": {
      "text/html": [
       "<div>\n",
       "<style scoped>\n",
       "    .dataframe tbody tr th:only-of-type {\n",
       "        vertical-align: middle;\n",
       "    }\n",
       "\n",
       "    .dataframe tbody tr th {\n",
       "        vertical-align: top;\n",
       "    }\n",
       "\n",
       "    .dataframe thead th {\n",
       "        text-align: right;\n",
       "    }\n",
       "</style>\n",
       "<table border=\"1\" class=\"dataframe\">\n",
       "  <thead>\n",
       "    <tr style=\"text-align: right;\">\n",
       "      <th></th>\n",
       "      <th>StatCode5</th>\n",
       "      <th>ShiptypeLevel2</th>\n",
       "      <th>ShiptypeLevel5</th>\n",
       "      <th>Admin Vessel Type</th>\n",
       "    </tr>\n",
       "  </thead>\n",
       "  <tbody>\n",
       "    <tr>\n",
       "      <th>0</th>\n",
       "      <td>A11B2TG</td>\n",
       "      <td>Tankers</td>\n",
       "      <td>LPG Tanker</td>\n",
       "      <td>LPG</td>\n",
       "    </tr>\n",
       "    <tr>\n",
       "      <th>1</th>\n",
       "      <td>A11B2TH</td>\n",
       "      <td>Tankers</td>\n",
       "      <td>LPG/Chemical Tanker</td>\n",
       "      <td>Chemical Tanker, Other Tankers</td>\n",
       "    </tr>\n",
       "    <tr>\n",
       "      <th>2</th>\n",
       "      <td>A12A2TC</td>\n",
       "      <td>Tankers</td>\n",
       "      <td>Chemical Tanker</td>\n",
       "      <td>Chemical Tanker, Other Tankers</td>\n",
       "    </tr>\n",
       "    <tr>\n",
       "      <th>3</th>\n",
       "      <td>A12B2TR</td>\n",
       "      <td>Tankers</td>\n",
       "      <td>Chemical/Products Tanker</td>\n",
       "      <td>Chemical Tanker, Other Tankers</td>\n",
       "    </tr>\n",
       "    <tr>\n",
       "      <th>4</th>\n",
       "      <td>A12D2LV</td>\n",
       "      <td>Tankers</td>\n",
       "      <td>Vegetable Oil Tanker</td>\n",
       "      <td>Chemical Tanker, Other Tankers</td>\n",
       "    </tr>\n",
       "  </tbody>\n",
       "</table>\n",
       "</div>"
      ],
      "text/plain": [
       "  StatCode5 ShiptypeLevel2            ShiptypeLevel5  \\\n",
       "0   A11B2TG        Tankers                LPG Tanker   \n",
       "1   A11B2TH        Tankers       LPG/Chemical Tanker   \n",
       "2   A12A2TC        Tankers           Chemical Tanker   \n",
       "3   A12B2TR        Tankers  Chemical/Products Tanker   \n",
       "4   A12D2LV        Tankers      Vegetable Oil Tanker   \n",
       "\n",
       "                Admin Vessel Type  \n",
       "0                             LPG  \n",
       "1  Chemical Tanker, Other Tankers  \n",
       "2  Chemical Tanker, Other Tankers  \n",
       "3  Chemical Tanker, Other Tankers  \n",
       "4  Chemical Tanker, Other Tankers  "
      ]
     },
     "execution_count": 19,
     "metadata": {},
     "output_type": "execute_result"
    }
   ],
   "source": [
    "#Read the vessel type mapping between IHS and SCA vessel types. Note that the mapping was done by the authors based on available information from the two sources\n",
    "request = requests.get(f\"https://api.github.com/repos/cherrylchico/ais_passageways/contents/data/IHS Bosporus Vessel Category Mapping.csv\")\n",
    "mapping = pd.read_csv(StringIO(base64.b64decode(request.json()['content']).decode('utf-8')))\n",
    "mapping.head()"
   ]
  },
  {
   "cell_type": "code",
   "execution_count": 20,
   "id": "6ec35fd0-f4d8-48f2-bd68-f7c93c7e41bf",
   "metadata": {
    "execution": {
     "iopub.execute_input": "2024-09-19T01:07:09.776790Z",
     "iopub.status.busy": "2024-09-19T01:07:09.776138Z",
     "iopub.status.idle": "2024-09-19T01:07:09.782638Z",
     "shell.execute_reply": "2024-09-19T01:07:09.782150Z",
     "shell.execute_reply.started": "2024-09-19T01:07:09.776760Z"
    }
   },
   "outputs": [],
   "source": [
    "#Determine SCA vessel type to vessel transits\n",
    "transits_df[\"Admin_Vessel_Type\"] = transits_df['StatCode5'].map(mapping.set_index(\"StatCode5\")[\"Admin Vessel Type\"])"
   ]
  },
  {
   "cell_type": "markdown",
   "id": "6d540e2a-7c09-4435-967d-e85ee37a2820",
   "metadata": {
    "tags": []
   },
   "source": [
    "# 5. Statistics"
   ]
  },
  {
   "cell_type": "markdown",
   "id": "1c76960f-ea98-4d99-a796-7c89fb97c0d7",
   "metadata": {},
   "source": [
    "## 5.1 Count of Transit"
   ]
  },
  {
   "cell_type": "code",
   "execution_count": 10,
   "id": "9f9aee22-a8a5-4ab5-8750-0c4a666d1d6f",
   "metadata": {
    "execution": {
     "iopub.execute_input": "2024-09-19T00:42:34.168881Z",
     "iopub.status.busy": "2024-09-19T00:42:34.168363Z",
     "iopub.status.idle": "2024-09-19T00:42:34.173528Z",
     "shell.execute_reply": "2024-09-19T00:42:34.172990Z",
     "shell.execute_reply.started": "2024-09-19T00:42:34.168861Z"
    },
    "tags": []
   },
   "outputs": [
    {
     "name": "stdout",
     "output_type": "stream",
     "text": [
      "\n",
      "Total Transits: 8,507\n",
      "Complete Transits: 8,415\n",
      "Additional Transits due to Redundancy: 1.08%\n",
      "\n"
     ]
    }
   ],
   "source": [
    "n = transits_df[~transits_df['complete_transit_flag'] ].shape[0] / transits_df.shape[0]\n",
    "print(f\"\"\"\n",
    "Total Transits: {transits_df.shape[0]:,}\n",
    "Complete Transits: {transits_df['complete_transit_flag'].sum():,}\n",
    "Additional Transits due to Redundancy: {n*100:.2f}%\n",
    "\"\"\")"
   ]
  },
  {
   "cell_type": "code",
   "execution_count": 11,
   "id": "68435797-1abe-4ec3-9c95-b6c1ea6bc6e0",
   "metadata": {
    "execution": {
     "iopub.execute_input": "2024-09-19T00:42:34.663242Z",
     "iopub.status.busy": "2024-09-19T00:42:34.662734Z",
     "iopub.status.idle": "2024-09-19T00:42:34.672611Z",
     "shell.execute_reply": "2024-09-19T00:42:34.672119Z",
     "shell.execute_reply.started": "2024-09-19T00:42:34.663222Z"
    },
    "tags": []
   },
   "outputs": [
    {
     "data": {
      "text/html": [
       "<div>\n",
       "<style scoped>\n",
       "    .dataframe tbody tr th:only-of-type {\n",
       "        vertical-align: middle;\n",
       "    }\n",
       "\n",
       "    .dataframe tbody tr th {\n",
       "        vertical-align: top;\n",
       "    }\n",
       "\n",
       "    .dataframe thead th {\n",
       "        text-align: right;\n",
       "    }\n",
       "</style>\n",
       "<table border=\"1\" class=\"dataframe\">\n",
       "  <thead>\n",
       "    <tr style=\"text-align: right;\">\n",
       "      <th></th>\n",
       "      <th>North/South</th>\n",
       "      <th>North/South/Middle</th>\n",
       "      <th>% increase</th>\n",
       "    </tr>\n",
       "    <tr>\n",
       "      <th>ShiptypeLevel2</th>\n",
       "      <th></th>\n",
       "      <th></th>\n",
       "      <th></th>\n",
       "    </tr>\n",
       "  </thead>\n",
       "  <tbody>\n",
       "    <tr>\n",
       "      <th>Bulk Carriers</th>\n",
       "      <td>2018</td>\n",
       "      <td>2028</td>\n",
       "      <td>0.495540</td>\n",
       "    </tr>\n",
       "    <tr>\n",
       "      <th>Dry Cargo/Passenger</th>\n",
       "      <td>4334</td>\n",
       "      <td>4401</td>\n",
       "      <td>1.545916</td>\n",
       "    </tr>\n",
       "    <tr>\n",
       "      <th>Tankers</th>\n",
       "      <td>2063</td>\n",
       "      <td>2078</td>\n",
       "      <td>0.727096</td>\n",
       "    </tr>\n",
       "  </tbody>\n",
       "</table>\n",
       "</div>"
      ],
      "text/plain": [
       "                     North/South  North/South/Middle  % increase\n",
       "ShiptypeLevel2                                                  \n",
       "Bulk Carriers               2018                2028    0.495540\n",
       "Dry Cargo/Passenger         4334                4401    1.545916\n",
       "Tankers                     2063                2078    0.727096"
      ]
     },
     "execution_count": 11,
     "metadata": {},
     "output_type": "execute_result"
    }
   ],
   "source": [
    "count_per_poi = transits_df.groupby(\"ShiptypeLevel2\") \\\n",
    ".agg({'complete_transit_flag':'sum', 'imo':'count'}) \\\n",
    ".rename(columns={'complete_transit_flag':'North/South', 'imo':'North/South/Middle'})\n",
    "count_per_poi['% increase'] = 100*((count_per_poi['North/South/Middle'] - count_per_poi['North/South']) / count_per_poi['North/South'])\n",
    "count_per_poi\n",
    "\n",
    "#Count of Transits According to Vessel Type and POIs captured\n",
    "#Note: North/South means that the start and end POIs are both in either North or South. Thus it also contains those that passed Middle\n",
    "#North/South/Middle has Middle as either start or end POIs. "
   ]
  },
  {
   "cell_type": "markdown",
   "id": "d328b911-8fbe-457c-9770-617609ae525d",
   "metadata": {
    "tags": []
   },
   "source": [
    "## 5.2 Daily Count"
   ]
  },
  {
   "cell_type": "code",
   "execution_count": 26,
   "id": "2acebac4-bf01-4510-b920-4aab7db57eb9",
   "metadata": {
    "execution": {
     "iopub.execute_input": "2024-08-19T07:11:38.476126Z",
     "iopub.status.busy": "2024-08-19T07:11:38.475654Z",
     "iopub.status.idle": "2024-08-19T07:11:38.499475Z",
     "shell.execute_reply": "2024-08-19T07:11:38.499032Z",
     "shell.execute_reply.started": "2024-08-19T07:11:38.476108Z"
    },
    "tags": []
   },
   "outputs": [
    {
     "data": {
      "text/html": [
       "<div>\n",
       "<style scoped>\n",
       "    .dataframe tbody tr th:only-of-type {\n",
       "        vertical-align: middle;\n",
       "    }\n",
       "\n",
       "    .dataframe tbody tr th {\n",
       "        vertical-align: top;\n",
       "    }\n",
       "\n",
       "    .dataframe thead th {\n",
       "        text-align: right;\n",
       "    }\n",
       "</style>\n",
       "<table border=\"1\" class=\"dataframe\">\n",
       "  <thead>\n",
       "    <tr style=\"text-align: right;\">\n",
       "      <th></th>\n",
       "      <th>transit_per_arrival_day</th>\n",
       "      <th>complete_transit_per_arrival_day</th>\n",
       "      <th>complete_transit_dwell_time</th>\n",
       "      <th>complete_transit_idle_time</th>\n",
       "    </tr>\n",
       "    <tr>\n",
       "      <th>arrival_date</th>\n",
       "      <th></th>\n",
       "      <th></th>\n",
       "      <th></th>\n",
       "      <th></th>\n",
       "    </tr>\n",
       "  </thead>\n",
       "  <tbody>\n",
       "    <tr>\n",
       "      <th>2022-01-01</th>\n",
       "      <td>166</td>\n",
       "      <td>158</td>\n",
       "      <td>9.662083</td>\n",
       "      <td>5.207083</td>\n",
       "    </tr>\n",
       "    <tr>\n",
       "      <th>2022-01-02</th>\n",
       "      <td>108</td>\n",
       "      <td>107</td>\n",
       "      <td>4.859167</td>\n",
       "      <td>0.000000</td>\n",
       "    </tr>\n",
       "    <tr>\n",
       "      <th>2022-01-03</th>\n",
       "      <td>99</td>\n",
       "      <td>98</td>\n",
       "      <td>8.860972</td>\n",
       "      <td>3.890417</td>\n",
       "    </tr>\n",
       "    <tr>\n",
       "      <th>2022-01-04</th>\n",
       "      <td>94</td>\n",
       "      <td>93</td>\n",
       "      <td>4.594167</td>\n",
       "      <td>0.055556</td>\n",
       "    </tr>\n",
       "    <tr>\n",
       "      <th>2022-01-05</th>\n",
       "      <td>103</td>\n",
       "      <td>103</td>\n",
       "      <td>7.400000</td>\n",
       "      <td>0.344444</td>\n",
       "    </tr>\n",
       "    <tr>\n",
       "      <th>...</th>\n",
       "      <td>...</td>\n",
       "      <td>...</td>\n",
       "      <td>...</td>\n",
       "      <td>...</td>\n",
       "    </tr>\n",
       "    <tr>\n",
       "      <th>2022-03-27</th>\n",
       "      <td>127</td>\n",
       "      <td>127</td>\n",
       "      <td>6.117778</td>\n",
       "      <td>0.000000</td>\n",
       "    </tr>\n",
       "    <tr>\n",
       "      <th>2022-03-28</th>\n",
       "      <td>62</td>\n",
       "      <td>62</td>\n",
       "      <td>6.873194</td>\n",
       "      <td>0.000000</td>\n",
       "    </tr>\n",
       "    <tr>\n",
       "      <th>2022-03-29</th>\n",
       "      <td>105</td>\n",
       "      <td>105</td>\n",
       "      <td>6.427778</td>\n",
       "      <td>0.149722</td>\n",
       "    </tr>\n",
       "    <tr>\n",
       "      <th>2022-03-30</th>\n",
       "      <td>80</td>\n",
       "      <td>78</td>\n",
       "      <td>6.556944</td>\n",
       "      <td>0.801111</td>\n",
       "    </tr>\n",
       "    <tr>\n",
       "      <th>2022-03-31</th>\n",
       "      <td>66</td>\n",
       "      <td>64</td>\n",
       "      <td>4.334861</td>\n",
       "      <td>0.000000</td>\n",
       "    </tr>\n",
       "  </tbody>\n",
       "</table>\n",
       "<p>90 rows × 4 columns</p>\n",
       "</div>"
      ],
      "text/plain": [
       "              transit_per_arrival_day  complete_transit_per_arrival_day  \\\n",
       "arrival_date                                                              \n",
       "2022-01-01                        166                               158   \n",
       "2022-01-02                        108                               107   \n",
       "2022-01-03                         99                                98   \n",
       "2022-01-04                         94                                93   \n",
       "2022-01-05                        103                               103   \n",
       "...                               ...                               ...   \n",
       "2022-03-27                        127                               127   \n",
       "2022-03-28                         62                                62   \n",
       "2022-03-29                        105                               105   \n",
       "2022-03-30                         80                                78   \n",
       "2022-03-31                         66                                64   \n",
       "\n",
       "              complete_transit_dwell_time  complete_transit_idle_time  \n",
       "arrival_date                                                           \n",
       "2022-01-01                       9.662083                    5.207083  \n",
       "2022-01-02                       4.859167                    0.000000  \n",
       "2022-01-03                       8.860972                    3.890417  \n",
       "2022-01-04                       4.594167                    0.055556  \n",
       "2022-01-05                       7.400000                    0.344444  \n",
       "...                                   ...                         ...  \n",
       "2022-03-27                       6.117778                    0.000000  \n",
       "2022-03-28                       6.873194                    0.000000  \n",
       "2022-03-29                       6.427778                    0.149722  \n",
       "2022-03-30                       6.556944                    0.801111  \n",
       "2022-03-31                       4.334861                    0.000000  \n",
       "\n",
       "[90 rows x 4 columns]"
      ]
     },
     "execution_count": 26,
     "metadata": {},
     "output_type": "execute_result"
    }
   ],
   "source": [
    "transits_stats = transits_df \\\n",
    ".groupby(pd.Grouper(key=\"arrival_date\", freq=\"D\")) \\\n",
    ".agg({'imo':'count'}) \\\n",
    ".rename(columns={'imo':'transit_per_arrival_day'}) \\\n",
    ".join(transits_df[transits_df['complete_transit_flag']] \\\n",
    "      .groupby(pd.Grouper(key=\"arrival_date\", freq=\"D\")) \\\n",
    "      .agg({'imo':'count',\n",
    "            'dwell_time':'median',\n",
    "            'idle_time':'median'}) \\\n",
    "     .rename(columns={'imo':'complete_transit_per_arrival_day',\n",
    "                      'dwell_time':'complete_transit_dwell_time',\n",
    "                      'idle_time':'complete_transit_idle_time'})\n",
    "     )\n",
    "transits_stats"
   ]
  },
  {
   "cell_type": "code",
   "execution_count": 27,
   "id": "af5faaf3-b592-4b0d-ad4b-929c06fc5172",
   "metadata": {
    "execution": {
     "iopub.execute_input": "2024-08-19T07:12:00.069086Z",
     "iopub.status.busy": "2024-08-19T07:12:00.068554Z",
     "iopub.status.idle": "2024-08-19T07:12:00.075132Z",
     "shell.execute_reply": "2024-08-19T07:12:00.074661Z",
     "shell.execute_reply.started": "2024-08-19T07:12:00.069067Z"
    },
    "tags": []
   },
   "outputs": [
    {
     "data": {
      "text/html": [
       "<a download=\"Bosporus Strait Daily Transits 202201-202203 using AIS.csv\" href=\"data:text/csv;base64,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\" target=\"_blank\">Bosporus Strait Daily Transits 202201-202203 using AIS.csv</a>"
      ],
      "text/plain": [
       "<IPython.core.display.HTML object>"
      ]
     },
     "execution_count": 27,
     "metadata": {},
     "output_type": "execute_result"
    }
   ],
   "source": [
    "#To get the outputs for  local storage\n",
    "af.create_download_link(transits_stats, \"Bosporus Strait Daily Transits 202201-202203 using AIS.csv\",\"Bosporus Strait Daily Transits 202201-202203 using AIS.csv\")"
   ]
  },
  {
   "cell_type": "markdown",
   "id": "e3daff89-b098-4e12-bfd3-8ab0ccb5e838",
   "metadata": {},
   "source": [
    "## 5.3 Comparison with Admin Data "
   ]
  },
  {
   "cell_type": "code",
   "execution_count": 21,
   "id": "95752a9d-040a-4fe0-b7ba-80b3e48012a1",
   "metadata": {
    "execution": {
     "iopub.execute_input": "2024-09-19T01:08:39.732130Z",
     "iopub.status.busy": "2024-09-19T01:08:39.731671Z",
     "iopub.status.idle": "2024-09-19T01:08:39.822567Z",
     "shell.execute_reply": "2024-09-19T01:08:39.822015Z",
     "shell.execute_reply.started": "2024-09-19T01:08:39.732112Z"
    }
   },
   "outputs": [
    {
     "data": {
      "text/html": [
       "<div>\n",
       "<style scoped>\n",
       "    .dataframe tbody tr th:only-of-type {\n",
       "        vertical-align: middle;\n",
       "    }\n",
       "\n",
       "    .dataframe tbody tr th {\n",
       "        vertical-align: top;\n",
       "    }\n",
       "\n",
       "    .dataframe thead th {\n",
       "        text-align: right;\n",
       "    }\n",
       "</style>\n",
       "<table border=\"1\" class=\"dataframe\">\n",
       "  <thead>\n",
       "    <tr style=\"text-align: right;\">\n",
       "      <th></th>\n",
       "      <th>Vessel Type Mapped</th>\n",
       "      <th>Date</th>\n",
       "      <th>Admin Vessel Type</th>\n",
       "      <th>Transit Count</th>\n",
       "    </tr>\n",
       "  </thead>\n",
       "  <tbody>\n",
       "    <tr>\n",
       "      <th>0</th>\n",
       "      <td>Bulk Carrier</td>\n",
       "      <td>01/01/2022</td>\n",
       "      <td>Barç (Barge / Barge Carrier)</td>\n",
       "      <td>0</td>\n",
       "    </tr>\n",
       "    <tr>\n",
       "      <th>1</th>\n",
       "      <td>Bulk Carrier</td>\n",
       "      <td>01/01/2022</td>\n",
       "      <td>Dökme Yük Gemisi (Bulk Carrier)</td>\n",
       "      <td>725</td>\n",
       "    </tr>\n",
       "    <tr>\n",
       "      <th>2</th>\n",
       "      <td>Cement Carrier</td>\n",
       "      <td>01/01/2022</td>\n",
       "      <td>Çimento Gemisi (Cement Carrier)</td>\n",
       "      <td>1</td>\n",
       "    </tr>\n",
       "    <tr>\n",
       "      <th>3</th>\n",
       "      <td>Container Ship</td>\n",
       "      <td>01/01/2022</td>\n",
       "      <td>Konteyner Gemisi (Container Ship)</td>\n",
       "      <td>227</td>\n",
       "    </tr>\n",
       "    <tr>\n",
       "      <th>4</th>\n",
       "      <td>Exclude</td>\n",
       "      <td>01/01/2022</td>\n",
       "      <td>Feribot (Ferry)</td>\n",
       "      <td>0</td>\n",
       "    </tr>\n",
       "  </tbody>\n",
       "</table>\n",
       "</div>"
      ],
      "text/plain": [
       "  Vessel Type Mapped        Date                  Admin Vessel Type  \\\n",
       "0       Bulk Carrier  01/01/2022       Barç (Barge / Barge Carrier)   \n",
       "1       Bulk Carrier  01/01/2022    Dökme Yük Gemisi (Bulk Carrier)   \n",
       "2     Cement Carrier  01/01/2022   Çimento Gemisi (Cement Carrier)    \n",
       "3     Container Ship  01/01/2022  Konteyner Gemisi (Container Ship)   \n",
       "4            Exclude  01/01/2022                    Feribot (Ferry)   \n",
       "\n",
       "   Transit Count  \n",
       "0              0  \n",
       "1            725  \n",
       "2              1  \n",
       "3            227  \n",
       "4              0  "
      ]
     },
     "execution_count": 21,
     "metadata": {},
     "output_type": "execute_result"
    }
   ],
   "source": [
    "#Read the transit statistics from Suez Canal Authority\n",
    "request = requests.get(f\"https://api.github.com/repos/cherrylchico/ais_passageways/contents/data/Bosporus Strait Transits Admin 202201-202203.csv\")\n",
    "admin = pd.read_csv(StringIO(base64.b64decode(request.json()['content']).decode('utf-8')))\n",
    "admin.head()"
   ]
  },
  {
   "cell_type": "code",
   "execution_count": 23,
   "id": "80a17129-acaa-4352-a828-d05cc5b8082c",
   "metadata": {
    "execution": {
     "iopub.execute_input": "2024-09-19T01:09:21.087103Z",
     "iopub.status.busy": "2024-09-19T01:09:21.086497Z",
     "iopub.status.idle": "2024-09-19T01:09:21.101960Z",
     "shell.execute_reply": "2024-09-19T01:09:21.101453Z",
     "shell.execute_reply.started": "2024-09-19T01:09:21.087085Z"
    },
    "tags": []
   },
   "outputs": [
    {
     "data": {
      "text/html": [
       "<div>\n",
       "<style scoped>\n",
       "    .dataframe tbody tr th:only-of-type {\n",
       "        vertical-align: middle;\n",
       "    }\n",
       "\n",
       "    .dataframe tbody tr th {\n",
       "        vertical-align: top;\n",
       "    }\n",
       "\n",
       "    .dataframe thead tr th {\n",
       "        text-align: left;\n",
       "    }\n",
       "\n",
       "    .dataframe thead tr:last-of-type th {\n",
       "        text-align: right;\n",
       "    }\n",
       "</style>\n",
       "<table border=\"1\" class=\"dataframe\">\n",
       "  <thead>\n",
       "    <tr>\n",
       "      <th></th>\n",
       "      <th colspan=\"12\" halign=\"left\">Transit Count</th>\n",
       "    </tr>\n",
       "    <tr>\n",
       "      <th>Vessel Type Mapped</th>\n",
       "      <th>Bulk Carrier</th>\n",
       "      <th>Cement Carrier</th>\n",
       "      <th>Chemical Tanker, Other Tankers</th>\n",
       "      <th>Container Ship</th>\n",
       "      <th>Exclude</th>\n",
       "      <th>General Cargo Ship</th>\n",
       "      <th>LPG</th>\n",
       "      <th>Livestock Carrier</th>\n",
       "      <th>Passenger Ship</th>\n",
       "      <th>Refrigerated Cargo Ship</th>\n",
       "      <th>RoRo</th>\n",
       "      <th>Vehicle Carrier</th>\n",
       "    </tr>\n",
       "    <tr>\n",
       "      <th>Date</th>\n",
       "      <th></th>\n",
       "      <th></th>\n",
       "      <th></th>\n",
       "      <th></th>\n",
       "      <th></th>\n",
       "      <th></th>\n",
       "      <th></th>\n",
       "      <th></th>\n",
       "      <th></th>\n",
       "      <th></th>\n",
       "      <th></th>\n",
       "      <th></th>\n",
       "    </tr>\n",
       "  </thead>\n",
       "  <tbody>\n",
       "    <tr>\n",
       "      <th>01/01/2022</th>\n",
       "      <td>725</td>\n",
       "      <td>1</td>\n",
       "      <td>708</td>\n",
       "      <td>227</td>\n",
       "      <td>48</td>\n",
       "      <td>1262</td>\n",
       "      <td>47</td>\n",
       "      <td>35</td>\n",
       "      <td>14</td>\n",
       "      <td>4</td>\n",
       "      <td>20</td>\n",
       "      <td>3</td>\n",
       "    </tr>\n",
       "    <tr>\n",
       "      <th>01/02/2022</th>\n",
       "      <td>761</td>\n",
       "      <td>4</td>\n",
       "      <td>680</td>\n",
       "      <td>227</td>\n",
       "      <td>46</td>\n",
       "      <td>1251</td>\n",
       "      <td>42</td>\n",
       "      <td>46</td>\n",
       "      <td>15</td>\n",
       "      <td>2</td>\n",
       "      <td>14</td>\n",
       "      <td>6</td>\n",
       "    </tr>\n",
       "    <tr>\n",
       "      <th>01/03/2022</th>\n",
       "      <td>491</td>\n",
       "      <td>1</td>\n",
       "      <td>613</td>\n",
       "      <td>183</td>\n",
       "      <td>49</td>\n",
       "      <td>1122</td>\n",
       "      <td>29</td>\n",
       "      <td>35</td>\n",
       "      <td>3</td>\n",
       "      <td>0</td>\n",
       "      <td>15</td>\n",
       "      <td>9</td>\n",
       "    </tr>\n",
       "  </tbody>\n",
       "</table>\n",
       "</div>"
      ],
      "text/plain": [
       "                   Transit Count                 \\\n",
       "Vessel Type Mapped  Bulk Carrier Cement Carrier   \n",
       "Date                                              \n",
       "01/01/2022                   725              1   \n",
       "01/02/2022                   761              4   \n",
       "01/03/2022                   491              1   \n",
       "\n",
       "                                                                          \\\n",
       "Vessel Type Mapped Chemical Tanker, Other Tankers Container Ship Exclude   \n",
       "Date                                                                       \n",
       "01/01/2022                                    708            227      48   \n",
       "01/02/2022                                    680            227      46   \n",
       "01/03/2022                                    613            183      49   \n",
       "\n",
       "                                                                            \\\n",
       "Vessel Type Mapped General Cargo Ship LPG Livestock Carrier Passenger Ship   \n",
       "Date                                                                         \n",
       "01/01/2022                       1262  47                35             14   \n",
       "01/02/2022                       1251  42                46             15   \n",
       "01/03/2022                       1122  29                35              3   \n",
       "\n",
       "                                                                 \n",
       "Vessel Type Mapped Refrigerated Cargo Ship RoRo Vehicle Carrier  \n",
       "Date                                                             \n",
       "01/01/2022                               4   20               3  \n",
       "01/02/2022                               2   14               6  \n",
       "01/03/2022                               0   15               9  "
      ]
     },
     "execution_count": 23,
     "metadata": {},
     "output_type": "execute_result"
    }
   ],
   "source": [
    "admin.pivot_table(index=[\"Date\"], columns=['Vessel Type Mapped'], values=['Transit Count'], aggfunc=\"sum\")"
   ]
  },
  {
   "cell_type": "code",
   "execution_count": 27,
   "id": "07d1d789-d76d-4aee-bae2-7dd370a56b7f",
   "metadata": {
    "execution": {
     "iopub.execute_input": "2024-09-19T01:11:01.699871Z",
     "iopub.status.busy": "2024-09-19T01:11:01.699293Z",
     "iopub.status.idle": "2024-09-19T01:11:01.721316Z",
     "shell.execute_reply": "2024-09-19T01:11:01.720775Z",
     "shell.execute_reply.started": "2024-09-19T01:11:01.699844Z"
    },
    "tags": []
   },
   "outputs": [
    {
     "data": {
      "text/html": [
       "<div>\n",
       "<style scoped>\n",
       "    .dataframe tbody tr th:only-of-type {\n",
       "        vertical-align: middle;\n",
       "    }\n",
       "\n",
       "    .dataframe tbody tr th {\n",
       "        vertical-align: top;\n",
       "    }\n",
       "\n",
       "    .dataframe thead th {\n",
       "        text-align: right;\n",
       "    }\n",
       "</style>\n",
       "<table border=\"1\" class=\"dataframe\">\n",
       "  <thead>\n",
       "    <tr style=\"text-align: right;\">\n",
       "      <th>Admin_Vessel_Type</th>\n",
       "      <th>Bulk Carrier</th>\n",
       "      <th>Cement Carrier</th>\n",
       "      <th>Chemical Tanker, Other Tankers</th>\n",
       "      <th>Container Ship</th>\n",
       "      <th>General Cargo Ship</th>\n",
       "      <th>LPG</th>\n",
       "      <th>Livestock Carrier</th>\n",
       "      <th>Passenger Ship</th>\n",
       "      <th>Refrigerated Cargo Ship</th>\n",
       "      <th>RoRo</th>\n",
       "      <th>Vehicle Carrier</th>\n",
       "    </tr>\n",
       "    <tr>\n",
       "      <th>arrival_date</th>\n",
       "      <th></th>\n",
       "      <th></th>\n",
       "      <th></th>\n",
       "      <th></th>\n",
       "      <th></th>\n",
       "      <th></th>\n",
       "      <th></th>\n",
       "      <th></th>\n",
       "      <th></th>\n",
       "      <th></th>\n",
       "      <th></th>\n",
       "    </tr>\n",
       "  </thead>\n",
       "  <tbody>\n",
       "    <tr>\n",
       "      <th>2022-01-31</th>\n",
       "      <td>752.0</td>\n",
       "      <td>1.0</td>\n",
       "      <td>709.0</td>\n",
       "      <td>234.0</td>\n",
       "      <td>1263.0</td>\n",
       "      <td>47.0</td>\n",
       "      <td>38.0</td>\n",
       "      <td>2.0</td>\n",
       "      <td>4.0</td>\n",
       "      <td>20.0</td>\n",
       "      <td>21.0</td>\n",
       "    </tr>\n",
       "    <tr>\n",
       "      <th>2022-02-28</th>\n",
       "      <td>790.0</td>\n",
       "      <td>4.0</td>\n",
       "      <td>671.0</td>\n",
       "      <td>217.0</td>\n",
       "      <td>1213.0</td>\n",
       "      <td>42.0</td>\n",
       "      <td>42.0</td>\n",
       "      <td>2.0</td>\n",
       "      <td>2.0</td>\n",
       "      <td>13.0</td>\n",
       "      <td>17.0</td>\n",
       "    </tr>\n",
       "    <tr>\n",
       "      <th>2022-03-31</th>\n",
       "      <td>480.0</td>\n",
       "      <td>1.0</td>\n",
       "      <td>580.0</td>\n",
       "      <td>174.0</td>\n",
       "      <td>1073.0</td>\n",
       "      <td>29.0</td>\n",
       "      <td>34.0</td>\n",
       "      <td>2.0</td>\n",
       "      <td>NaN</td>\n",
       "      <td>13.0</td>\n",
       "      <td>17.0</td>\n",
       "    </tr>\n",
       "  </tbody>\n",
       "</table>\n",
       "</div>"
      ],
      "text/plain": [
       "Admin_Vessel_Type  Bulk Carrier  Cement Carrier  \\\n",
       "arrival_date                                      \n",
       "2022-01-31                752.0             1.0   \n",
       "2022-02-28                790.0             4.0   \n",
       "2022-03-31                480.0             1.0   \n",
       "\n",
       "Admin_Vessel_Type  Chemical Tanker, Other Tankers  Container Ship  \\\n",
       "arrival_date                                                        \n",
       "2022-01-31                                  709.0           234.0   \n",
       "2022-02-28                                  671.0           217.0   \n",
       "2022-03-31                                  580.0           174.0   \n",
       "\n",
       "Admin_Vessel_Type  General Cargo Ship   LPG  Livestock Carrier  \\\n",
       "arrival_date                                                     \n",
       "2022-01-31                     1263.0  47.0               38.0   \n",
       "2022-02-28                     1213.0  42.0               42.0   \n",
       "2022-03-31                     1073.0  29.0               34.0   \n",
       "\n",
       "Admin_Vessel_Type  Passenger Ship  Refrigerated Cargo Ship  RoRo  \\\n",
       "arrival_date                                                       \n",
       "2022-01-31                    2.0                      4.0  20.0   \n",
       "2022-02-28                    2.0                      2.0  13.0   \n",
       "2022-03-31                    2.0                      NaN  13.0   \n",
       "\n",
       "Admin_Vessel_Type  Vehicle Carrier  \n",
       "arrival_date                        \n",
       "2022-01-31                    21.0  \n",
       "2022-02-28                    17.0  \n",
       "2022-03-31                    17.0  "
      ]
     },
     "execution_count": 27,
     "metadata": {},
     "output_type": "execute_result"
    }
   ],
   "source": [
    "transits_stats = \\\n",
    "transits_df.pivot_table(index=pd.Grouper(key=\"arrival_date\", freq=\"M\"),\n",
    "                        columns=\"Admin_Vessel_Type\",\n",
    "                        aggfunc=\"size\")\n",
    "transits_stats"
   ]
  },
  {
   "cell_type": "code",
   "execution_count": 28,
   "id": "6e21c8df-04a2-4b2f-afab-e152d1ffa97c",
   "metadata": {
    "execution": {
     "iopub.execute_input": "2024-09-19T01:12:11.885003Z",
     "iopub.status.busy": "2024-09-19T01:12:11.884549Z",
     "iopub.status.idle": "2024-09-19T01:12:11.889856Z",
     "shell.execute_reply": "2024-09-19T01:12:11.889303Z",
     "shell.execute_reply.started": "2024-09-19T01:12:11.884981Z"
    }
   },
   "outputs": [
    {
     "data": {
      "text/html": [
       "<a download=\"Bosporus Strait Monthly Transits 202201-202203 using AIS.csv\" href=\"data:text/csv;base64,YXJyaXZhbF9kYXRlLEJ1bGsgQ2FycmllcixDZW1lbnQgQ2FycmllciwiQ2hlbWljYWwgVGFua2VyLCBPdGhlciBUYW5rZXJzIixDb250YWluZXIgU2hpcCxHZW5lcmFsIENhcmdvIFNoaXAsTFBHLExpdmVzdG9jayBDYXJyaWVyLFBhc3NlbmdlciBTaGlwLFJlZnJpZ2VyYXRlZCBDYXJnbyBTaGlwLFJvUm8sVmVoaWNsZSBDYXJyaWVyCjIwMjItMDEtMzEsNzUyLjAsMS4wLDcwOS4wLDIzNC4wLDEyNjMuMCw0Ny4wLDM4LjAsMi4wLDQuMCwyMC4wLDIxLjAKMjAyMi0wMi0yOCw3OTAuMCw0LjAsNjcxLjAsMjE3LjAsMTIxMy4wLDQyLjAsNDIuMCwyLjAsMi4wLDEzLjAsMTcuMAoyMDIyLTAzLTMxLDQ4MC4wLDEuMCw1ODAuMCwxNzQuMCwxMDczLjAsMjkuMCwzNC4wLDIuMCwsMTMuMCwxNy4wCg==\" target=\"_blank\">Bosporus Strait Monthly Transits 202201-202203 using AIS.csv</a>"
      ],
      "text/plain": [
       "<IPython.core.display.HTML object>"
      ]
     },
     "execution_count": 28,
     "metadata": {},
     "output_type": "execute_result"
    }
   ],
   "source": [
    "af.create_download_link(transits_stats, \"Bosporus Strait Monthly Transits 202201-202203 using AIS.csv\",  \"Bosporus Strait Monthly Transits 202201-202203 using AIS.csv\")"
   ]
  },
  {
   "cell_type": "code",
   "execution_count": null,
   "id": "e4a766a3-b138-4f50-98bb-f7def40efe12",
   "metadata": {},
   "outputs": [],
   "source": []
  }
 ],
 "metadata": {
  "kernelspec": {
   "display_name": "pyspark3.5 ais2.9",
   "language": "python3",
   "name": "pyspark-ais-nosedona-202403"
  },
  "language_info": {
   "codemirror_mode": {
    "name": "ipython",
    "version": 3
   },
   "file_extension": ".py",
   "mimetype": "text/x-python",
   "name": "python",
   "nbconvert_exporter": "python",
   "pygments_lexer": "ipython3",
   "version": "3.10.10"
  }
 },
 "nbformat": 4,
 "nbformat_minor": 5
}
