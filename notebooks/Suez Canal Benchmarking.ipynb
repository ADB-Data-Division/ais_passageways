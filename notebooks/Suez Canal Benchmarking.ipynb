{
 "cells": [
  {
   "cell_type": "markdown",
   "id": "652a38c0-d9e5-420c-a9ad-af660af5762e",
   "metadata": {},
   "source": [
    "# 0. Notes:\n",
    "\n",
    "This notebook determines vessels that transited Suez Canal in 2019 using AIS data. The results are compared against official data from Suez Canal. \n",
    "\n",
    "Connect to the UN Global Platform and use kernel `pyspark3.5 ais2.9`"
   ]
  },
  {
   "cell_type": "markdown",
   "id": "7a8e0465-1c2a-47be-b2d6-5517a252368e",
   "metadata": {},
   "source": [
    "# 1. Preparation"
   ]
  },
  {
   "cell_type": "code",
   "execution_count": 1,
   "id": "f3eafc0f-f552-46be-9f35-333f6207e97e",
   "metadata": {
    "execution": {
     "iopub.execute_input": "2024-08-21T08:59:45.237380Z",
     "iopub.status.busy": "2024-08-21T08:59:45.236906Z",
     "iopub.status.idle": "2024-08-21T08:59:45.987667Z",
     "shell.execute_reply": "2024-08-21T08:59:45.987164Z",
     "shell.execute_reply.started": "2024-08-21T08:59:45.237361Z"
    },
    "tags": []
   },
   "outputs": [
    {
     "name": "stdout",
     "output_type": "stream",
     "text": [
      "generated new fontManager\n"
     ]
    }
   ],
   "source": [
    "import geopandas as gpd\n",
    "from shapely.geometry import mapping, Polygon\n",
    "\n",
    "from pyspark.sql import functions as F\n",
    "from pyspark.sql import Window as W\n",
    "from ais import functions as af\n",
    "import h3.api.numpy_int as h3int\n",
    "\n",
    "import matplotlib.pyplot as plt"
   ]
  },
  {
   "cell_type": "code",
   "execution_count": 2,
   "id": "1ffffcc8-a54e-43ad-adb4-6c9f639933e4",
   "metadata": {
    "execution": {
     "iopub.execute_input": "2024-08-21T08:59:45.989122Z",
     "iopub.status.busy": "2024-08-21T08:59:45.988558Z",
     "iopub.status.idle": "2024-08-21T08:59:51.790006Z",
     "shell.execute_reply": "2024-08-21T08:59:51.789111Z",
     "shell.execute_reply.started": "2024-08-21T08:59:45.989104Z"
    },
    "tags": []
   },
   "outputs": [
    {
     "name": "stdout",
     "output_type": "stream",
     "text": [
      "Skipping SedonaKepler import, verify if keplergl is installed\n",
      "Skipping SedonaPyDeck import, verify if pydeck is installed\n"
     ]
    }
   ],
   "source": [
    "from sedona.spark import *\n",
    "\n",
    "sedona = SedonaContext.create(spark)"
   ]
  },
  {
   "cell_type": "code",
   "execution_count": 3,
   "id": "b9077e4d-03ff-4dc1-955c-c02242f70a1e",
   "metadata": {
    "execution": {
     "iopub.execute_input": "2024-08-21T08:59:51.791277Z",
     "iopub.status.busy": "2024-08-21T08:59:51.790988Z",
     "iopub.status.idle": "2024-08-21T08:59:51.794857Z",
     "shell.execute_reply": "2024-08-21T08:59:51.794299Z",
     "shell.execute_reply.started": "2024-08-21T08:59:51.791253Z"
    },
    "tags": []
   },
   "outputs": [],
   "source": [
    "import requests\n",
    "import base64\n",
    "import os\n",
    "import pandas as pd\n",
    "from io import StringIO"
   ]
  },
  {
   "cell_type": "code",
   "execution_count": 4,
   "id": "e1aa0cbf-8a49-496f-b840-114429a7549d",
   "metadata": {
    "execution": {
     "iopub.execute_input": "2024-08-21T08:59:51.796910Z",
     "iopub.status.busy": "2024-08-21T08:59:51.796509Z",
     "iopub.status.idle": "2024-08-21T08:59:51.802555Z",
     "shell.execute_reply": "2024-08-21T08:59:51.801987Z",
     "shell.execute_reply.started": "2024-08-21T08:59:51.796888Z"
    },
    "tags": []
   },
   "outputs": [],
   "source": [
    "#change the unique prefix to create your own unique storage path\n",
    "unique_prefix = \"cherryl\"\n",
    "\n",
    "passageway = \"suez_canal\"\n",
    "raw_ais_save_path = os.environ[\"USER_TEMP_S3PATH\"] + f\"{unique_prefix}/ais_passageways/{passageway}/ais/\""
   ]
  },
  {
   "cell_type": "markdown",
   "id": "55405b2f-277e-41e3-9aad-021f8787e555",
   "metadata": {
    "tags": []
   },
   "source": [
    "# 2. Geometries"
   ]
  },
  {
   "cell_type": "code",
   "execution_count": 5,
   "id": "1df1295b-b9c8-4b3e-9e4b-9e6527ec2d06",
   "metadata": {
    "execution": {
     "iopub.execute_input": "2024-08-21T08:59:51.803850Z",
     "iopub.status.busy": "2024-08-21T08:59:51.803510Z",
     "iopub.status.idle": "2024-08-21T08:59:51.939126Z",
     "shell.execute_reply": "2024-08-21T08:59:51.938674Z",
     "shell.execute_reply.started": "2024-08-21T08:59:51.803833Z"
    },
    "tags": []
   },
   "outputs": [
    {
     "data": {
      "text/html": [
       "<div>\n",
       "<style scoped>\n",
       "    .dataframe tbody tr th:only-of-type {\n",
       "        vertical-align: middle;\n",
       "    }\n",
       "\n",
       "    .dataframe tbody tr th {\n",
       "        vertical-align: top;\n",
       "    }\n",
       "\n",
       "    .dataframe thead th {\n",
       "        text-align: right;\n",
       "    }\n",
       "</style>\n",
       "<table border=\"1\" class=\"dataframe\">\n",
       "  <thead>\n",
       "    <tr style=\"text-align: right;\">\n",
       "      <th></th>\n",
       "      <th>Label</th>\n",
       "      <th>POI</th>\n",
       "      <th>geometry</th>\n",
       "    </tr>\n",
       "  </thead>\n",
       "  <tbody>\n",
       "    <tr>\n",
       "      <th>0</th>\n",
       "      <td>North Anchorage</td>\n",
       "      <td>North</td>\n",
       "      <td>POLYGON ((32.37009 31.32180, 32.57678 31.32166...</td>\n",
       "    </tr>\n",
       "    <tr>\n",
       "      <th>1</th>\n",
       "      <td>Great Bitter Lake</td>\n",
       "      <td>Middle</td>\n",
       "      <td>POLYGON ((32.28697 30.34816, 32.31222 30.28512...</td>\n",
       "    </tr>\n",
       "    <tr>\n",
       "      <th>2</th>\n",
       "      <td>South Anchorage</td>\n",
       "      <td>South</td>\n",
       "      <td>POLYGON ((32.52850 29.93424, 32.48518 29.92898...</td>\n",
       "    </tr>\n",
       "  </tbody>\n",
       "</table>\n",
       "</div>"
      ],
      "text/plain": [
       "               Label     POI  \\\n",
       "0    North Anchorage   North   \n",
       "1  Great Bitter Lake  Middle   \n",
       "2    South Anchorage   South   \n",
       "\n",
       "                                            geometry  \n",
       "0  POLYGON ((32.37009 31.32180, 32.57678 31.32166...  \n",
       "1  POLYGON ((32.28697 30.34816, 32.31222 30.28512...  \n",
       "2  POLYGON ((32.52850 29.93424, 32.48518 29.92898...  "
      ]
     },
     "execution_count": 5,
     "metadata": {},
     "output_type": "execute_result"
    }
   ],
   "source": [
    "request = requests.get(f\"https://api.github.com/repos/cherrylchico/ais_passageways/contents/data/{passageway}.geojson\")\n",
    "gdf = gpd.read_file(base64.b64decode(request.json()['content']).decode('utf-8'))\n",
    "gdf"
   ]
  },
  {
   "cell_type": "code",
   "execution_count": 6,
   "id": "7bc0f0fd-03d4-4e29-b5c2-28c22ddba635",
   "metadata": {
    "execution": {
     "iopub.execute_input": "2024-08-21T08:59:51.940130Z",
     "iopub.status.busy": "2024-08-21T08:59:51.939796Z",
     "iopub.status.idle": "2024-08-21T08:59:52.080093Z",
     "shell.execute_reply": "2024-08-21T08:59:52.079624Z",
     "shell.execute_reply.started": "2024-08-21T08:59:51.940096Z"
    },
    "tags": []
   },
   "outputs": [
    {
     "name": "stdout",
     "output_type": "stream",
     "text": [
      "Input polygon is too small to be filled in with hexagon of resolution: 4\n",
      "Attempting to fit a hex of resolution: 5...\n",
      "A hex of resolution: 5 fits the input polygon\n",
      "Finding it's parent in resolution: 4\n",
      "Input polygon is too small to be filled in with hexagon of resolution: 4\n",
      "Attempting to fit a hex of resolution: 5...\n",
      "A hex of resolution: 5 fits the input polygon\n",
      "Finding it's parent in resolution: 4\n",
      "\n",
      "H3 count:19\n"
     ]
    },
    {
     "name": "stderr",
     "output_type": "stream",
     "text": [
      "WARNING: there are hex ids contained in more than 1 polygon\n"
     ]
    },
    {
     "data": {
      "text/plain": [
       "<Axes: >"
      ]
     },
     "execution_count": 6,
     "metadata": {},
     "output_type": "execute_result"
    },
    {
     "data": {
      "image/png": "[encoded data removed]",
      "text/plain": [
       "<Figure size 640x480 with 1 Axes>"
      ]
     },
     "metadata": {},
     "output_type": "display_data"
    }
   ],
   "source": [
    "#We use H3 indices (https://h3geo.org/docs) as a geo-spatial filter for AIS data in the UNGP. \n",
    "#To get all AIS data within the AOIs, we overfill the geometries with H3 indices, then use the list of H3 indices as filter.  \n",
    "#To ensure that the filtering is efficient, the number of H3 indices should small and the area outside of the AOI should also be small\n",
    "#here, we chose H3 index resolution 4. \n",
    "\n",
    "h3_resolution = 4\n",
    "\n",
    "inputs = [(row['POI'], mapping(row['geometry'])) for index, row in gdf.iterrows()]\n",
    "hex_df = af.polygon_to_hex_df(inputs, h3_resolution, overfill=True)\n",
    "hexes = hex_df['hex_id'].drop_duplicates().tolist()\n",
    "\n",
    "print(f\"\\nH3 count:{len(hexes)}\")\n",
    "hexes = hex_df['hex_id'].drop_duplicates().tolist()\n",
    "h3_gdf = gpd.GeoDataFrame([[\"H3\",Polygon(h3int.h3_set_to_multi_polygon(hexes, geo_json=True)[0][0])]], columns=['h3','geometry'], crs=4326)\n",
    "fig, ax = plt.subplots()\n",
    "gdf.plot(ax=ax)\n",
    "h3_gdf.plot(ax=ax, facecolor=\"none\")"
   ]
  },
  {
   "cell_type": "markdown",
   "id": "c470c96e-b84f-4813-bc86-b5ede4ca73b5",
   "metadata": {
    "tags": []
   },
   "source": [
    "# 3. Extract AIS data and save to S3"
   ]
  },
  {
   "cell_type": "markdown",
   "id": "d2dd6d63-3b92-4de3-8935-ecaad6bd4501",
   "metadata": {
    "tags": []
   },
   "source": [
    "## 3.1 Preparation"
   ]
  },
  {
   "cell_type": "code",
   "execution_count": 7,
   "id": "9b82dbca-0849-4307-b526-381dc7ccaada",
   "metadata": {
    "execution": {
     "iopub.execute_input": "2024-08-21T08:59:52.081184Z",
     "iopub.status.busy": "2024-08-21T08:59:52.080743Z",
     "iopub.status.idle": "2024-08-21T08:59:52.085437Z",
     "shell.execute_reply": "2024-08-21T08:59:52.083415Z",
     "shell.execute_reply.started": "2024-08-21T08:59:52.081169Z"
    },
    "tags": []
   },
   "outputs": [],
   "source": [
    "ais_cols = [\n",
    " 'mmsi',\n",
    " 'longitude',\n",
    " 'latitude',\n",
    " 'imo',\n",
    " 'vessel_name',\n",
    " 'vessel_type',\n",
    " 'destination',\n",
    " 'sog',\n",
    " 'nav_status',\n",
    " 'dt_pos_utc',\n",
    " 'draught']"
   ]
  },
  {
   "cell_type": "code",
   "execution_count": 8,
   "id": "23dcad69-aa66-46d8-a3cc-d75b2445c146",
   "metadata": {
    "execution": {
     "iopub.execute_input": "2024-08-21T07:18:12.664004Z",
     "iopub.status.busy": "2024-08-21T07:18:12.663629Z",
     "iopub.status.idle": "2024-08-21T07:18:26.505692Z",
     "shell.execute_reply": "2024-08-21T07:18:26.505021Z",
     "shell.execute_reply.started": "2024-08-21T07:18:12.663986Z"
    },
    "tags": []
   },
   "outputs": [],
   "source": [
    "#Read Ship Register datasets as a spark dataframe, use version 20210609 which is the earliest version available in UNGP\n",
    "#note that af module is from the ais package \n",
    "\n",
    "#The ShipData table provides information on the vessel's IMO, vessel type described by the StatCode5 and ShiptypeLevel5\n",
    "ihs = af.read_ihs_table(spark, \"ShipData.CSV\", version=\"20210609\") \\\n",
    ".select(\"ShipName\",\"LRIMOShipNo\",\"MaritimeMobileServiceIdentityMMSINumber\",\"StatCode5\",\"ShiptypeLevel5\", \"Draught\",\"Deadweight\",\"GrossTonnage\",\"NetTonnage\")\n",
    "\n",
    "#We use the tblShipTypeCodes table to get more information on the vessel type.\n",
    "#We select only \"Cargo-carrying vessels\" which is identified by ShiptypeLevel2 information\n",
    "ihs_statcode = af.read_ihs_table(spark, \"tblShipTypeCodes.CSV\",  version=\"20210609\") \\\n",
    ".select(\"StatCode5\",\"ShiptypeLevel2\") \\\n",
    ".filter(F.col(\"ShiptypeLevel2\").isin([\"Bulk Carriers\", \"Dry Cargo/Passenger\", \"Tankers\"]))"
   ]
  },
  {
   "cell_type": "code",
   "execution_count": 9,
   "id": "d7f8167f-a5e6-4fce-b539-36255af431d0",
   "metadata": {
    "execution": {
     "iopub.execute_input": "2024-08-21T07:18:26.507015Z",
     "iopub.status.busy": "2024-08-21T07:18:26.506756Z",
     "iopub.status.idle": "2024-08-21T07:18:26.568445Z",
     "shell.execute_reply": "2024-08-21T07:18:26.567850Z",
     "shell.execute_reply.started": "2024-08-21T07:18:26.506998Z"
    },
    "tags": []
   },
   "outputs": [],
   "source": [
    "#Convert geometries to spark dataframe to prepare for spark processing of geospatial data\n",
    "sdf_poly = sedona.createDataFrame(gdf[['geometry','POI']])"
   ]
  },
  {
   "cell_type": "code",
   "execution_count": 10,
   "id": "6aeb8326-4127-47fb-9821-19b563bbee14",
   "metadata": {
    "execution": {
     "iopub.execute_input": "2024-08-21T07:18:26.569284Z",
     "iopub.status.busy": "2024-08-21T07:18:26.569130Z",
     "iopub.status.idle": "2024-08-21T07:18:26.574066Z",
     "shell.execute_reply": "2024-08-21T07:18:26.573551Z",
     "shell.execute_reply.started": "2024-08-21T07:18:26.569270Z"
    },
    "tags": []
   },
   "outputs": [],
   "source": [
    "def extract_passageway_cargo(start_date, end_date, hexes, raw_ais_save_path, mode=\"overwrite\"):\n",
    "    #Read AIS within the start date and end date where hex ids are within the hexes list\n",
    "    sdf = af.get_ais(spark, start_date=start_date, end_date=end_date, h3_list = hexes)\n",
    "    \n",
    "    #Get only AIS where location is within the POI geometries\n",
    "    sdf_w_point = sdf.withColumn(\"point\", F.expr(\"ST_Point(longitude, latitude)\"))\n",
    "    sdf_w_point.createOrReplaceTempView(\"ais_temp\")\n",
    "    sdf_poly.createOrReplaceTempView(\"poly_temp\")\n",
    "    sdf_poly_filter = spark.sql(\"\"\" select  * from ais_temp, poly_temp where ST_Within(point, geometry)\"\"\")\n",
    "    \n",
    "    #Get only AIS where the type is cargo related\n",
    "    sdf_cargo = sdf_poly_filter.join(ihs.withColumnsRenamed({\"LRIMOShipNo\":\"imo\",'Draught':'DesignDraught'}), how=\"inner\", on=['imo']) \\\n",
    "    .join(ihs_statcode, how=\"inner\", on=['StatCode5']) \\\n",
    "    .select(*ais_cols, *ihs.drop(\"LRIMOShipNo\").withColumnRenamed(\"Draught\",\"DesignDraught\").columns, \"POI\") \\\n",
    "    .withColumns({\"year\":F.year(\"dt_pos_utc\"),\"month\":F.month(\"dt_pos_utc\")})\n",
    "    \n",
    "    #Save in S3\n",
    "    sdf_cargo.write.mode(mode).partitionBy(\"year\",\"month\").parquet(raw_ais_save_path)\n",
    "    return sdf_cargo"
   ]
  },
  {
   "cell_type": "markdown",
   "id": "f4a07ccf-47e0-486d-a212-9a9b3d5079ec",
   "metadata": {
    "tags": []
   },
   "source": [
    "## 3.2 Run"
   ]
  },
  {
   "cell_type": "code",
   "execution_count": 11,
   "id": "d21c5d3d-9795-416c-80d5-06ec0139f92a",
   "metadata": {
    "execution": {
     "iopub.execute_input": "2024-08-21T07:18:26.575523Z",
     "iopub.status.busy": "2024-08-21T07:18:26.575314Z",
     "iopub.status.idle": "2024-08-21T07:18:26.583331Z",
     "shell.execute_reply": "2024-08-21T07:18:26.582835Z",
     "shell.execute_reply.started": "2024-08-21T07:18:26.575509Z"
    },
    "tags": []
   },
   "outputs": [],
   "source": [
    "# #The code is run per month\n",
    "\n",
    "# start_date = \"2019-01-01\"\n",
    "# end_date = \"2019-01-31\"\n",
    "# sdf = extract_passageway_cargo(start_date, end_date, hexes, raw_ais_save_path, mode=\"overwrite\")"
   ]
  },
  {
   "cell_type": "code",
   "execution_count": 12,
   "id": "52cedb81-f7ec-481c-ba4c-abdaed31add4",
   "metadata": {
    "execution": {
     "iopub.execute_input": "2024-08-21T07:18:26.584105Z",
     "iopub.status.busy": "2024-08-21T07:18:26.583912Z",
     "iopub.status.idle": "2024-08-21T07:18:26.594479Z",
     "shell.execute_reply": "2024-08-21T07:18:26.593951Z",
     "shell.execute_reply.started": "2024-08-21T07:18:26.584091Z"
    },
    "tags": []
   },
   "outputs": [],
   "source": [
    "# start_date = \"2019-02-01\"\n",
    "# end_date = \"2019-02-28\"\n",
    "# sdf = extract_passageway_cargo(start_date, end_date, hexes, raw_ais_save_path, mode=\"append\")"
   ]
  },
  {
   "cell_type": "code",
   "execution_count": 13,
   "id": "8aa6139b-c54d-4829-bf15-0357e1b50d79",
   "metadata": {
    "execution": {
     "iopub.execute_input": "2024-08-21T07:18:26.595440Z",
     "iopub.status.busy": "2024-08-21T07:18:26.595160Z",
     "iopub.status.idle": "2024-08-21T07:18:26.601511Z",
     "shell.execute_reply": "2024-08-21T07:18:26.600997Z",
     "shell.execute_reply.started": "2024-08-21T07:18:26.595426Z"
    },
    "tags": []
   },
   "outputs": [],
   "source": [
    "# start_date = \"2019-03-01\"\n",
    "# end_date = \"2019-03-31\"\n",
    "# sdf = extract_passageway_cargo(start_date, end_date, hexes, raw_ais_save_path, mode=\"append\")"
   ]
  },
  {
   "cell_type": "code",
   "execution_count": 14,
   "id": "174d29e5-0f58-43bb-a907-17a028fbaae8",
   "metadata": {
    "execution": {
     "iopub.execute_input": "2024-08-21T07:18:26.602380Z",
     "iopub.status.busy": "2024-08-21T07:18:26.602088Z",
     "iopub.status.idle": "2024-08-21T07:18:26.605868Z",
     "shell.execute_reply": "2024-08-21T07:18:26.605399Z",
     "shell.execute_reply.started": "2024-08-21T07:18:26.602366Z"
    },
    "tags": []
   },
   "outputs": [],
   "source": [
    "# start_date = \"2019-04-01\"\n",
    "# end_date = \"2019-04-30\"\n",
    "# sdf = extract_passageway_cargo(start_date, end_date, hexes, raw_ais_save_path, mode=\"append\")"
   ]
  },
  {
   "cell_type": "code",
   "execution_count": 15,
   "id": "bcb442df-eaa6-47dc-9353-774448f0e256",
   "metadata": {
    "execution": {
     "iopub.execute_input": "2024-08-21T07:18:26.606798Z",
     "iopub.status.busy": "2024-08-21T07:18:26.606473Z",
     "iopub.status.idle": "2024-08-21T07:18:26.610848Z",
     "shell.execute_reply": "2024-08-21T07:18:26.610396Z",
     "shell.execute_reply.started": "2024-08-21T07:18:26.606782Z"
    },
    "tags": []
   },
   "outputs": [],
   "source": [
    "# start_date = \"2019-05-01\"\n",
    "# end_date = \"2019-05-31\"\n",
    "# sdf = extract_passageway_cargo(start_date, end_date, hexes, raw_ais_save_path, mode=\"append\")"
   ]
  },
  {
   "cell_type": "code",
   "execution_count": 16,
   "id": "1d7f9593-faac-4b4b-a625-b569d6a25421",
   "metadata": {
    "execution": {
     "iopub.execute_input": "2024-08-21T07:18:26.611624Z",
     "iopub.status.busy": "2024-08-21T07:18:26.611477Z",
     "iopub.status.idle": "2024-08-21T07:18:26.614714Z",
     "shell.execute_reply": "2024-08-21T07:18:26.614273Z",
     "shell.execute_reply.started": "2024-08-21T07:18:26.611610Z"
    },
    "tags": []
   },
   "outputs": [],
   "source": [
    "# start_date = \"2019-06-01\"\n",
    "# end_date = \"2019-06-30\"\n",
    "# sdf = extract_passageway_cargo(start_date, end_date, hexes, raw_ais_save_path, mode=\"append\")"
   ]
  },
  {
   "cell_type": "code",
   "execution_count": 17,
   "id": "3a339d7f-f344-489c-b036-01498f9c400c",
   "metadata": {
    "execution": {
     "iopub.execute_input": "2024-08-21T07:18:26.616413Z",
     "iopub.status.busy": "2024-08-21T07:18:26.616152Z",
     "iopub.status.idle": "2024-08-21T07:18:26.619316Z",
     "shell.execute_reply": "2024-08-21T07:18:26.618865Z",
     "shell.execute_reply.started": "2024-08-21T07:18:26.616397Z"
    },
    "tags": []
   },
   "outputs": [],
   "source": [
    "# start_date = \"2019-07-01\"\n",
    "# end_date = \"2019-07-31\"\n",
    "# sdf = extract_passageway_cargo(start_date, end_date, hexes, raw_ais_save_path, mode=\"append\")"
   ]
  },
  {
   "cell_type": "code",
   "execution_count": 18,
   "id": "8a21c29d-e4ce-4256-b1fe-362133a9adbe",
   "metadata": {
    "execution": {
     "iopub.execute_input": "2024-08-21T07:18:26.620157Z",
     "iopub.status.busy": "2024-08-21T07:18:26.619860Z",
     "iopub.status.idle": "2024-08-21T07:18:26.623330Z",
     "shell.execute_reply": "2024-08-21T07:18:26.622909Z",
     "shell.execute_reply.started": "2024-08-21T07:18:26.620142Z"
    },
    "tags": []
   },
   "outputs": [],
   "source": [
    "# start_date = \"2019-08-01\"\n",
    "# end_date = \"2019-08-31\"\n",
    "# sdf = extract_passageway_cargo(start_date, end_date, hexes, raw_ais_save_path, mode=\"append\")"
   ]
  },
  {
   "cell_type": "code",
   "execution_count": 19,
   "id": "5829a1eb-0f5d-4c32-842f-8ce890e9735b",
   "metadata": {
    "execution": {
     "iopub.execute_input": "2024-08-21T07:18:26.624112Z",
     "iopub.status.busy": "2024-08-21T07:18:26.623971Z",
     "iopub.status.idle": "2024-08-21T07:18:26.627267Z",
     "shell.execute_reply": "2024-08-21T07:18:26.626846Z",
     "shell.execute_reply.started": "2024-08-21T07:18:26.624099Z"
    },
    "tags": []
   },
   "outputs": [],
   "source": [
    "# start_date = \"2019-09-01\"\n",
    "# end_date = \"2019-09-30\"\n",
    "# sdf = extract_passageway_cargo(start_date, end_date, hexes, raw_ais_save_path, mode=\"append\")"
   ]
  },
  {
   "cell_type": "code",
   "execution_count": 20,
   "id": "c22c2688-a198-4f31-815f-f2cf7af584af",
   "metadata": {
    "execution": {
     "iopub.execute_input": "2024-08-21T07:18:26.627934Z",
     "iopub.status.busy": "2024-08-21T07:18:26.627768Z",
     "iopub.status.idle": "2024-08-21T07:18:26.631271Z",
     "shell.execute_reply": "2024-08-21T07:18:26.630776Z",
     "shell.execute_reply.started": "2024-08-21T07:18:26.627920Z"
    },
    "tags": []
   },
   "outputs": [],
   "source": [
    "# start_date = \"2019-10-01\"\n",
    "# end_date = \"2019-10-31\"\n",
    "# sdf = extract_passageway_cargo(start_date, end_date, hexes, raw_ais_save_path, mode=\"append\")"
   ]
  },
  {
   "cell_type": "code",
   "execution_count": 21,
   "id": "740e0531-01f2-4f32-b54a-21e9880adca3",
   "metadata": {
    "execution": {
     "iopub.execute_input": "2024-08-21T07:18:26.632117Z",
     "iopub.status.busy": "2024-08-21T07:18:26.631824Z",
     "iopub.status.idle": "2024-08-21T07:18:26.634947Z",
     "shell.execute_reply": "2024-08-21T07:18:26.634404Z",
     "shell.execute_reply.started": "2024-08-21T07:18:26.632102Z"
    },
    "tags": []
   },
   "outputs": [],
   "source": [
    "# start_date = \"2019-11-01\"\n",
    "# end_date = \"2019-11-30\"\n",
    "# sdf = extract_passageway_cargo(start_date, end_date, hexes, raw_ais_save_path, mode=\"append\")"
   ]
  },
  {
   "cell_type": "code",
   "execution_count": 22,
   "id": "01f326e4-50b5-42a4-9326-a0fc5664003a",
   "metadata": {
    "execution": {
     "iopub.execute_input": "2024-08-21T07:18:26.635826Z",
     "iopub.status.busy": "2024-08-21T07:18:26.635679Z",
     "iopub.status.idle": "2024-08-21T07:18:26.638882Z",
     "shell.execute_reply": "2024-08-21T07:18:26.638369Z",
     "shell.execute_reply.started": "2024-08-21T07:18:26.635813Z"
    },
    "tags": []
   },
   "outputs": [],
   "source": [
    "# start_date = \"2019-12-01\"\n",
    "# end_date = \"2019-12-31\"\n",
    "# sdf = extract_passageway_cargo(start_date, end_date, hexes, raw_ais_save_path, mode=\"append\")"
   ]
  },
  {
   "cell_type": "markdown",
   "id": "f0c31d2a-5f11-42e6-89b3-cfccf3385a4e",
   "metadata": {},
   "source": [
    "# 4. Get transits"
   ]
  },
  {
   "cell_type": "markdown",
   "id": "8a78c57b-0b8f-44d5-973f-1755052cca3f",
   "metadata": {},
   "source": [
    "## 4.1 Preparation"
   ]
  },
  {
   "cell_type": "code",
   "execution_count": 14,
   "id": "1eee24e7-387e-4a51-85d2-9fbddbf6a097",
   "metadata": {
    "execution": {
     "iopub.execute_input": "2024-08-21T09:02:43.489850Z",
     "iopub.status.busy": "2024-08-21T09:02:43.489386Z",
     "iopub.status.idle": "2024-08-21T09:02:43.501927Z",
     "shell.execute_reply": "2024-08-21T09:02:43.501377Z",
     "shell.execute_reply.started": "2024-08-21T09:02:43.489831Z"
    },
    "tags": []
   },
   "outputs": [],
   "source": [
    "w = W.partitionBy(\"imo\").orderBy(\"dt_pos_utc\")\n",
    "def get_transits(sdf, min_time_diff):\n",
    "    #This function identifies the \"voyages\" of a vessel\n",
    "    #The voyage groups together consecutive messages that likely came from a single transit through the Suez canal\n",
    "    #A message is identified to have come from a different voyage is the time between the messages is at least a defined time period\n",
    "    sdf_groups = sdf.withColumn(\"prev_dt_pos_utc\", F.lag(\"dt_pos_utc\").over(w)) \\\n",
    "    .withColumn(\"time_diff_hours\", (F.col(\"dt_pos_utc\").cast(\"long\") - F.col(\"prev_dt_pos_utc\").cast(\"long\")) / 3600) \\\n",
    "    .withColumn(\"time_diff_flag\", F.when(F.col(\"time_diff_hours\").isNull(), 1) \\\n",
    "                                    .when(F.col(\"time_diff_hours\") > min_time_diff,1) \\\n",
    "                                    .otherwise(0)) \\\n",
    "    .withColumn(\"voyage\", F.sum(\"time_diff_flag\").over(w)) \\\n",
    "    .withColumn(\"idle_hours\", F.when(F.col(\"sog\") < 1, F.col(\"time_diff_hours\")).otherwise(0))\n",
    "    \n",
    "    #get important information from the voyages needed to identify transits and produce statistics\n",
    "    transits_sdf = sdf_groups \\\n",
    "    .groupBy(\"imo\",\"voyage\") \\\n",
    "    .agg(F.first(\"vessel_name\").alias(\"vessel_name\"),\n",
    "         F.first(\"StatCode5\").alias(\"StatCode5\"),\n",
    "         F.first(\"ShiptypeLevel5\").alias(\"ShiptypeLevel5\"),\n",
    "         F.first(\"NetTonnage\").alias(\"NetTonnage\"),\n",
    "         F.min(\"dt_pos_utc\").alias(\"arrival_date\"),\n",
    "         F.max(\"dt_pos_utc\").alias(\"departure_date\"),\n",
    "         F.min_by(\"POI\", \"dt_pos_utc\").alias(\"arrival_POI\"),\n",
    "         F.max_by(\"POI\", \"dt_pos_utc\").alias(\"departure_POI\"),\n",
    "         F.countDistinct(\"POI\").alias(\"count_distinct_POI\"),\n",
    "         F.sum(\"idle_hours\").alias(\"idle_time\")\n",
    "        ) \\\n",
    "    .filter(F.col(\"arrival_POI\")!=F.col(\"departure_POI\")) \\\n",
    "    .withColumn(\"dwell_time\",  (F.col(\"departure_date\").cast(\"long\") - F.col(\"arrival_date\").cast(\"long\")) / 3600) \\\n",
    "    .withColumn(\"direction\",     F.concat(F.col(\"arrival_POI\"), F.lit(\"-\"), F.col(\"departure_POI\"))) \\\n",
    "    .withColumn(\"complete_transit_flag\", F.col(\"direction\").isin(['North-South','South-North'])) \n",
    "    \n",
    "    return transits_sdf"
   ]
  },
  {
   "cell_type": "markdown",
   "id": "a397eafe-e75a-43e2-95cb-0eaaf584a1d2",
   "metadata": {},
   "source": [
    "## 4.2 Run"
   ]
  },
  {
   "cell_type": "code",
   "execution_count": 15,
   "id": "e47ffe68-4df7-4e2e-ba03-3f3410ec8c46",
   "metadata": {
    "execution": {
     "iopub.execute_input": "2024-08-21T09:02:43.863827Z",
     "iopub.status.busy": "2024-08-21T09:02:43.863367Z",
     "iopub.status.idle": "2024-08-21T09:03:05.740047Z",
     "shell.execute_reply": "2024-08-21T09:03:05.739249Z",
     "shell.execute_reply.started": "2024-08-21T09:02:43.863809Z"
    },
    "tags": []
   },
   "outputs": [
    {
     "name": "stdout",
     "output_type": "stream",
     "text": [
      "Total AIS messages: 3,189,213\n",
      "-RECORD 0---------------------------------------------------------\n",
      " mmsi                                    | 671659000              \n",
      " longitude                               | 32.52384166666667      \n",
      " latitude                                | 29.797431666666668     \n",
      " imo                                     | 7041053                \n",
      " vessel_name                             | PACIFIC M              \n",
      " vessel_type                             | Cargo                  \n",
      " destination                             | ELAQABA/JO             \n",
      " sog                                     | 10.6                   \n",
      " nav_status                              | Under Way Using Engine \n",
      " dt_pos_utc                              | 2019-07-03 16:17:35    \n",
      " draught                                 | 5.4                    \n",
      " ShipName                                | PACIFIC M              \n",
      " MaritimeMobileServiceIdentityMMSINumber | 671659000              \n",
      " StatCode5                               | A38A2GL                \n",
      " ShiptypeLevel5                          | Livestock Carrier      \n",
      " DesignDraught                           | 5.511                  \n",
      " Deadweight                              | 2568                   \n",
      " GrossTonnage                            | 2987                   \n",
      " NetTonnage                              | 1864                   \n",
      " POI                                     | South                  \n",
      " month                                   | 7                      \n",
      "only showing top 1 row\n",
      "\n"
     ]
    }
   ],
   "source": [
    "#Read the extracted data from Section 3\n",
    "sdf = spark.read.parquet(raw_ais_save_path + \"year=2019/\")\n",
    "print(f\"Total AIS messages: {sdf.count():,}\")\n",
    "sdf.show(n=1, truncate=False, vertical =True)"
   ]
  },
  {
   "cell_type": "code",
   "execution_count": 16,
   "id": "0d512d8a-af90-4bc8-b3d3-b15125b9f722",
   "metadata": {
    "execution": {
     "iopub.execute_input": "2024-08-21T09:03:05.741930Z",
     "iopub.status.busy": "2024-08-21T09:03:05.741375Z",
     "iopub.status.idle": "2024-08-21T09:03:32.998624Z",
     "shell.execute_reply": "2024-08-21T09:03:32.998127Z",
     "shell.execute_reply.started": "2024-08-21T09:03:05.741904Z"
    },
    "tags": []
   },
   "outputs": [
    {
     "name": "stdout",
     "output_type": "stream",
     "text": [
      "<class 'pandas.core.frame.DataFrame'>\n",
      "RangeIndex: 17824 entries, 0 to 17823\n",
      "Data columns (total 15 columns):\n",
      " #   Column                 Non-Null Count  Dtype         \n",
      "---  ------                 --------------  -----         \n",
      " 0   imo                    17824 non-null  int32         \n",
      " 1   voyage                 17824 non-null  int64         \n",
      " 2   vessel_name            17824 non-null  object        \n",
      " 3   StatCode5              17824 non-null  object        \n",
      " 4   ShiptypeLevel5         17824 non-null  object        \n",
      " 5   NetTonnage             17824 non-null  int32         \n",
      " 6   arrival_date           17824 non-null  datetime64[ns]\n",
      " 7   departure_date         17824 non-null  datetime64[ns]\n",
      " 8   arrival_POI            17824 non-null  object        \n",
      " 9   departure_POI          17824 non-null  object        \n",
      " 10  count_distinct_POI     17824 non-null  int64         \n",
      " 11  idle_time              17824 non-null  float64       \n",
      " 12  dwell_time             17824 non-null  float64       \n",
      " 13  direction              17824 non-null  object        \n",
      " 14  complete_transit_flag  17824 non-null  bool          \n",
      "dtypes: bool(1), datetime64[ns](2), float64(2), int32(2), int64(2), object(6)\n",
      "memory usage: 1.8+ MB\n"
     ]
    }
   ],
   "source": [
    "# #Identify transits, using minimum time input of 16 hrs. \n",
    "transits_df =  get_transits(sdf, 16).toPandas()\n",
    "transits_df.info()"
   ]
  },
  {
   "cell_type": "markdown",
   "id": "49679cfb-7f0d-4946-a7aa-a3f188d9a9b5",
   "metadata": {},
   "source": [
    "## 4.3 Additional Calculated Columns"
   ]
  },
  {
   "cell_type": "code",
   "execution_count": 17,
   "id": "cdb7e1c3-a9af-43e4-8fdc-4eaa1360eb06",
   "metadata": {
    "execution": {
     "iopub.execute_input": "2024-08-21T09:03:32.999566Z",
     "iopub.status.busy": "2024-08-21T09:03:32.999358Z",
     "iopub.status.idle": "2024-08-21T09:03:33.109029Z",
     "shell.execute_reply": "2024-08-21T09:03:33.108574Z",
     "shell.execute_reply.started": "2024-08-21T09:03:32.999544Z"
    },
    "tags": []
   },
   "outputs": [
    {
     "data": {
      "text/html": [
       "<div>\n",
       "<style scoped>\n",
       "    .dataframe tbody tr th:only-of-type {\n",
       "        vertical-align: middle;\n",
       "    }\n",
       "\n",
       "    .dataframe tbody tr th {\n",
       "        vertical-align: top;\n",
       "    }\n",
       "\n",
       "    .dataframe thead th {\n",
       "        text-align: right;\n",
       "    }\n",
       "</style>\n",
       "<table border=\"1\" class=\"dataframe\">\n",
       "  <thead>\n",
       "    <tr style=\"text-align: right;\">\n",
       "      <th></th>\n",
       "      <th>StatCode5</th>\n",
       "      <th>ShiptypeLevel2</th>\n",
       "      <th>ShiptypeLevel5</th>\n",
       "      <th>SCA Vessel Type</th>\n",
       "    </tr>\n",
       "  </thead>\n",
       "  <tbody>\n",
       "    <tr>\n",
       "      <th>0</th>\n",
       "      <td>A11A2TN</td>\n",
       "      <td>Tankers</td>\n",
       "      <td>LNG Tanker</td>\n",
       "      <td>LNG Ships</td>\n",
       "    </tr>\n",
       "    <tr>\n",
       "      <th>1</th>\n",
       "      <td>A11A2TZ</td>\n",
       "      <td>Tankers</td>\n",
       "      <td>Combination Gas Tanker (LNG/LPG)</td>\n",
       "      <td>LNG Ships</td>\n",
       "    </tr>\n",
       "    <tr>\n",
       "      <th>2</th>\n",
       "      <td>A11B2TG</td>\n",
       "      <td>Tankers</td>\n",
       "      <td>LPG Tanker</td>\n",
       "      <td>Tankers</td>\n",
       "    </tr>\n",
       "    <tr>\n",
       "      <th>3</th>\n",
       "      <td>A11B2TH</td>\n",
       "      <td>Tankers</td>\n",
       "      <td>LPG/Chemical Tanker</td>\n",
       "      <td>Tankers</td>\n",
       "    </tr>\n",
       "    <tr>\n",
       "      <th>4</th>\n",
       "      <td>A12A2LP</td>\n",
       "      <td>Tankers</td>\n",
       "      <td>Molten Sulphur Tanker</td>\n",
       "      <td>Tankers</td>\n",
       "    </tr>\n",
       "  </tbody>\n",
       "</table>\n",
       "</div>"
      ],
      "text/plain": [
       "  StatCode5 ShiptypeLevel2                    ShiptypeLevel5 SCA Vessel Type\n",
       "0   A11A2TN        Tankers                        LNG Tanker       LNG Ships\n",
       "1   A11A2TZ        Tankers  Combination Gas Tanker (LNG/LPG)       LNG Ships\n",
       "2   A11B2TG        Tankers                        LPG Tanker         Tankers\n",
       "3   A11B2TH        Tankers               LPG/Chemical Tanker         Tankers\n",
       "4   A12A2LP        Tankers             Molten Sulphur Tanker         Tankers"
      ]
     },
     "execution_count": 17,
     "metadata": {},
     "output_type": "execute_result"
    }
   ],
   "source": [
    "#Read the vessel type mapping between IHS and SCA vessel types. Note that the mapping was done by the authors based on available information from the two sources\n",
    "request = requests.get(f\"https://api.github.com/repos/cherrylchico/ais_passageways/contents/data/IHS SCA Vessel Category Mapping.csv\")\n",
    "mapping = pd.read_csv(StringIO(base64.b64decode(request.json()['content']).decode('utf-8')))\n",
    "mapping.head()"
   ]
  },
  {
   "cell_type": "code",
   "execution_count": 18,
   "id": "013d2f4b-c3cd-456d-bfca-798d77dacebd",
   "metadata": {
    "execution": {
     "iopub.execute_input": "2024-08-21T09:03:33.110244Z",
     "iopub.status.busy": "2024-08-21T09:03:33.110030Z",
     "iopub.status.idle": "2024-08-21T09:03:33.118074Z",
     "shell.execute_reply": "2024-08-21T09:03:33.117673Z",
     "shell.execute_reply.started": "2024-08-21T09:03:33.110230Z"
    },
    "tags": []
   },
   "outputs": [],
   "source": [
    "#Determine SCA vessel type to vessel transits\n",
    "transits_df[\"SCA_Vessel_Type\"] = transits_df['StatCode5'].map(mapping.set_index(\"StatCode5\")[\"SCA Vessel Type\"])\n",
    "transits_df[\"ShiptypeLevel2\"] = transits_df['StatCode5'].map(mapping.set_index(\"StatCode5\")[\"ShiptypeLevel2\"])"
   ]
  },
  {
   "cell_type": "code",
   "execution_count": 19,
   "id": "4504caea-9390-4b6a-96b3-caa71d043f79",
   "metadata": {
    "execution": {
     "iopub.execute_input": "2024-08-21T09:03:33.118808Z",
     "iopub.status.busy": "2024-08-21T09:03:33.118665Z",
     "iopub.status.idle": "2024-08-21T09:03:33.128461Z",
     "shell.execute_reply": "2024-08-21T09:03:33.128067Z",
     "shell.execute_reply.started": "2024-08-21T09:03:33.118795Z"
    },
    "tags": []
   },
   "outputs": [
    {
     "data": {
      "text/html": [
       "<div>\n",
       "<style scoped>\n",
       "    .dataframe tbody tr th:only-of-type {\n",
       "        vertical-align: middle;\n",
       "    }\n",
       "\n",
       "    .dataframe tbody tr th {\n",
       "        vertical-align: top;\n",
       "    }\n",
       "\n",
       "    .dataframe thead th {\n",
       "        text-align: right;\n",
       "    }\n",
       "</style>\n",
       "<table border=\"1\" class=\"dataframe\">\n",
       "  <thead>\n",
       "    <tr style=\"text-align: right;\">\n",
       "      <th></th>\n",
       "      <th>imo</th>\n",
       "      <th>voyage</th>\n",
       "      <th>vessel_name</th>\n",
       "      <th>StatCode5</th>\n",
       "      <th>ShiptypeLevel5</th>\n",
       "      <th>NetTonnage</th>\n",
       "      <th>arrival_date</th>\n",
       "      <th>departure_date</th>\n",
       "      <th>arrival_POI</th>\n",
       "      <th>departure_POI</th>\n",
       "      <th>count_distinct_POI</th>\n",
       "      <th>idle_time</th>\n",
       "      <th>dwell_time</th>\n",
       "      <th>direction</th>\n",
       "      <th>complete_transit_flag</th>\n",
       "      <th>SCA_Vessel_Type</th>\n",
       "      <th>ShiptypeLevel2</th>\n",
       "    </tr>\n",
       "  </thead>\n",
       "  <tbody>\n",
       "    <tr>\n",
       "      <th>0</th>\n",
       "      <td>7022356</td>\n",
       "      <td>1</td>\n",
       "      <td>KENOZ</td>\n",
       "      <td>A38A2GL</td>\n",
       "      <td>Livestock Carrier</td>\n",
       "      <td>4067</td>\n",
       "      <td>2019-09-07 12:52:08</td>\n",
       "      <td>2019-09-09 05:39:30</td>\n",
       "      <td>North</td>\n",
       "      <td>South</td>\n",
       "      <td>2</td>\n",
       "      <td>27.667778</td>\n",
       "      <td>40.789444</td>\n",
       "      <td>North-South</td>\n",
       "      <td>True</td>\n",
       "      <td>General Cargo</td>\n",
       "      <td>Dry Cargo/Passenger</td>\n",
       "    </tr>\n",
       "    <tr>\n",
       "      <th>1</th>\n",
       "      <td>7022356</td>\n",
       "      <td>5</td>\n",
       "      <td>KENOZ</td>\n",
       "      <td>A38A2GL</td>\n",
       "      <td>Livestock Carrier</td>\n",
       "      <td>4067</td>\n",
       "      <td>2019-12-07 16:55:42</td>\n",
       "      <td>2019-12-08 05:11:24</td>\n",
       "      <td>Middle</td>\n",
       "      <td>South</td>\n",
       "      <td>2</td>\n",
       "      <td>7.475000</td>\n",
       "      <td>12.261667</td>\n",
       "      <td>Middle-South</td>\n",
       "      <td>False</td>\n",
       "      <td>General Cargo</td>\n",
       "      <td>Dry Cargo/Passenger</td>\n",
       "    </tr>\n",
       "    <tr>\n",
       "      <th>2</th>\n",
       "      <td>7113624</td>\n",
       "      <td>1</td>\n",
       "      <td>MARIONA</td>\n",
       "      <td>A38A2GL</td>\n",
       "      <td>Livestock Carrier</td>\n",
       "      <td>996</td>\n",
       "      <td>2019-12-17 11:31:49</td>\n",
       "      <td>2019-12-18 18:14:39</td>\n",
       "      <td>North</td>\n",
       "      <td>South</td>\n",
       "      <td>2</td>\n",
       "      <td>0.000000</td>\n",
       "      <td>30.713889</td>\n",
       "      <td>North-South</td>\n",
       "      <td>True</td>\n",
       "      <td>General Cargo</td>\n",
       "      <td>Dry Cargo/Passenger</td>\n",
       "    </tr>\n",
       "    <tr>\n",
       "      <th>3</th>\n",
       "      <td>7113624</td>\n",
       "      <td>2</td>\n",
       "      <td>MARIONA</td>\n",
       "      <td>A38A2GL</td>\n",
       "      <td>Livestock Carrier</td>\n",
       "      <td>996</td>\n",
       "      <td>2019-12-25 12:59:16</td>\n",
       "      <td>2019-12-27 11:23:29</td>\n",
       "      <td>South</td>\n",
       "      <td>North</td>\n",
       "      <td>3</td>\n",
       "      <td>21.678889</td>\n",
       "      <td>46.403611</td>\n",
       "      <td>South-North</td>\n",
       "      <td>True</td>\n",
       "      <td>General Cargo</td>\n",
       "      <td>Dry Cargo/Passenger</td>\n",
       "    </tr>\n",
       "    <tr>\n",
       "      <th>4</th>\n",
       "      <td>7218395</td>\n",
       "      <td>1</td>\n",
       "      <td>BOUDICCA</td>\n",
       "      <td>A37A2PC</td>\n",
       "      <td>Passenger/Cruise</td>\n",
       "      <td>11714</td>\n",
       "      <td>2019-01-31 17:43:19</td>\n",
       "      <td>2019-02-01 13:51:53</td>\n",
       "      <td>South</td>\n",
       "      <td>North</td>\n",
       "      <td>3</td>\n",
       "      <td>7.203056</td>\n",
       "      <td>20.142778</td>\n",
       "      <td>South-North</td>\n",
       "      <td>True</td>\n",
       "      <td>Passenger Ships</td>\n",
       "      <td>Dry Cargo/Passenger</td>\n",
       "    </tr>\n",
       "  </tbody>\n",
       "</table>\n",
       "</div>"
      ],
      "text/plain": [
       "       imo  voyage vessel_name StatCode5     ShiptypeLevel5  NetTonnage  \\\n",
       "0  7022356       1       KENOZ   A38A2GL  Livestock Carrier        4067   \n",
       "1  7022356       5       KENOZ   A38A2GL  Livestock Carrier        4067   \n",
       "2  7113624       1     MARIONA   A38A2GL  Livestock Carrier         996   \n",
       "3  7113624       2     MARIONA   A38A2GL  Livestock Carrier         996   \n",
       "4  7218395       1    BOUDICCA   A37A2PC   Passenger/Cruise       11714   \n",
       "\n",
       "         arrival_date      departure_date arrival_POI departure_POI  \\\n",
       "0 2019-09-07 12:52:08 2019-09-09 05:39:30       North         South   \n",
       "1 2019-12-07 16:55:42 2019-12-08 05:11:24      Middle         South   \n",
       "2 2019-12-17 11:31:49 2019-12-18 18:14:39       North         South   \n",
       "3 2019-12-25 12:59:16 2019-12-27 11:23:29       South         North   \n",
       "4 2019-01-31 17:43:19 2019-02-01 13:51:53       South         North   \n",
       "\n",
       "   count_distinct_POI  idle_time  dwell_time     direction  \\\n",
       "0                   2  27.667778   40.789444   North-South   \n",
       "1                   2   7.475000   12.261667  Middle-South   \n",
       "2                   2   0.000000   30.713889   North-South   \n",
       "3                   3  21.678889   46.403611   South-North   \n",
       "4                   3   7.203056   20.142778   South-North   \n",
       "\n",
       "   complete_transit_flag  SCA_Vessel_Type       ShiptypeLevel2  \n",
       "0                   True    General Cargo  Dry Cargo/Passenger  \n",
       "1                  False    General Cargo  Dry Cargo/Passenger  \n",
       "2                   True    General Cargo  Dry Cargo/Passenger  \n",
       "3                   True    General Cargo  Dry Cargo/Passenger  \n",
       "4                   True  Passenger Ships  Dry Cargo/Passenger  "
      ]
     },
     "execution_count": 19,
     "metadata": {},
     "output_type": "execute_result"
    }
   ],
   "source": [
    "#Each row of the output is a vessel transit. \n",
    "transits_df.head()"
   ]
  },
  {
   "cell_type": "markdown",
   "id": "6d540e2a-7c09-4435-967d-e85ee37a2820",
   "metadata": {
    "tags": []
   },
   "source": [
    "# 5. Statistics"
   ]
  },
  {
   "cell_type": "markdown",
   "id": "1c76960f-ea98-4d99-a796-7c89fb97c0d7",
   "metadata": {},
   "source": [
    "## 5.1 Count of Transit"
   ]
  },
  {
   "cell_type": "code",
   "execution_count": 20,
   "id": "9f9aee22-a8a5-4ab5-8750-0c4a666d1d6f",
   "metadata": {
    "execution": {
     "iopub.execute_input": "2024-08-21T09:03:33.129407Z",
     "iopub.status.busy": "2024-08-21T09:03:33.129255Z",
     "iopub.status.idle": "2024-08-21T09:03:33.136314Z",
     "shell.execute_reply": "2024-08-21T09:03:33.135791Z",
     "shell.execute_reply.started": "2024-08-21T09:03:33.129394Z"
    },
    "tags": []
   },
   "outputs": [
    {
     "name": "stdout",
     "output_type": "stream",
     "text": [
      "\n",
      "Total Transits: 17,824\n",
      "Complete Transits: 16,431\n",
      "Additional Transits due to Redundancy: 7.82%\n",
      "\n"
     ]
    }
   ],
   "source": [
    "n = transits_df[~transits_df['complete_transit_flag'] ].shape[0] / transits_df.shape[0]\n",
    "print(f\"\"\"\n",
    "Total Transits: {transits_df.shape[0]:,}\n",
    "Complete Transits: {transits_df['complete_transit_flag'].sum():,}\n",
    "Additional Transits due to Redundancy: {n*100:.2f}%\n",
    "\"\"\")"
   ]
  },
  {
   "cell_type": "code",
   "execution_count": 21,
   "id": "68435797-1abe-4ec3-9c95-b6c1ea6bc6e0",
   "metadata": {
    "execution": {
     "iopub.execute_input": "2024-08-21T09:03:48.734527Z",
     "iopub.status.busy": "2024-08-21T09:03:48.734028Z",
     "iopub.status.idle": "2024-08-21T09:03:48.743962Z",
     "shell.execute_reply": "2024-08-21T09:03:48.743511Z",
     "shell.execute_reply.started": "2024-08-21T09:03:48.734507Z"
    },
    "tags": []
   },
   "outputs": [
    {
     "data": {
      "text/html": [
       "<div>\n",
       "<style scoped>\n",
       "    .dataframe tbody tr th:only-of-type {\n",
       "        vertical-align: middle;\n",
       "    }\n",
       "\n",
       "    .dataframe tbody tr th {\n",
       "        vertical-align: top;\n",
       "    }\n",
       "\n",
       "    .dataframe thead th {\n",
       "        text-align: right;\n",
       "    }\n",
       "</style>\n",
       "<table border=\"1\" class=\"dataframe\">\n",
       "  <thead>\n",
       "    <tr style=\"text-align: right;\">\n",
       "      <th></th>\n",
       "      <th>North/South</th>\n",
       "      <th>North/South/Middle</th>\n",
       "      <th>% increase</th>\n",
       "    </tr>\n",
       "    <tr>\n",
       "      <th>ShiptypeLevel2</th>\n",
       "      <th></th>\n",
       "      <th></th>\n",
       "      <th></th>\n",
       "    </tr>\n",
       "  </thead>\n",
       "  <tbody>\n",
       "    <tr>\n",
       "      <th>Bulk Carriers</th>\n",
       "      <td>3886</td>\n",
       "      <td>4073</td>\n",
       "      <td>4.812146</td>\n",
       "    </tr>\n",
       "    <tr>\n",
       "      <th>Dry Cargo/Passenger</th>\n",
       "      <td>6974</td>\n",
       "      <td>8021</td>\n",
       "      <td>15.012905</td>\n",
       "    </tr>\n",
       "    <tr>\n",
       "      <th>Tankers</th>\n",
       "      <td>5571</td>\n",
       "      <td>5730</td>\n",
       "      <td>2.854066</td>\n",
       "    </tr>\n",
       "  </tbody>\n",
       "</table>\n",
       "</div>"
      ],
      "text/plain": [
       "                     North/South  North/South/Middle  % increase\n",
       "ShiptypeLevel2                                                  \n",
       "Bulk Carriers               3886                4073    4.812146\n",
       "Dry Cargo/Passenger         6974                8021   15.012905\n",
       "Tankers                     5571                5730    2.854066"
      ]
     },
     "execution_count": 21,
     "metadata": {},
     "output_type": "execute_result"
    }
   ],
   "source": [
    "count_per_poi = transits_df.groupby(\"ShiptypeLevel2\") \\\n",
    ".agg({'complete_transit_flag':'sum', 'imo':'count'}) \\\n",
    ".rename(columns={'complete_transit_flag':'North/South', 'imo':'North/South/Middle'})\n",
    "count_per_poi['% increase'] = 100*((count_per_poi['North/South/Middle'] - count_per_poi['North/South']) / count_per_poi['North/South'])\n",
    "count_per_poi\n",
    "\n",
    "#Count of Transits According to Vessel Type and POIs captured"
   ]
  },
  {
   "cell_type": "markdown",
   "id": "d328b911-8fbe-457c-9770-617609ae525d",
   "metadata": {
    "tags": []
   },
   "source": [
    "## 5.2 Comparison with SCA Statistics"
   ]
  },
  {
   "cell_type": "code",
   "execution_count": 24,
   "id": "fd9fb32f-5302-4a08-9f95-08500d71dafc",
   "metadata": {
    "execution": {
     "iopub.execute_input": "2024-08-21T09:05:32.588454Z",
     "iopub.status.busy": "2024-08-21T09:05:32.587857Z",
     "iopub.status.idle": "2024-08-21T09:05:32.696621Z",
     "shell.execute_reply": "2024-08-21T09:05:32.696184Z",
     "shell.execute_reply.started": "2024-08-21T09:05:32.588432Z"
    },
    "tags": []
   },
   "outputs": [
    {
     "data": {
      "text/html": [
       "<div>\n",
       "<style scoped>\n",
       "    .dataframe tbody tr th:only-of-type {\n",
       "        vertical-align: middle;\n",
       "    }\n",
       "\n",
       "    .dataframe tbody tr th {\n",
       "        vertical-align: top;\n",
       "    }\n",
       "\n",
       "    .dataframe thead th {\n",
       "        text-align: right;\n",
       "    }\n",
       "</style>\n",
       "<table border=\"1\" class=\"dataframe\">\n",
       "  <thead>\n",
       "    <tr style=\"text-align: right;\">\n",
       "      <th></th>\n",
       "      <th>Date</th>\n",
       "      <th>Vessel Type</th>\n",
       "      <th>Status</th>\n",
       "      <th>Transit Count</th>\n",
       "      <th>Net Tonnage</th>\n",
       "    </tr>\n",
       "  </thead>\n",
       "  <tbody>\n",
       "    <tr>\n",
       "      <th>0</th>\n",
       "      <td>01/01/2019</td>\n",
       "      <td>Tankers</td>\n",
       "      <td>Laden</td>\n",
       "      <td>352</td>\n",
       "      <td>14822</td>\n",
       "    </tr>\n",
       "    <tr>\n",
       "      <th>1</th>\n",
       "      <td>01/01/2019</td>\n",
       "      <td>LNG Ships</td>\n",
       "      <td>Laden</td>\n",
       "      <td>25</td>\n",
       "      <td>2729</td>\n",
       "    </tr>\n",
       "    <tr>\n",
       "      <th>2</th>\n",
       "      <td>01/01/2019</td>\n",
       "      <td>Bulk Carrier</td>\n",
       "      <td>Laden</td>\n",
       "      <td>247</td>\n",
       "      <td>9319</td>\n",
       "    </tr>\n",
       "    <tr>\n",
       "      <th>3</th>\n",
       "      <td>01/01/2019</td>\n",
       "      <td>General Cargo</td>\n",
       "      <td>Laden</td>\n",
       "      <td>111</td>\n",
       "      <td>1169</td>\n",
       "    </tr>\n",
       "    <tr>\n",
       "      <th>4</th>\n",
       "      <td>01/01/2019</td>\n",
       "      <td>Container Ships</td>\n",
       "      <td>Laden</td>\n",
       "      <td>451</td>\n",
       "      <td>52645</td>\n",
       "    </tr>\n",
       "  </tbody>\n",
       "</table>\n",
       "</div>"
      ],
      "text/plain": [
       "         Date      Vessel Type Status  Transit Count  Net Tonnage\n",
       "0  01/01/2019          Tankers  Laden            352        14822\n",
       "1  01/01/2019        LNG Ships  Laden             25         2729\n",
       "2  01/01/2019     Bulk Carrier  Laden            247         9319\n",
       "3  01/01/2019    General Cargo  Laden            111         1169\n",
       "4  01/01/2019  Container Ships  Laden            451        52645"
      ]
     },
     "execution_count": 24,
     "metadata": {},
     "output_type": "execute_result"
    }
   ],
   "source": [
    "#Read the transit statistics from Suez Canal Authority\n",
    "request = requests.get(f\"https://api.github.com/repos/cherrylchico/ais_passageways/contents/data/Suez Canal Transits SCA 2019.csv?ref=dev\")\n",
    "sca = pd.read_csv(StringIO(base64.b64decode(request.json()['content']).decode('utf-8')))\n",
    "sca.head()"
   ]
  },
  {
   "cell_type": "code",
   "execution_count": 52,
   "id": "a8105226-9834-4fb0-8d10-fcdd7628fd60",
   "metadata": {
    "execution": {
     "iopub.execute_input": "2024-08-21T09:16:00.621436Z",
     "iopub.status.busy": "2024-08-21T09:16:00.620832Z",
     "iopub.status.idle": "2024-08-21T09:16:00.643865Z",
     "shell.execute_reply": "2024-08-21T09:16:00.643418Z",
     "shell.execute_reply.started": "2024-08-21T09:16:00.621414Z"
    },
    "tags": []
   },
   "outputs": [
    {
     "data": {
      "text/html": [
       "<div>\n",
       "<style scoped>\n",
       "    .dataframe tbody tr th:only-of-type {\n",
       "        vertical-align: middle;\n",
       "    }\n",
       "\n",
       "    .dataframe tbody tr th {\n",
       "        vertical-align: top;\n",
       "    }\n",
       "\n",
       "    .dataframe thead th {\n",
       "        text-align: right;\n",
       "    }\n",
       "</style>\n",
       "<table border=\"1\" class=\"dataframe\">\n",
       "  <thead>\n",
       "    <tr style=\"text-align: right;\">\n",
       "      <th>SCA_Vessel_Type</th>\n",
       "      <th>Bulk Carrier</th>\n",
       "      <th>Car Carrier</th>\n",
       "      <th>Container Ships</th>\n",
       "      <th>General Cargo</th>\n",
       "      <th>LNG Ships</th>\n",
       "      <th>Passenger Ships</th>\n",
       "      <th>RoRo</th>\n",
       "      <th>Tankers</th>\n",
       "    </tr>\n",
       "    <tr>\n",
       "      <th>arrival_date</th>\n",
       "      <th></th>\n",
       "      <th></th>\n",
       "      <th></th>\n",
       "      <th></th>\n",
       "      <th></th>\n",
       "      <th></th>\n",
       "      <th></th>\n",
       "      <th></th>\n",
       "    </tr>\n",
       "  </thead>\n",
       "  <tbody>\n",
       "    <tr>\n",
       "      <th>2019-01-31</th>\n",
       "      <td>293</td>\n",
       "      <td>70</td>\n",
       "      <td>465</td>\n",
       "      <td>108</td>\n",
       "      <td>52</td>\n",
       "      <td>12</td>\n",
       "      <td>21</td>\n",
       "      <td>437</td>\n",
       "    </tr>\n",
       "    <tr>\n",
       "      <th>2019-02-28</th>\n",
       "      <td>262</td>\n",
       "      <td>72</td>\n",
       "      <td>430</td>\n",
       "      <td>103</td>\n",
       "      <td>46</td>\n",
       "      <td>8</td>\n",
       "      <td>21</td>\n",
       "      <td>369</td>\n",
       "    </tr>\n",
       "    <tr>\n",
       "      <th>2019-03-31</th>\n",
       "      <td>298</td>\n",
       "      <td>75</td>\n",
       "      <td>434</td>\n",
       "      <td>119</td>\n",
       "      <td>52</td>\n",
       "      <td>10</td>\n",
       "      <td>21</td>\n",
       "      <td>455</td>\n",
       "    </tr>\n",
       "    <tr>\n",
       "      <th>2019-04-30</th>\n",
       "      <td>305</td>\n",
       "      <td>85</td>\n",
       "      <td>446</td>\n",
       "      <td>128</td>\n",
       "      <td>51</td>\n",
       "      <td>18</td>\n",
       "      <td>19</td>\n",
       "      <td>389</td>\n",
       "    </tr>\n",
       "    <tr>\n",
       "      <th>2019-05-31</th>\n",
       "      <td>302</td>\n",
       "      <td>64</td>\n",
       "      <td>456</td>\n",
       "      <td>127</td>\n",
       "      <td>70</td>\n",
       "      <td>12</td>\n",
       "      <td>18</td>\n",
       "      <td>405</td>\n",
       "    </tr>\n",
       "    <tr>\n",
       "      <th>2019-06-30</th>\n",
       "      <td>275</td>\n",
       "      <td>74</td>\n",
       "      <td>444</td>\n",
       "      <td>142</td>\n",
       "      <td>68</td>\n",
       "      <td>2</td>\n",
       "      <td>19</td>\n",
       "      <td>390</td>\n",
       "    </tr>\n",
       "    <tr>\n",
       "      <th>2019-07-31</th>\n",
       "      <td>357</td>\n",
       "      <td>73</td>\n",
       "      <td>466</td>\n",
       "      <td>136</td>\n",
       "      <td>74</td>\n",
       "      <td>1</td>\n",
       "      <td>18</td>\n",
       "      <td>374</td>\n",
       "    </tr>\n",
       "    <tr>\n",
       "      <th>2019-08-31</th>\n",
       "      <td>405</td>\n",
       "      <td>80</td>\n",
       "      <td>470</td>\n",
       "      <td>146</td>\n",
       "      <td>69</td>\n",
       "      <td>1</td>\n",
       "      <td>23</td>\n",
       "      <td>400</td>\n",
       "    </tr>\n",
       "    <tr>\n",
       "      <th>2019-09-30</th>\n",
       "      <td>399</td>\n",
       "      <td>60</td>\n",
       "      <td>438</td>\n",
       "      <td>95</td>\n",
       "      <td>62</td>\n",
       "      <td>2</td>\n",
       "      <td>14</td>\n",
       "      <td>408</td>\n",
       "    </tr>\n",
       "    <tr>\n",
       "      <th>2019-10-31</th>\n",
       "      <td>428</td>\n",
       "      <td>80</td>\n",
       "      <td>444</td>\n",
       "      <td>114</td>\n",
       "      <td>60</td>\n",
       "      <td>14</td>\n",
       "      <td>23</td>\n",
       "      <td>478</td>\n",
       "    </tr>\n",
       "    <tr>\n",
       "      <th>2019-11-30</th>\n",
       "      <td>369</td>\n",
       "      <td>71</td>\n",
       "      <td>403</td>\n",
       "      <td>139</td>\n",
       "      <td>66</td>\n",
       "      <td>18</td>\n",
       "      <td>20</td>\n",
       "      <td>440</td>\n",
       "    </tr>\n",
       "    <tr>\n",
       "      <th>2019-12-31</th>\n",
       "      <td>380</td>\n",
       "      <td>70</td>\n",
       "      <td>417</td>\n",
       "      <td>136</td>\n",
       "      <td>59</td>\n",
       "      <td>6</td>\n",
       "      <td>20</td>\n",
       "      <td>456</td>\n",
       "    </tr>\n",
       "  </tbody>\n",
       "</table>\n",
       "</div>"
      ],
      "text/plain": [
       "SCA_Vessel_Type  Bulk Carrier  Car Carrier  Container Ships  General Cargo  \\\n",
       "arrival_date                                                                 \n",
       "2019-01-31                293           70              465            108   \n",
       "2019-02-28                262           72              430            103   \n",
       "2019-03-31                298           75              434            119   \n",
       "2019-04-30                305           85              446            128   \n",
       "2019-05-31                302           64              456            127   \n",
       "2019-06-30                275           74              444            142   \n",
       "2019-07-31                357           73              466            136   \n",
       "2019-08-31                405           80              470            146   \n",
       "2019-09-30                399           60              438             95   \n",
       "2019-10-31                428           80              444            114   \n",
       "2019-11-30                369           71              403            139   \n",
       "2019-12-31                380           70              417            136   \n",
       "\n",
       "SCA_Vessel_Type  LNG Ships  Passenger Ships  RoRo  Tankers  \n",
       "arrival_date                                                \n",
       "2019-01-31              52               12    21      437  \n",
       "2019-02-28              46                8    21      369  \n",
       "2019-03-31              52               10    21      455  \n",
       "2019-04-30              51               18    19      389  \n",
       "2019-05-31              70               12    18      405  \n",
       "2019-06-30              68                2    19      390  \n",
       "2019-07-31              74                1    18      374  \n",
       "2019-08-31              69                1    23      400  \n",
       "2019-09-30              62                2    14      408  \n",
       "2019-10-31              60               14    23      478  \n",
       "2019-11-30              66               18    20      440  \n",
       "2019-12-31              59                6    20      456  "
      ]
     },
     "execution_count": 52,
     "metadata": {},
     "output_type": "execute_result"
    }
   ],
   "source": [
    "#Transit Counts\n",
    "transits_stats = transits_df.groupby([pd.Grouper(key=\"arrival_date\", freq=\"M\"), \"SCA_Vessel_Type\"])[\"imo\"].count().unstack()\n",
    "transits_stats"
   ]
  },
  {
   "cell_type": "code",
   "execution_count": 53,
   "id": "c8124c71-137c-41fa-8173-7b08bfa15faa",
   "metadata": {
    "execution": {
     "iopub.execute_input": "2024-08-21T09:16:01.413484Z",
     "iopub.status.busy": "2024-08-21T09:16:01.412910Z",
     "iopub.status.idle": "2024-08-21T09:16:01.421984Z",
     "shell.execute_reply": "2024-08-21T09:16:01.421565Z",
     "shell.execute_reply.started": "2024-08-21T09:16:01.413466Z"
    },
    "tags": []
   },
   "outputs": [
    {
     "data": {
      "text/html": [
       "<div>\n",
       "<style scoped>\n",
       "    .dataframe tbody tr th:only-of-type {\n",
       "        vertical-align: middle;\n",
       "    }\n",
       "\n",
       "    .dataframe tbody tr th {\n",
       "        vertical-align: top;\n",
       "    }\n",
       "\n",
       "    .dataframe thead th {\n",
       "        text-align: right;\n",
       "    }\n",
       "</style>\n",
       "<table border=\"1\" class=\"dataframe\">\n",
       "  <thead>\n",
       "    <tr style=\"text-align: right;\">\n",
       "      <th>Vessel Type</th>\n",
       "      <th>Bulk Carrier</th>\n",
       "      <th>Car Carrier</th>\n",
       "      <th>Container Ships</th>\n",
       "      <th>General Cargo</th>\n",
       "      <th>LNG Ships</th>\n",
       "      <th>Passenger Ships</th>\n",
       "      <th>RoRo</th>\n",
       "      <th>Tankers</th>\n",
       "    </tr>\n",
       "    <tr>\n",
       "      <th>Date</th>\n",
       "      <th></th>\n",
       "      <th></th>\n",
       "      <th></th>\n",
       "      <th></th>\n",
       "      <th></th>\n",
       "      <th></th>\n",
       "      <th></th>\n",
       "      <th></th>\n",
       "    </tr>\n",
       "  </thead>\n",
       "  <tbody>\n",
       "    <tr>\n",
       "      <th>01/01/2019</th>\n",
       "      <td>307</td>\n",
       "      <td>70</td>\n",
       "      <td>458</td>\n",
       "      <td>125</td>\n",
       "      <td>47</td>\n",
       "      <td>11</td>\n",
       "      <td>16</td>\n",
       "      <td>450</td>\n",
       "    </tr>\n",
       "    <tr>\n",
       "      <th>01/02/2019</th>\n",
       "      <td>264</td>\n",
       "      <td>70</td>\n",
       "      <td>437</td>\n",
       "      <td>103</td>\n",
       "      <td>43</td>\n",
       "      <td>9</td>\n",
       "      <td>15</td>\n",
       "      <td>377</td>\n",
       "    </tr>\n",
       "    <tr>\n",
       "      <th>01/03/2019</th>\n",
       "      <td>314</td>\n",
       "      <td>76</td>\n",
       "      <td>447</td>\n",
       "      <td>127</td>\n",
       "      <td>57</td>\n",
       "      <td>9</td>\n",
       "      <td>24</td>\n",
       "      <td>477</td>\n",
       "    </tr>\n",
       "    <tr>\n",
       "      <th>01/04/2019</th>\n",
       "      <td>321</td>\n",
       "      <td>87</td>\n",
       "      <td>450</td>\n",
       "      <td>124</td>\n",
       "      <td>56</td>\n",
       "      <td>21</td>\n",
       "      <td>17</td>\n",
       "      <td>414</td>\n",
       "    </tr>\n",
       "    <tr>\n",
       "      <th>01/05/2019</th>\n",
       "      <td>316</td>\n",
       "      <td>71</td>\n",
       "      <td>484</td>\n",
       "      <td>130</td>\n",
       "      <td>74</td>\n",
       "      <td>12</td>\n",
       "      <td>21</td>\n",
       "      <td>428</td>\n",
       "    </tr>\n",
       "    <tr>\n",
       "      <th>01/06/2019</th>\n",
       "      <td>278</td>\n",
       "      <td>72</td>\n",
       "      <td>449</td>\n",
       "      <td>135</td>\n",
       "      <td>71</td>\n",
       "      <td>2</td>\n",
       "      <td>22</td>\n",
       "      <td>388</td>\n",
       "    </tr>\n",
       "    <tr>\n",
       "      <th>01/07/2019</th>\n",
       "      <td>359</td>\n",
       "      <td>72</td>\n",
       "      <td>464</td>\n",
       "      <td>133</td>\n",
       "      <td>78</td>\n",
       "      <td>1</td>\n",
       "      <td>16</td>\n",
       "      <td>379</td>\n",
       "    </tr>\n",
       "    <tr>\n",
       "      <th>01/08/2019</th>\n",
       "      <td>416</td>\n",
       "      <td>78</td>\n",
       "      <td>475</td>\n",
       "      <td>146</td>\n",
       "      <td>70</td>\n",
       "      <td>1</td>\n",
       "      <td>22</td>\n",
       "      <td>420</td>\n",
       "    </tr>\n",
       "    <tr>\n",
       "      <th>01/09/2019</th>\n",
       "      <td>404</td>\n",
       "      <td>62</td>\n",
       "      <td>432</td>\n",
       "      <td>92</td>\n",
       "      <td>65</td>\n",
       "      <td>2</td>\n",
       "      <td>14</td>\n",
       "      <td>412</td>\n",
       "    </tr>\n",
       "    <tr>\n",
       "      <th>01/10/2019</th>\n",
       "      <td>443</td>\n",
       "      <td>80</td>\n",
       "      <td>446</td>\n",
       "      <td>119</td>\n",
       "      <td>62</td>\n",
       "      <td>12</td>\n",
       "      <td>20</td>\n",
       "      <td>482</td>\n",
       "    </tr>\n",
       "    <tr>\n",
       "      <th>01/11/2019</th>\n",
       "      <td>370</td>\n",
       "      <td>71</td>\n",
       "      <td>410</td>\n",
       "      <td>133</td>\n",
       "      <td>63</td>\n",
       "      <td>18</td>\n",
       "      <td>16</td>\n",
       "      <td>454</td>\n",
       "    </tr>\n",
       "    <tr>\n",
       "      <th>01/12/2019</th>\n",
       "      <td>408</td>\n",
       "      <td>72</td>\n",
       "      <td>423</td>\n",
       "      <td>132</td>\n",
       "      <td>64</td>\n",
       "      <td>7</td>\n",
       "      <td>19</td>\n",
       "      <td>482</td>\n",
       "    </tr>\n",
       "  </tbody>\n",
       "</table>\n",
       "</div>"
      ],
      "text/plain": [
       "Vessel Type  Bulk Carrier  Car Carrier  Container Ships  General Cargo  \\\n",
       "Date                                                                     \n",
       "01/01/2019            307           70              458            125   \n",
       "01/02/2019            264           70              437            103   \n",
       "01/03/2019            314           76              447            127   \n",
       "01/04/2019            321           87              450            124   \n",
       "01/05/2019            316           71              484            130   \n",
       "01/06/2019            278           72              449            135   \n",
       "01/07/2019            359           72              464            133   \n",
       "01/08/2019            416           78              475            146   \n",
       "01/09/2019            404           62              432             92   \n",
       "01/10/2019            443           80              446            119   \n",
       "01/11/2019            370           71              410            133   \n",
       "01/12/2019            408           72              423            132   \n",
       "\n",
       "Vessel Type  LNG Ships  Passenger Ships  RoRo  Tankers  \n",
       "Date                                                    \n",
       "01/01/2019          47               11    16      450  \n",
       "01/02/2019          43                9    15      377  \n",
       "01/03/2019          57                9    24      477  \n",
       "01/04/2019          56               21    17      414  \n",
       "01/05/2019          74               12    21      428  \n",
       "01/06/2019          71                2    22      388  \n",
       "01/07/2019          78                1    16      379  \n",
       "01/08/2019          70                1    22      420  \n",
       "01/09/2019          65                2    14      412  \n",
       "01/10/2019          62               12    20      482  \n",
       "01/11/2019          63               18    16      454  \n",
       "01/12/2019          64                7    19      482  "
      ]
     },
     "execution_count": 53,
     "metadata": {},
     "output_type": "execute_result"
    }
   ],
   "source": [
    "sca[sca['Vessel Type']!=\"Others\"].groupby(['Date','Vessel Type'])['Transit Count'].sum().unstack()"
   ]
  },
  {
   "cell_type": "code",
   "execution_count": 54,
   "id": "af5faaf3-b592-4b0d-ad4b-929c06fc5172",
   "metadata": {
    "execution": {
     "iopub.execute_input": "2024-08-21T09:16:08.565751Z",
     "iopub.status.busy": "2024-08-21T09:16:08.565180Z",
     "iopub.status.idle": "2024-08-21T09:16:08.570007Z",
     "shell.execute_reply": "2024-08-21T09:16:08.569599Z",
     "shell.execute_reply.started": "2024-08-21T09:16:08.565735Z"
    },
    "tags": []
   },
   "outputs": [
    {
     "data": {
      "text/html": [
       "<a download=\"Suez Canal Monthly Transits 2019 using AIS.csv\" href=\"data:text/csv;base64,YXJyaXZhbF9kYXRlLEJ1bGsgQ2FycmllcixDYXIgQ2FycmllcixDb250YWluZXIgU2hpcHMsR2VuZXJhbCBDYXJnbyxMTkcgU2hpcHMsUGFzc2VuZ2VyIFNoaXBzLFJvUm8sVGFua2VycwoyMDE5LTAxLTMxLDI5Myw3MCw0NjUsMTA4LDUyLDEyLDIxLDQzNwoyMDE5LTAyLTI4LDI2Miw3Miw0MzAsMTAzLDQ2LDgsMjEsMzY5CjIwMTktMDMtMzEsMjk4LDc1LDQzNCwxMTksNTIsMTAsMjEsNDU1CjIwMTktMDQtMzAsMzA1LDg1LDQ0NiwxMjgsNTEsMTgsMTksMzg5CjIwMTktMDUtMzEsMzAyLDY0LDQ1NiwxMjcsNzAsMTIsMTgsNDA1CjIwMTktMDYtMzAsMjc1LDc0LDQ0NCwxNDIsNjgsMiwxOSwzOTAKMjAxOS0wNy0zMSwzNTcsNzMsNDY2LDEzNiw3NCwxLDE4LDM3NAoyMDE5LTA4LTMxLDQwNSw4MCw0NzAsMTQ2LDY5LDEsMjMsNDAwCjIwMTktMDktMzAsMzk5LDYwLDQzOCw5NSw2MiwyLDE0LDQwOAoyMDE5LTEwLTMxLDQyOCw4MCw0NDQsMTE0LDYwLDE0LDIzLDQ3OAoyMDE5LTExLTMwLDM2OSw3MSw0MDMsMTM5LDY2LDE4LDIwLDQ0MAoyMDE5LTEyLTMxLDM4MCw3MCw0MTcsMTM2LDU5LDYsMjAsNDU2Cg==\" target=\"_blank\">Suez Canal Monthly Transits 2019 using AIS.csv</a>"
      ],
      "text/plain": [
       "<IPython.core.display.HTML object>"
      ]
     },
     "execution_count": 54,
     "metadata": {},
     "output_type": "execute_result"
    }
   ],
   "source": [
    "#To get the outputs for  local storage\n",
    "af.create_download_link(transits_stats, \"Suez Canal Monthly Transits 2019 using AIS.csv\",\"Suez Canal Monthly Transits 2019 using AIS.csv\")"
   ]
  },
  {
   "cell_type": "code",
   "execution_count": 58,
   "id": "595c0ef0-3067-4a33-a49c-b4b0a6a7f015",
   "metadata": {
    "execution": {
     "iopub.execute_input": "2024-08-21T09:16:34.580478Z",
     "iopub.status.busy": "2024-08-21T09:16:34.580018Z",
     "iopub.status.idle": "2024-08-21T09:16:34.606892Z",
     "shell.execute_reply": "2024-08-21T09:16:34.606448Z",
     "shell.execute_reply.started": "2024-08-21T09:16:34.580455Z"
    },
    "tags": []
   },
   "outputs": [
    {
     "data": {
      "text/html": [
       "<div>\n",
       "<style scoped>\n",
       "    .dataframe tbody tr th:only-of-type {\n",
       "        vertical-align: middle;\n",
       "    }\n",
       "\n",
       "    .dataframe tbody tr th {\n",
       "        vertical-align: top;\n",
       "    }\n",
       "\n",
       "    .dataframe thead th {\n",
       "        text-align: right;\n",
       "    }\n",
       "</style>\n",
       "<table border=\"1\" class=\"dataframe\">\n",
       "  <thead>\n",
       "    <tr style=\"text-align: right;\">\n",
       "      <th>SCA_Vessel_Type</th>\n",
       "      <th>Bulk Carrier</th>\n",
       "      <th>Car Carrier</th>\n",
       "      <th>Container Ships</th>\n",
       "      <th>General Cargo</th>\n",
       "      <th>LNG Ships</th>\n",
       "      <th>Passenger Ships</th>\n",
       "      <th>RoRo</th>\n",
       "      <th>Tankers</th>\n",
       "    </tr>\n",
       "    <tr>\n",
       "      <th>arrival_date</th>\n",
       "      <th></th>\n",
       "      <th></th>\n",
       "      <th></th>\n",
       "      <th></th>\n",
       "      <th></th>\n",
       "      <th></th>\n",
       "      <th></th>\n",
       "      <th></th>\n",
       "    </tr>\n",
       "  </thead>\n",
       "  <tbody>\n",
       "    <tr>\n",
       "      <th>2019-01-31</th>\n",
       "      <td>6963.883</td>\n",
       "      <td>1495.883</td>\n",
       "      <td>28793.321</td>\n",
       "      <td>606.471</td>\n",
       "      <td>1794.490</td>\n",
       "      <td>161.161</td>\n",
       "      <td>181.697</td>\n",
       "      <td>11408.733</td>\n",
       "    </tr>\n",
       "    <tr>\n",
       "      <th>2019-02-28</th>\n",
       "      <td>6185.218</td>\n",
       "      <td>1490.080</td>\n",
       "      <td>26246.266</td>\n",
       "      <td>605.176</td>\n",
       "      <td>1651.662</td>\n",
       "      <td>16.682</td>\n",
       "      <td>209.126</td>\n",
       "      <td>9863.092</td>\n",
       "    </tr>\n",
       "    <tr>\n",
       "      <th>2019-03-31</th>\n",
       "      <td>6838.529</td>\n",
       "      <td>1590.769</td>\n",
       "      <td>26794.797</td>\n",
       "      <td>732.808</td>\n",
       "      <td>1950.328</td>\n",
       "      <td>357.400</td>\n",
       "      <td>138.759</td>\n",
       "      <td>11199.683</td>\n",
       "    </tr>\n",
       "    <tr>\n",
       "      <th>2019-04-30</th>\n",
       "      <td>7094.617</td>\n",
       "      <td>1822.327</td>\n",
       "      <td>27101.207</td>\n",
       "      <td>773.558</td>\n",
       "      <td>2023.051</td>\n",
       "      <td>931.108</td>\n",
       "      <td>183.118</td>\n",
       "      <td>10429.311</td>\n",
       "    </tr>\n",
       "    <tr>\n",
       "      <th>2019-05-31</th>\n",
       "      <td>7026.793</td>\n",
       "      <td>1351.084</td>\n",
       "      <td>28680.780</td>\n",
       "      <td>693.926</td>\n",
       "      <td>2744.543</td>\n",
       "      <td>263.875</td>\n",
       "      <td>180.544</td>\n",
       "      <td>11048.018</td>\n",
       "    </tr>\n",
       "    <tr>\n",
       "      <th>2019-06-30</th>\n",
       "      <td>6659.547</td>\n",
       "      <td>1523.657</td>\n",
       "      <td>27769.732</td>\n",
       "      <td>799.270</td>\n",
       "      <td>2628.142</td>\n",
       "      <td>58.608</td>\n",
       "      <td>180.875</td>\n",
       "      <td>10717.393</td>\n",
       "    </tr>\n",
       "    <tr>\n",
       "      <th>2019-07-31</th>\n",
       "      <td>9367.089</td>\n",
       "      <td>1541.513</td>\n",
       "      <td>29115.685</td>\n",
       "      <td>819.284</td>\n",
       "      <td>2875.682</td>\n",
       "      <td>4.484</td>\n",
       "      <td>180.731</td>\n",
       "      <td>10407.539</td>\n",
       "    </tr>\n",
       "    <tr>\n",
       "      <th>2019-08-31</th>\n",
       "      <td>9803.249</td>\n",
       "      <td>1621.347</td>\n",
       "      <td>29502.799</td>\n",
       "      <td>799.272</td>\n",
       "      <td>2592.437</td>\n",
       "      <td>37.559</td>\n",
       "      <td>204.797</td>\n",
       "      <td>10133.156</td>\n",
       "    </tr>\n",
       "    <tr>\n",
       "      <th>2019-09-30</th>\n",
       "      <td>9391.971</td>\n",
       "      <td>1273.255</td>\n",
       "      <td>27426.646</td>\n",
       "      <td>520.960</td>\n",
       "      <td>2431.592</td>\n",
       "      <td>12.952</td>\n",
       "      <td>112.148</td>\n",
       "      <td>10785.807</td>\n",
       "    </tr>\n",
       "    <tr>\n",
       "      <th>2019-10-31</th>\n",
       "      <td>10262.354</td>\n",
       "      <td>1681.803</td>\n",
       "      <td>28918.122</td>\n",
       "      <td>617.443</td>\n",
       "      <td>2312.396</td>\n",
       "      <td>368.145</td>\n",
       "      <td>219.809</td>\n",
       "      <td>12801.826</td>\n",
       "    </tr>\n",
       "    <tr>\n",
       "      <th>2019-11-30</th>\n",
       "      <td>9020.718</td>\n",
       "      <td>1474.720</td>\n",
       "      <td>25654.452</td>\n",
       "      <td>745.830</td>\n",
       "      <td>2352.080</td>\n",
       "      <td>588.393</td>\n",
       "      <td>183.216</td>\n",
       "      <td>13402.797</td>\n",
       "    </tr>\n",
       "    <tr>\n",
       "      <th>2019-12-31</th>\n",
       "      <td>9344.206</td>\n",
       "      <td>1437.325</td>\n",
       "      <td>26316.493</td>\n",
       "      <td>702.251</td>\n",
       "      <td>2038.354</td>\n",
       "      <td>58.858</td>\n",
       "      <td>183.166</td>\n",
       "      <td>13130.522</td>\n",
       "    </tr>\n",
       "  </tbody>\n",
       "</table>\n",
       "</div>"
      ],
      "text/plain": [
       "SCA_Vessel_Type  Bulk Carrier  Car Carrier  Container Ships  General Cargo  \\\n",
       "arrival_date                                                                 \n",
       "2019-01-31           6963.883     1495.883        28793.321        606.471   \n",
       "2019-02-28           6185.218     1490.080        26246.266        605.176   \n",
       "2019-03-31           6838.529     1590.769        26794.797        732.808   \n",
       "2019-04-30           7094.617     1822.327        27101.207        773.558   \n",
       "2019-05-31           7026.793     1351.084        28680.780        693.926   \n",
       "2019-06-30           6659.547     1523.657        27769.732        799.270   \n",
       "2019-07-31           9367.089     1541.513        29115.685        819.284   \n",
       "2019-08-31           9803.249     1621.347        29502.799        799.272   \n",
       "2019-09-30           9391.971     1273.255        27426.646        520.960   \n",
       "2019-10-31          10262.354     1681.803        28918.122        617.443   \n",
       "2019-11-30           9020.718     1474.720        25654.452        745.830   \n",
       "2019-12-31           9344.206     1437.325        26316.493        702.251   \n",
       "\n",
       "SCA_Vessel_Type  LNG Ships  Passenger Ships     RoRo    Tankers  \n",
       "arrival_date                                                     \n",
       "2019-01-31        1794.490          161.161  181.697  11408.733  \n",
       "2019-02-28        1651.662           16.682  209.126   9863.092  \n",
       "2019-03-31        1950.328          357.400  138.759  11199.683  \n",
       "2019-04-30        2023.051          931.108  183.118  10429.311  \n",
       "2019-05-31        2744.543          263.875  180.544  11048.018  \n",
       "2019-06-30        2628.142           58.608  180.875  10717.393  \n",
       "2019-07-31        2875.682            4.484  180.731  10407.539  \n",
       "2019-08-31        2592.437           37.559  204.797  10133.156  \n",
       "2019-09-30        2431.592           12.952  112.148  10785.807  \n",
       "2019-10-31        2312.396          368.145  219.809  12801.826  \n",
       "2019-11-30        2352.080          588.393  183.216  13402.797  \n",
       "2019-12-31        2038.354           58.858  183.166  13130.522  "
      ]
     },
     "execution_count": 58,
     "metadata": {},
     "output_type": "execute_result"
    }
   ],
   "source": [
    "#Net Tonnage\n",
    "transits_stats = transits_df.groupby([pd.Grouper(key=\"arrival_date\", freq=\"M\"), \"SCA_Vessel_Type\"])[\"NetTonnage\"].sum().unstack() / 1000\n",
    "transits_stats"
   ]
  },
  {
   "cell_type": "code",
   "execution_count": 59,
   "id": "7abb7db1-fe91-4ce3-9196-58fde6b01000",
   "metadata": {
    "execution": {
     "iopub.execute_input": "2024-08-21T09:16:34.833926Z",
     "iopub.status.busy": "2024-08-21T09:16:34.833476Z",
     "iopub.status.idle": "2024-08-21T09:16:34.842619Z",
     "shell.execute_reply": "2024-08-21T09:16:34.842202Z",
     "shell.execute_reply.started": "2024-08-21T09:16:34.833905Z"
    },
    "tags": []
   },
   "outputs": [
    {
     "data": {
      "text/html": [
       "<div>\n",
       "<style scoped>\n",
       "    .dataframe tbody tr th:only-of-type {\n",
       "        vertical-align: middle;\n",
       "    }\n",
       "\n",
       "    .dataframe tbody tr th {\n",
       "        vertical-align: top;\n",
       "    }\n",
       "\n",
       "    .dataframe thead th {\n",
       "        text-align: right;\n",
       "    }\n",
       "</style>\n",
       "<table border=\"1\" class=\"dataframe\">\n",
       "  <thead>\n",
       "    <tr style=\"text-align: right;\">\n",
       "      <th>Vessel Type</th>\n",
       "      <th>Bulk Carrier</th>\n",
       "      <th>Car Carrier</th>\n",
       "      <th>Container Ships</th>\n",
       "      <th>General Cargo</th>\n",
       "      <th>LNG Ships</th>\n",
       "      <th>Passenger Ships</th>\n",
       "      <th>RoRo</th>\n",
       "      <th>Tankers</th>\n",
       "    </tr>\n",
       "    <tr>\n",
       "      <th>Date</th>\n",
       "      <th></th>\n",
       "      <th></th>\n",
       "      <th></th>\n",
       "      <th></th>\n",
       "      <th></th>\n",
       "      <th></th>\n",
       "      <th></th>\n",
       "      <th></th>\n",
       "    </tr>\n",
       "  </thead>\n",
       "  <tbody>\n",
       "    <tr>\n",
       "      <th>01/01/2019</th>\n",
       "      <td>11437</td>\n",
       "      <td>4470</td>\n",
       "      <td>52870</td>\n",
       "      <td>1317</td>\n",
       "      <td>5052</td>\n",
       "      <td>249</td>\n",
       "      <td>467</td>\n",
       "      <td>20114</td>\n",
       "    </tr>\n",
       "    <tr>\n",
       "      <th>01/02/2019</th>\n",
       "      <td>9741</td>\n",
       "      <td>4365</td>\n",
       "      <td>50372</td>\n",
       "      <td>1212</td>\n",
       "      <td>4692</td>\n",
       "      <td>71</td>\n",
       "      <td>450</td>\n",
       "      <td>17324</td>\n",
       "    </tr>\n",
       "    <tr>\n",
       "      <th>01/03/2019</th>\n",
       "      <td>11434</td>\n",
       "      <td>4828</td>\n",
       "      <td>51894</td>\n",
       "      <td>1441</td>\n",
       "      <td>6412</td>\n",
       "      <td>674</td>\n",
       "      <td>594</td>\n",
       "      <td>20111</td>\n",
       "    </tr>\n",
       "    <tr>\n",
       "      <th>01/04/2019</th>\n",
       "      <td>11986</td>\n",
       "      <td>5585</td>\n",
       "      <td>51494</td>\n",
       "      <td>1390</td>\n",
       "      <td>6603</td>\n",
       "      <td>1537</td>\n",
       "      <td>498</td>\n",
       "      <td>18573</td>\n",
       "    </tr>\n",
       "    <tr>\n",
       "      <th>01/05/2019</th>\n",
       "      <td>11662</td>\n",
       "      <td>4568</td>\n",
       "      <td>57357</td>\n",
       "      <td>1431</td>\n",
       "      <td>8632</td>\n",
       "      <td>648</td>\n",
       "      <td>553</td>\n",
       "      <td>19571</td>\n",
       "    </tr>\n",
       "    <tr>\n",
       "      <th>01/06/2019</th>\n",
       "      <td>10686</td>\n",
       "      <td>4587</td>\n",
       "      <td>53716</td>\n",
       "      <td>1543</td>\n",
       "      <td>8076</td>\n",
       "      <td>123</td>\n",
       "      <td>651</td>\n",
       "      <td>18434</td>\n",
       "    </tr>\n",
       "    <tr>\n",
       "      <th>01/07/2019</th>\n",
       "      <td>14760</td>\n",
       "      <td>4552</td>\n",
       "      <td>55386</td>\n",
       "      <td>1598</td>\n",
       "      <td>8945</td>\n",
       "      <td>12</td>\n",
       "      <td>556</td>\n",
       "      <td>17544</td>\n",
       "    </tr>\n",
       "    <tr>\n",
       "      <th>01/08/2019</th>\n",
       "      <td>15717</td>\n",
       "      <td>4822</td>\n",
       "      <td>55896</td>\n",
       "      <td>1505</td>\n",
       "      <td>7946</td>\n",
       "      <td>73</td>\n",
       "      <td>548</td>\n",
       "      <td>19200</td>\n",
       "    </tr>\n",
       "    <tr>\n",
       "      <th>01/09/2019</th>\n",
       "      <td>15252</td>\n",
       "      <td>3962</td>\n",
       "      <td>51997</td>\n",
       "      <td>948</td>\n",
       "      <td>7605</td>\n",
       "      <td>30</td>\n",
       "      <td>340</td>\n",
       "      <td>18568</td>\n",
       "    </tr>\n",
       "    <tr>\n",
       "      <th>01/10/2019</th>\n",
       "      <td>16777</td>\n",
       "      <td>5088</td>\n",
       "      <td>54951</td>\n",
       "      <td>1302</td>\n",
       "      <td>7214</td>\n",
       "      <td>676</td>\n",
       "      <td>577</td>\n",
       "      <td>21980</td>\n",
       "    </tr>\n",
       "    <tr>\n",
       "      <th>01/11/2019</th>\n",
       "      <td>14283</td>\n",
       "      <td>4407</td>\n",
       "      <td>49426</td>\n",
       "      <td>1464</td>\n",
       "      <td>6875</td>\n",
       "      <td>1242</td>\n",
       "      <td>548</td>\n",
       "      <td>23077</td>\n",
       "    </tr>\n",
       "    <tr>\n",
       "      <th>01/12/2019</th>\n",
       "      <td>15723</td>\n",
       "      <td>4532</td>\n",
       "      <td>50742</td>\n",
       "      <td>1316</td>\n",
       "      <td>6647</td>\n",
       "      <td>154</td>\n",
       "      <td>609</td>\n",
       "      <td>23694</td>\n",
       "    </tr>\n",
       "  </tbody>\n",
       "</table>\n",
       "</div>"
      ],
      "text/plain": [
       "Vessel Type  Bulk Carrier  Car Carrier  Container Ships  General Cargo  \\\n",
       "Date                                                                     \n",
       "01/01/2019          11437         4470            52870           1317   \n",
       "01/02/2019           9741         4365            50372           1212   \n",
       "01/03/2019          11434         4828            51894           1441   \n",
       "01/04/2019          11986         5585            51494           1390   \n",
       "01/05/2019          11662         4568            57357           1431   \n",
       "01/06/2019          10686         4587            53716           1543   \n",
       "01/07/2019          14760         4552            55386           1598   \n",
       "01/08/2019          15717         4822            55896           1505   \n",
       "01/09/2019          15252         3962            51997            948   \n",
       "01/10/2019          16777         5088            54951           1302   \n",
       "01/11/2019          14283         4407            49426           1464   \n",
       "01/12/2019          15723         4532            50742           1316   \n",
       "\n",
       "Vessel Type  LNG Ships  Passenger Ships  RoRo  Tankers  \n",
       "Date                                                    \n",
       "01/01/2019        5052              249   467    20114  \n",
       "01/02/2019        4692               71   450    17324  \n",
       "01/03/2019        6412              674   594    20111  \n",
       "01/04/2019        6603             1537   498    18573  \n",
       "01/05/2019        8632              648   553    19571  \n",
       "01/06/2019        8076              123   651    18434  \n",
       "01/07/2019        8945               12   556    17544  \n",
       "01/08/2019        7946               73   548    19200  \n",
       "01/09/2019        7605               30   340    18568  \n",
       "01/10/2019        7214              676   577    21980  \n",
       "01/11/2019        6875             1242   548    23077  \n",
       "01/12/2019        6647              154   609    23694  "
      ]
     },
     "execution_count": 59,
     "metadata": {},
     "output_type": "execute_result"
    }
   ],
   "source": [
    "sca[sca['Vessel Type']!=\"Others\"].groupby(['Date','Vessel Type'])['Net Tonnage'].sum().unstack()"
   ]
  },
  {
   "cell_type": "code",
   "execution_count": 60,
   "id": "95752a9d-040a-4fe0-b7ba-80b3e48012a1",
   "metadata": {
    "execution": {
     "iopub.execute_input": "2024-08-21T09:16:35.326847Z",
     "iopub.status.busy": "2024-08-21T09:16:35.326398Z",
     "iopub.status.idle": "2024-08-21T09:16:35.330934Z",
     "shell.execute_reply": "2024-08-21T09:16:35.330532Z",
     "shell.execute_reply.started": "2024-08-21T09:16:35.326825Z"
    }
   },
   "outputs": [
    {
     "data": {
      "text/html": [
       "<a download=\"Suez Canal Monthly Net Tonnage 2019 using AIS.csv\" href=\"data:text/csv;base64,YXJyaXZhbF9kYXRlLEJ1bGsgQ2FycmllcixDYXIgQ2FycmllcixDb250YWluZXIgU2hpcHMsR2VuZXJhbCBDYXJnbyxMTkcgU2hpcHMsUGFzc2VuZ2VyIFNoaXBzLFJvUm8sVGFua2VycwoyMDE5LTAxLTMxLDY5NjMuODgzLDE0OTUuODgzLDI4NzkzLjMyMSw2MDYuNDcxLDE3OTQuNDksMTYxLjE2MSwxODEuNjk3LDExNDA4LjczMwoyMDE5LTAyLTI4LDYxODUuMjE4LDE0OTAuMDgsMjYyNDYuMjY2LDYwNS4xNzYsMTY1MS42NjIsMTYuNjgyLDIwOS4xMjYsOTg2My4wOTIKMjAxOS0wMy0zMSw2ODM4LjUyOSwxNTkwLjc2OSwyNjc5NC43OTcsNzMyLjgwOCwxOTUwLjMyOCwzNTcuNCwxMzguNzU5LDExMTk5LjY4MwoyMDE5LTA0LTMwLDcwOTQuNjE3LDE4MjIuMzI3LDI3MTAxLjIwNyw3NzMuNTU4LDIwMjMuMDUxLDkzMS4xMDgsMTgzLjExOCwxMDQyOS4zMTEKMjAxOS0wNS0zMSw3MDI2Ljc5MywxMzUxLjA4NCwyODY4MC43OCw2OTMuOTI2LDI3NDQuNTQzLDI2My44NzUsMTgwLjU0NCwxMTA0OC4wMTgKMjAxOS0wNi0zMCw2NjU5LjU0NywxNTIzLjY1NywyNzc2OS43MzIsNzk5LjI3LDI2MjguMTQyLDU4LjYwOCwxODAuODc1LDEwNzE3LjM5MwoyMDE5LTA3LTMxLDkzNjcuMDg5LDE1NDEuNTEzLDI5MTE1LjY4NSw4MTkuMjg0LDI4NzUuNjgyLDQuNDg0LDE4MC43MzEsMTA0MDcuNTM5CjIwMTktMDgtMzEsOTgwMy4yNDksMTYyMS4zNDcsMjk1MDIuNzk5LDc5OS4yNzIsMjU5Mi40MzcsMzcuNTU5LDIwNC43OTcsMTAxMzMuMTU2CjIwMTktMDktMzAsOTM5MS45NzEsMTI3My4yNTUsMjc0MjYuNjQ2LDUyMC45NiwyNDMxLjU5MiwxMi45NTIsMTEyLjE0OCwxMDc4NS44MDcKMjAxOS0xMC0zMSwxMDI2Mi4zNTQsMTY4MS44MDMsMjg5MTguMTIyLDYxNy40NDMsMjMxMi4zOTYsMzY4LjE0NSwyMTkuODA5LDEyODAxLjgyNgoyMDE5LTExLTMwLDkwMjAuNzE4LDE0NzQuNzIsMjU2NTQuNDUyLDc0NS44MywyMzUyLjA4LDU4OC4zOTMsMTgzLjIxNiwxMzQwMi43OTcKMjAxOS0xMi0zMSw5MzQ0LjIwNiwxNDM3LjMyNSwyNjMxNi40OTMsNzAyLjI1MSwyMDM4LjM1NCw1OC44NTgsMTgzLjE2NiwxMzEzMC41MjIK\" target=\"_blank\">Suez Canal Monthly Net Tonnage 2019 using AIS.csv</a>"
      ],
      "text/plain": [
       "<IPython.core.display.HTML object>"
      ]
     },
     "execution_count": 60,
     "metadata": {},
     "output_type": "execute_result"
    }
   ],
   "source": [
    "#To get the outputs for  local storage\n",
    "af.create_download_link(transits_stats, \"Suez Canal Monthly Net Tonnage 2019 using AIS.csv\",\"Suez Canal Monthly Net Tonnage 2019 using AIS.csv\")"
   ]
  },
  {
   "cell_type": "code",
   "execution_count": null,
   "id": "dd0a7181-a2ee-4bb8-8c87-e05a4ca23b1c",
   "metadata": {},
   "outputs": [],
   "source": []
  }
 ],
 "metadata": {
  "kernelspec": {
   "display_name": "pyspark3.5 ais2.9",
   "language": "python3",
   "name": "pyspark-ais-nosedona-202403"
  },
  "language_info": {
   "codemirror_mode": {
    "name": "ipython",
    "version": 3
   },
   "file_extension": ".py",
   "mimetype": "text/x-python",
   "name": "python",
   "nbconvert_exporter": "python",
   "pygments_lexer": "ipython3",
   "version": "3.10.10"
  }
 },
 "nbformat": 4,
 "nbformat_minor": 5
}
