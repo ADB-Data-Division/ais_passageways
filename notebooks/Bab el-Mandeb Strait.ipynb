{
 "cells": [
  {
   "cell_type": "markdown",
   "id": "652a38c0-d9e5-420c-a9ad-af660af5762e",
   "metadata": {},
   "source": [
    "# 0. Notes:\n",
    "\n",
    "This notebook shows how to identify vessels transiting in Bab-el mandeb Strait during the Houthi attack.\n",
    "\n",
    "Connect to the UN Global Platform and use kernel `pyspark3.5 ais2.9`"
   ]
  },
  {
   "cell_type": "markdown",
   "id": "7a8e0465-1c2a-47be-b2d6-5517a252368e",
   "metadata": {},
   "source": [
    "# 1. Initialize"
   ]
  },
  {
   "cell_type": "code",
   "execution_count": 1,
   "id": "f3eafc0f-f552-46be-9f35-333f6207e97e",
   "metadata": {
    "execution": {
     "iopub.execute_input": "2024-08-19T07:15:42.371751Z",
     "iopub.status.busy": "2024-08-19T07:15:42.371189Z",
     "iopub.status.idle": "2024-08-19T07:15:43.100106Z",
     "shell.execute_reply": "2024-08-19T07:15:43.099574Z",
     "shell.execute_reply.started": "2024-08-19T07:15:42.371732Z"
    },
    "tags": []
   },
   "outputs": [
    {
     "name": "stdout",
     "output_type": "stream",
     "text": [
      "generated new fontManager\n"
     ]
    }
   ],
   "source": [
    "import geopandas as gpd\n",
    "from shapely.geometry import mapping, Polygon\n",
    "\n",
    "from pyspark.sql import functions as F\n",
    "from pyspark.sql import Window as W\n",
    "from ais import functions as af\n",
    "import h3.api.numpy_int as h3int\n",
    "\n",
    "import matplotlib.pyplot as plt"
   ]
  },
  {
   "cell_type": "code",
   "execution_count": 2,
   "id": "1ffffcc8-a54e-43ad-adb4-6c9f639933e4",
   "metadata": {
    "execution": {
     "iopub.execute_input": "2024-08-19T07:15:43.458022Z",
     "iopub.status.busy": "2024-08-19T07:15:43.457349Z",
     "iopub.status.idle": "2024-08-19T07:15:55.065102Z",
     "shell.execute_reply": "2024-08-19T07:15:55.063424Z",
     "shell.execute_reply.started": "2024-08-19T07:15:43.458001Z"
    },
    "tags": []
   },
   "outputs": [
    {
     "name": "stdout",
     "output_type": "stream",
     "text": [
      "Skipping SedonaKepler import, verify if keplergl is installed\n",
      "Skipping SedonaPyDeck import, verify if pydeck is installed\n"
     ]
    }
   ],
   "source": [
    "from sedona.spark import *\n",
    "\n",
    "sedona = SedonaContext.create(spark)"
   ]
  },
  {
   "cell_type": "code",
   "execution_count": 3,
   "id": "b9077e4d-03ff-4dc1-955c-c02242f70a1e",
   "metadata": {
    "execution": {
     "iopub.execute_input": "2024-08-19T07:15:55.066443Z",
     "iopub.status.busy": "2024-08-19T07:15:55.066235Z",
     "iopub.status.idle": "2024-08-19T07:15:55.072629Z",
     "shell.execute_reply": "2024-08-19T07:15:55.072069Z",
     "shell.execute_reply.started": "2024-08-19T07:15:55.066425Z"
    },
    "tags": []
   },
   "outputs": [],
   "source": [
    "import requests\n",
    "import base64\n",
    "import os\n",
    "import pandas as pd\n",
    "from io import StringIO"
   ]
  },
  {
   "cell_type": "code",
   "execution_count": 4,
   "id": "e1aa0cbf-8a49-496f-b840-114429a7549d",
   "metadata": {
    "execution": {
     "iopub.execute_input": "2024-08-19T07:15:55.073483Z",
     "iopub.status.busy": "2024-08-19T07:15:55.073313Z",
     "iopub.status.idle": "2024-08-19T07:15:55.076694Z",
     "shell.execute_reply": "2024-08-19T07:15:55.076226Z",
     "shell.execute_reply.started": "2024-08-19T07:15:55.073463Z"
    },
    "tags": []
   },
   "outputs": [],
   "source": [
    "passageway = \"bab_elmandeb_strait\"\n",
    "raw_ais_save_path = os.environ[\"USER_TEMP_S3PATH\"] + f\"cherryl/ais_passageways/{passageway}/ais/\""
   ]
  },
  {
   "cell_type": "markdown",
   "id": "55405b2f-277e-41e3-9aad-021f8787e555",
   "metadata": {
    "tags": []
   },
   "source": [
    "# 2. Geometries"
   ]
  },
  {
   "cell_type": "code",
   "execution_count": 5,
   "id": "1df1295b-b9c8-4b3e-9e4b-9e6527ec2d06",
   "metadata": {
    "execution": {
     "iopub.execute_input": "2024-08-19T07:16:04.746676Z",
     "iopub.status.busy": "2024-08-19T07:16:04.746088Z",
     "iopub.status.idle": "2024-08-19T07:16:04.932241Z",
     "shell.execute_reply": "2024-08-19T07:16:04.931748Z",
     "shell.execute_reply.started": "2024-08-19T07:16:04.746658Z"
    },
    "tags": []
   },
   "outputs": [
    {
     "data": {
      "text/html": [
       "<div>\n",
       "<style scoped>\n",
       "    .dataframe tbody tr th:only-of-type {\n",
       "        vertical-align: middle;\n",
       "    }\n",
       "\n",
       "    .dataframe tbody tr th {\n",
       "        vertical-align: top;\n",
       "    }\n",
       "\n",
       "    .dataframe thead th {\n",
       "        text-align: right;\n",
       "    }\n",
       "</style>\n",
       "<table border=\"1\" class=\"dataframe\">\n",
       "  <thead>\n",
       "    <tr style=\"text-align: right;\">\n",
       "      <th></th>\n",
       "      <th>POI</th>\n",
       "      <th>Label</th>\n",
       "      <th>geometry</th>\n",
       "    </tr>\n",
       "  </thead>\n",
       "  <tbody>\n",
       "    <tr>\n",
       "      <th>0</th>\n",
       "      <td>South</td>\n",
       "      <td>South Entrance</td>\n",
       "      <td>POLYGON ((44.40252 12.66319, 44.07058 12.61990...</td>\n",
       "    </tr>\n",
       "    <tr>\n",
       "      <th>1</th>\n",
       "      <td>Middle</td>\n",
       "      <td>Middle Area</td>\n",
       "      <td>POLYGON ((43.48196 12.82258, 43.19821 12.60829...</td>\n",
       "    </tr>\n",
       "    <tr>\n",
       "      <th>2</th>\n",
       "      <td>North</td>\n",
       "      <td>North Emtrance</td>\n",
       "      <td>POLYGON ((42.72905 13.04779, 43.22778 13.31094...</td>\n",
       "    </tr>\n",
       "  </tbody>\n",
       "</table>\n",
       "</div>"
      ],
      "text/plain": [
       "      POI           Label                                           geometry\n",
       "0   South  South Entrance  POLYGON ((44.40252 12.66319, 44.07058 12.61990...\n",
       "1  Middle     Middle Area  POLYGON ((43.48196 12.82258, 43.19821 12.60829...\n",
       "2   North  North Emtrance  POLYGON ((42.72905 13.04779, 43.22778 13.31094..."
      ]
     },
     "execution_count": 5,
     "metadata": {},
     "output_type": "execute_result"
    }
   ],
   "source": [
    "request = requests.get(f\"https://api.github.com/repos/cherrylchico/ais_passageways/contents/data/{passageway}.geojson\")\n",
    "gdf = gpd.read_file(base64.b64decode(request.json()['content']).decode('utf-8'))\n",
    "gdf"
   ]
  },
  {
   "cell_type": "code",
   "execution_count": 8,
   "id": "7bc0f0fd-03d4-4e29-b5c2-28c22ddba635",
   "metadata": {
    "execution": {
     "iopub.execute_input": "2024-08-19T07:16:23.157958Z",
     "iopub.status.busy": "2024-08-19T07:16:23.157323Z",
     "iopub.status.idle": "2024-08-19T07:16:23.292348Z",
     "shell.execute_reply": "2024-08-19T07:16:23.291865Z",
     "shell.execute_reply.started": "2024-08-19T07:16:23.157938Z"
    },
    "tags": []
   },
   "outputs": [
    {
     "name": "stdout",
     "output_type": "stream",
     "text": [
      "Input polygon is too small to be filled in with hexagon of resolution: 4\n",
      "Attempting to fit a hex of resolution: 5...\n",
      "A hex of resolution: 5 fits the input polygon\n",
      "Finding it's parent in resolution: 4\n",
      "Input polygon is too small to be filled in with hexagon of resolution: 4\n",
      "Attempting to fit a hex of resolution: 5...\n",
      "A hex of resolution: 5 fits the input polygon\n",
      "Finding it's parent in resolution: 4\n",
      "\n",
      "H3 count:32\n"
     ]
    },
    {
     "name": "stderr",
     "output_type": "stream",
     "text": [
      "WARNING: there are hex ids contained in more than 1 polygon\n"
     ]
    },
    {
     "data": {
      "text/plain": [
       "<Axes: >"
      ]
     },
     "execution_count": 8,
     "metadata": {},
     "output_type": "execute_result"
    },
    {
     "data": {
      "image/png": "[encoded data removed]",
      "text/plain": [
       "<Figure size 640x480 with 1 Axes>"
      ]
     },
     "metadata": {},
     "output_type": "display_data"
    }
   ],
   "source": [
    "#We use H3 indices (https://h3geo.org/docs) as a geo-spatial filter for AIS data in the UNGP. \n",
    "#To get all AIS data within the AOIs, we overfill the geometries with H3 indices, then use the list of H3 indices as filter.  \n",
    "#To ensure that the filtering is efficient, the number of H3 indices should small and the area outside of the AOI should also be small\n",
    "#here, we chose H3 index resolution 6. \n",
    "\n",
    "h3_resolution = 4\n",
    "\n",
    "inputs = [(row['Label'], mapping(row['geometry'])) for index, row in gdf.iterrows()]\n",
    "hex_df = af.polygon_to_hex_df(inputs, h3_resolution, overfill=True)\n",
    "hexes = hex_df['hex_id'].drop_duplicates().tolist()\n",
    "\n",
    "print(f\"\\nH3 count:{len(hexes)}\")\n",
    "hexes = hex_df['hex_id'].drop_duplicates().tolist()\n",
    "h3_gdf = gpd.GeoDataFrame([[\"H3\",Polygon(h3int.h3_set_to_multi_polygon(hexes, geo_json=True)[0][0])]], columns=['h3','geometry'], crs=4326)\n",
    "fig, ax = plt.subplots()\n",
    "gdf.plot(ax=ax)\n",
    "h3_gdf.plot(ax=ax, facecolor=\"none\")"
   ]
  },
  {
   "cell_type": "markdown",
   "id": "c470c96e-b84f-4813-bc86-b5ede4ca73b5",
   "metadata": {
    "tags": []
   },
   "source": [
    "# 3. Extract AIS data and save to S3"
   ]
  },
  {
   "cell_type": "markdown",
   "id": "d2dd6d63-3b92-4de3-8935-ecaad6bd4501",
   "metadata": {
    "tags": []
   },
   "source": [
    "## 3.1 Preparation"
   ]
  },
  {
   "cell_type": "code",
   "execution_count": 9,
   "id": "9b82dbca-0849-4307-b526-381dc7ccaada",
   "metadata": {
    "execution": {
     "iopub.execute_input": "2024-08-19T07:16:35.409305Z",
     "iopub.status.busy": "2024-08-19T07:16:35.408853Z",
     "iopub.status.idle": "2024-08-19T07:16:35.412032Z",
     "shell.execute_reply": "2024-08-19T07:16:35.411576Z",
     "shell.execute_reply.started": "2024-08-19T07:16:35.409286Z"
    },
    "tags": []
   },
   "outputs": [],
   "source": [
    "ais_cols = [\n",
    " 'mmsi',\n",
    " 'longitude',\n",
    " 'latitude',\n",
    " 'imo',\n",
    " 'vessel_name',\n",
    " 'vessel_type',\n",
    " 'destination',\n",
    " 'sog',\n",
    " 'nav_status',\n",
    " 'dt_pos_utc']"
   ]
  },
  {
   "cell_type": "code",
   "execution_count": 10,
   "id": "23dcad69-aa66-46d8-a3cc-d75b2445c146",
   "metadata": {
    "execution": {
     "iopub.execute_input": "2024-08-19T07:17:11.929351Z",
     "iopub.status.busy": "2024-08-19T07:17:11.928752Z",
     "iopub.status.idle": "2024-08-19T07:17:32.899765Z",
     "shell.execute_reply": "2024-08-19T07:17:32.899169Z",
     "shell.execute_reply.started": "2024-08-19T07:17:11.929332Z"
    },
    "tags": []
   },
   "outputs": [],
   "source": [
    "#Read Ship Register datasets as a spark dataframe, use version 20240401 which is version covering the disruption\n",
    "#note that af module is from the ais package \n",
    "\n",
    "#The ShipData table provides information on the vessel's IMO, vessel type described by the StatCode5 and ShiptypeLevel5\n",
    "ihs = af.read_ihs_table(spark, \"ShipData.CSV\", version=\"20240401\") \\\n",
    ".select(\"ShipName\",\"LRIMOShipNo\",\"MaritimeMobileServiceIdentityMMSINumber\",\"StatCode5\",\"ShiptypeLevel5\")\n",
    "\n",
    "#We use the tblShipTypeCodes table to get more information on the vessel type.\n",
    "#We select only \"Cargo-carrying vessels\" which is identified by ShiptypeLevel2 information\n",
    "ihs_statcode = af.read_ihs_table(spark, \"tblShipTypeCodes.CSV\",  version=\"20240401\") \\\n",
    ".select(\"StatCode5\",\"ShiptypeLevel2\") \\\n",
    ".filter(F.col(\"ShiptypeLevel2\").isin([\"Bulk Carriers\", \"Dry Cargo/Passenger\", \"Tankers\"]))"
   ]
  },
  {
   "cell_type": "code",
   "execution_count": 12,
   "id": "d7f8167f-a5e6-4fce-b539-36255af431d0",
   "metadata": {
    "execution": {
     "iopub.execute_input": "2024-08-19T07:17:59.681573Z",
     "iopub.status.busy": "2024-08-19T07:17:59.681175Z",
     "iopub.status.idle": "2024-08-19T07:17:59.707843Z",
     "shell.execute_reply": "2024-08-19T07:17:59.707180Z",
     "shell.execute_reply.started": "2024-08-19T07:17:59.681556Z"
    },
    "tags": []
   },
   "outputs": [],
   "source": [
    "#Convert geometries to spark dataframe to prepare for spark processing of geospatial data\n",
    "sdf_poly = sedona.createDataFrame(gdf[['geometry','POI']])"
   ]
  },
  {
   "cell_type": "code",
   "execution_count": 13,
   "id": "6aeb8326-4127-47fb-9821-19b563bbee14",
   "metadata": {
    "execution": {
     "iopub.execute_input": "2024-08-19T07:18:00.624887Z",
     "iopub.status.busy": "2024-08-19T07:18:00.624301Z",
     "iopub.status.idle": "2024-08-19T07:18:00.629436Z",
     "shell.execute_reply": "2024-08-19T07:18:00.628903Z",
     "shell.execute_reply.started": "2024-08-19T07:18:00.624868Z"
    },
    "tags": []
   },
   "outputs": [],
   "source": [
    "def extract_passageway_cargo(start_date, end_date, hexes, raw_ais_save_path, mode=\"overwrite\"):\n",
    "    #Read AIS within the start date and end date where hex ids are within the hexes list\n",
    "    sdf = af.get_ais(spark, start_date=start_date, end_date=end_date, h3_list = hexes)\n",
    "    \n",
    "    #Get only AIS where location is within the POI geometries\n",
    "    sdf_w_point = sdf.withColumn(\"point\", F.expr(\"ST_Point(longitude, latitude)\"))\n",
    "    sdf_w_point.createOrReplaceTempView(\"ais_temp\")\n",
    "    sdf_poly.createOrReplaceTempView(\"poly_temp\")\n",
    "    sdf_poly_filter = spark.sql(\"\"\" select  * from ais_temp, poly_temp where ST_Within(point, geometry)\"\"\")\n",
    "    \n",
    "    #Get only AIS where the type is cargo related\n",
    "    sdf_cargo = sdf_poly_filter.join(ihs.withColumnRenamed(\"LRIMOShipNo\",\"imo\"), how=\"inner\", on=['imo']) \\\n",
    "    .join(ihs_statcode, how=\"inner\", on=['StatCode5']) \\\n",
    "    .select(*ais_cols, \"ShipName\",\"MaritimeMobileServiceIdentityMMSINumber\",\"StatCode5\",\"ShiptypeLevel5\",\"ShiptypeLevel2\",\"POI\") \\\n",
    "    .withColumns({\"year\":F.year(\"dt_pos_utc\"),\"month\":F.month(\"dt_pos_utc\")})\n",
    "    \n",
    "    #Save in S3\n",
    "    sdf_cargo.write.mode(mode).partitionBy(\"year\",\"month\").parquet(raw_ais_save_path)\n",
    "    return sdf_cargo"
   ]
  },
  {
   "cell_type": "markdown",
   "id": "f4a07ccf-47e0-486d-a212-9a9b3d5079ec",
   "metadata": {
    "tags": []
   },
   "source": [
    "## 3.2 Run"
   ]
  },
  {
   "cell_type": "code",
   "execution_count": 20,
   "id": "8aa6139b-c54d-4829-bf15-0357e1b50d79",
   "metadata": {
    "execution": {
     "iopub.execute_input": "2024-08-19T07:39:44.282420Z",
     "iopub.status.busy": "2024-08-19T07:39:44.281948Z",
     "iopub.status.idle": "2024-08-19T07:39:44.284809Z",
     "shell.execute_reply": "2024-08-19T07:39:44.284306Z",
     "shell.execute_reply.started": "2024-08-19T07:39:44.282402Z"
    },
    "tags": []
   },
   "outputs": [],
   "source": [
    "# #Run the extraction process per month.Overwrite for the first time,and then append the next one\n",
    "# start_date = \"2023-11-01\"\n",
    "# end_date = \"2023-11-30\"\n",
    "# sdf = extract_passageway_cargo(start_date, end_date, hexes, raw_ais_save_path, mode=\"overwrite\")"
   ]
  },
  {
   "cell_type": "code",
   "execution_count": 21,
   "id": "dd39e54f-3d30-4778-9650-d324defe665a",
   "metadata": {
    "execution": {
     "iopub.execute_input": "2024-08-19T07:39:46.370334Z",
     "iopub.status.busy": "2024-08-19T07:39:46.369846Z",
     "iopub.status.idle": "2024-08-19T07:39:46.372693Z",
     "shell.execute_reply": "2024-08-19T07:39:46.372224Z",
     "shell.execute_reply.started": "2024-08-19T07:39:46.370316Z"
    },
    "tags": []
   },
   "outputs": [],
   "source": [
    "# start_date = \"2023-12-01\"\n",
    "# end_date = \"2023-12-31\"\n",
    "# sdf = extract_passageway_cargo(start_date, end_date, hexes, raw_ais_save_path, mode=\"append\")"
   ]
  },
  {
   "cell_type": "code",
   "execution_count": 22,
   "id": "174d29e5-0f58-43bb-a907-17a028fbaae8",
   "metadata": {
    "execution": {
     "iopub.execute_input": "2024-08-19T07:39:48.589375Z",
     "iopub.status.busy": "2024-08-19T07:39:48.588967Z",
     "iopub.status.idle": "2024-08-19T07:39:48.591824Z",
     "shell.execute_reply": "2024-08-19T07:39:48.591378Z",
     "shell.execute_reply.started": "2024-08-19T07:39:48.589358Z"
    },
    "tags": []
   },
   "outputs": [],
   "source": [
    "# start_date = \"2024-01-01\"\n",
    "# end_date = \"2024-01-31\"\n",
    "# sdf = extract_passageway_cargo(start_date, end_date, hexes, raw_ais_save_path, mode=\"append\")"
   ]
  },
  {
   "cell_type": "code",
   "execution_count": 23,
   "id": "9dc0e109-853e-45ae-8ce9-267c115017af",
   "metadata": {
    "execution": {
     "iopub.execute_input": "2024-08-19T07:39:50.546912Z",
     "iopub.status.busy": "2024-08-19T07:39:50.546466Z",
     "iopub.status.idle": "2024-08-19T07:39:50.549312Z",
     "shell.execute_reply": "2024-08-19T07:39:50.548836Z",
     "shell.execute_reply.started": "2024-08-19T07:39:50.546894Z"
    },
    "tags": []
   },
   "outputs": [],
   "source": [
    "# start_date = \"2024-02-01\"\n",
    "# end_date = \"2024-02-29\"\n",
    "# sdf = extract_passageway_cargo(start_date, end_date, hexes, raw_ais_save_path, mode=\"append\")"
   ]
  },
  {
   "cell_type": "code",
   "execution_count": 24,
   "id": "21e2136c-582c-4293-b7ce-ee8ca2c1c9a9",
   "metadata": {
    "execution": {
     "iopub.execute_input": "2024-08-19T07:39:53.194149Z",
     "iopub.status.busy": "2024-08-19T07:39:53.193779Z",
     "iopub.status.idle": "2024-08-19T07:39:53.196817Z",
     "shell.execute_reply": "2024-08-19T07:39:53.196266Z",
     "shell.execute_reply.started": "2024-08-19T07:39:53.194132Z"
    },
    "tags": []
   },
   "outputs": [],
   "source": [
    "# start_date = \"2024-03-01\"\n",
    "# end_date = \"2024-03-31\"\n",
    "# sdf = extract_passageway_cargo(start_date, end_date, hexes, raw_ais_save_path, mode=\"append\")"
   ]
  },
  {
   "cell_type": "markdown",
   "id": "f0c31d2a-5f11-42e6-89b3-cfccf3385a4e",
   "metadata": {},
   "source": [
    "# 4. Get transits"
   ]
  },
  {
   "cell_type": "markdown",
   "id": "8a78c57b-0b8f-44d5-973f-1755052cca3f",
   "metadata": {},
   "source": [
    "## 4.1 Preparation"
   ]
  },
  {
   "cell_type": "code",
   "execution_count": 25,
   "id": "1eee24e7-387e-4a51-85d2-9fbddbf6a097",
   "metadata": {
    "execution": {
     "iopub.execute_input": "2024-08-19T07:39:55.437530Z",
     "iopub.status.busy": "2024-08-19T07:39:55.437003Z",
     "iopub.status.idle": "2024-08-19T07:39:55.452263Z",
     "shell.execute_reply": "2024-08-19T07:39:55.451694Z",
     "shell.execute_reply.started": "2024-08-19T07:39:55.437511Z"
    },
    "tags": []
   },
   "outputs": [],
   "source": [
    "w = W.partitionBy(\"imo\").orderBy(\"dt_pos_utc\")\n",
    "def get_transits(sdf, min_time_diff):\n",
    "    #This function identifies the \"voyages\" of a vessel\n",
    "    #The voyage groups together consecutive messages that likely came from a single transit through the passageway\n",
    "    #A message is identified to have come from a different voyage is the time between the messages is at least a defined time period\n",
    "    sdf_groups = sdf.withColumn(\"prev_dt_pos_utc\", F.lag(\"dt_pos_utc\").over(w)) \\\n",
    "    .withColumn(\"time_diff_hours\", (F.col(\"dt_pos_utc\").cast(\"long\") - F.col(\"prev_dt_pos_utc\").cast(\"long\")) / 3600) \\\n",
    "    .withColumn(\"time_diff_flag\", F.when(F.col(\"time_diff_hours\").isNull(), 1) \\\n",
    "                                    .when(F.col(\"time_diff_hours\") > min_time_diff,1) \\\n",
    "                                    .otherwise(0)) \\\n",
    "    .withColumn(\"voyage\", F.sum(\"time_diff_flag\").over(w)) \\\n",
    "    .withColumn(\"idle_hours\", F.when(F.col(\"sog\") < 1, F.col(\"time_diff_hours\")).otherwise(0))\n",
    "    \n",
    "    #get important information from the voyages needed to identify transits and produce statistics\n",
    "    transits_sdf = sdf_groups \\\n",
    "    .groupBy(\"imo\",\"voyage\") \\\n",
    "    .agg(F.first(\"vessel_name\").alias(\"vessel_name\"),\n",
    "         F.first(\"StatCode5\").alias(\"StatCode5\"),\n",
    "         F.first(\"ShiptypeLevel2\").alias(\"ShiptypeLevel2\"),\n",
    "         F.first(\"ShiptypeLevel5\").alias(\"ShiptypeLevel5\"),\n",
    "         F.min(\"dt_pos_utc\").alias(\"arrival_date\"),\n",
    "         F.max(\"dt_pos_utc\").alias(\"departure_date\"),\n",
    "         F.min_by(\"POI\", \"dt_pos_utc\").alias(\"arrival_POI\"),\n",
    "         F.max_by(\"POI\", \"dt_pos_utc\").alias(\"departure_POI\"),\n",
    "         F.countDistinct(\"POI\").alias(\"count_distinct_POI\"),\n",
    "         F.sum(\"idle_hours\").alias(\"idle_time\")\n",
    "        ) \\\n",
    "    .filter(F.col(\"arrival_POI\")!=F.col(\"departure_POI\")) \\\n",
    "    .withColumn(\"dwell_time\",  (F.col(\"departure_date\").cast(\"long\") - F.col(\"arrival_date\").cast(\"long\")) / 3600) \\\n",
    "    .withColumn(\"direction\",     F.concat(F.col(\"arrival_POI\"), F.lit(\"-\"), F.col(\"departure_POI\"))) \\\n",
    "    .withColumn(\"complete_transit_flag\", F.col(\"direction\").isin(['North-South','South-North'])) \n",
    "    \n",
    "    return transits_sdf"
   ]
  },
  {
   "cell_type": "markdown",
   "id": "a397eafe-e75a-43e2-95cb-0eaaf584a1d2",
   "metadata": {},
   "source": [
    "## 4.2 Run"
   ]
  },
  {
   "cell_type": "code",
   "execution_count": 26,
   "id": "e47ffe68-4df7-4e2e-ba03-3f3410ec8c46",
   "metadata": {
    "execution": {
     "iopub.execute_input": "2024-08-19T07:39:57.254472Z",
     "iopub.status.busy": "2024-08-19T07:39:57.253917Z",
     "iopub.status.idle": "2024-08-19T07:40:12.525921Z",
     "shell.execute_reply": "2024-08-19T07:40:12.525326Z",
     "shell.execute_reply.started": "2024-08-19T07:39:57.254454Z"
    },
    "tags": []
   },
   "outputs": [
    {
     "name": "stdout",
     "output_type": "stream",
     "text": [
      "Total AIS messages: 190,646\n",
      "-RECORD 0---------------------------------------------------------\n",
      " mmsi                                    | 352002168              \n",
      " longitude                               | 43.326215              \n",
      " latitude                                | 12.70115               \n",
      " imo                                     | 9524463                \n",
      " vessel_name                             | SAKARYA                \n",
      " vessel_type                             | Tanker                 \n",
      " destination                             | EGSUZ                  \n",
      " sog                                     | 14.4                   \n",
      " nav_status                              | Under Way Using Engine \n",
      " dt_pos_utc                              | 2023-11-18 23:20:13    \n",
      " ShipName                                | SAKARYA                \n",
      " MaritimeMobileServiceIdentityMMSINumber | 352002168              \n",
      " StatCode5                               | A13A2TV                \n",
      " ShiptypeLevel5                          | Crude Oil Tanker       \n",
      " ShiptypeLevel2                          | Tankers                \n",
      " POI                                     | Middle                 \n",
      " year                                    | 2023                   \n",
      " month                                   | 11                     \n",
      "only showing top 1 row\n",
      "\n"
     ]
    }
   ],
   "source": [
    "#Read the extracted data from Section 3\n",
    "sdf = spark.read.parquet(raw_ais_save_path)\n",
    "print(f\"Total AIS messages: {sdf.count():,}\")\n",
    "sdf.show(n=1, truncate=False, vertical =True)"
   ]
  },
  {
   "cell_type": "code",
   "execution_count": 27,
   "id": "0d512d8a-af90-4bc8-b3d3-b15125b9f722",
   "metadata": {
    "execution": {
     "iopub.execute_input": "2024-08-19T07:40:22.314936Z",
     "iopub.status.busy": "2024-08-19T07:40:22.314369Z",
     "iopub.status.idle": "2024-08-19T07:40:27.695428Z",
     "shell.execute_reply": "2024-08-19T07:40:27.694711Z",
     "shell.execute_reply.started": "2024-08-19T07:40:22.314917Z"
    },
    "tags": []
   },
   "outputs": [
    {
     "name": "stdout",
     "output_type": "stream",
     "text": [
      "<class 'pandas.core.frame.DataFrame'>\n",
      "RangeIndex: 7627 entries, 0 to 7626\n",
      "Data columns (total 15 columns):\n",
      " #   Column                 Non-Null Count  Dtype         \n",
      "---  ------                 --------------  -----         \n",
      " 0   imo                    7627 non-null   int32         \n",
      " 1   voyage                 7627 non-null   int64         \n",
      " 2   vessel_name            7627 non-null   object        \n",
      " 3   StatCode5              7627 non-null   object        \n",
      " 4   ShiptypeLevel2         7627 non-null   object        \n",
      " 5   ShiptypeLevel5         7627 non-null   object        \n",
      " 6   arrival_date           7627 non-null   datetime64[ns]\n",
      " 7   departure_date         7627 non-null   datetime64[ns]\n",
      " 8   arrival_POI            7627 non-null   object        \n",
      " 9   departure_POI          7627 non-null   object        \n",
      " 10  count_distinct_POI     7627 non-null   int64         \n",
      " 11  idle_time              7627 non-null   float64       \n",
      " 12  dwell_time             7627 non-null   float64       \n",
      " 13  direction              7627 non-null   object        \n",
      " 14  complete_transit_flag  7627 non-null   bool          \n",
      "dtypes: bool(1), datetime64[ns](2), float64(2), int32(1), int64(2), object(7)\n",
      "memory usage: 812.0+ KB\n"
     ]
    }
   ],
   "source": [
    "#Identify transits, using minimum time input of 8 hrs (rought estimate of transit time)\n",
    "transits_df =  get_transits(sdf, 8).toPandas()\n",
    "transits_df.info()"
   ]
  },
  {
   "cell_type": "code",
   "execution_count": 28,
   "id": "4504caea-9390-4b6a-96b3-caa71d043f79",
   "metadata": {
    "execution": {
     "iopub.execute_input": "2024-08-19T07:40:32.275668Z",
     "iopub.status.busy": "2024-08-19T07:40:32.275049Z",
     "iopub.status.idle": "2024-08-19T07:40:32.285978Z",
     "shell.execute_reply": "2024-08-19T07:40:32.285426Z",
     "shell.execute_reply.started": "2024-08-19T07:40:32.275649Z"
    },
    "tags": []
   },
   "outputs": [
    {
     "data": {
      "text/html": [
       "<div>\n",
       "<style scoped>\n",
       "    .dataframe tbody tr th:only-of-type {\n",
       "        vertical-align: middle;\n",
       "    }\n",
       "\n",
       "    .dataframe tbody tr th {\n",
       "        vertical-align: top;\n",
       "    }\n",
       "\n",
       "    .dataframe thead th {\n",
       "        text-align: right;\n",
       "    }\n",
       "</style>\n",
       "<table border=\"1\" class=\"dataframe\">\n",
       "  <thead>\n",
       "    <tr style=\"text-align: right;\">\n",
       "      <th></th>\n",
       "      <th>imo</th>\n",
       "      <th>voyage</th>\n",
       "      <th>vessel_name</th>\n",
       "      <th>StatCode5</th>\n",
       "      <th>ShiptypeLevel2</th>\n",
       "      <th>ShiptypeLevel5</th>\n",
       "      <th>arrival_date</th>\n",
       "      <th>departure_date</th>\n",
       "      <th>arrival_POI</th>\n",
       "      <th>departure_POI</th>\n",
       "      <th>count_distinct_POI</th>\n",
       "      <th>idle_time</th>\n",
       "      <th>dwell_time</th>\n",
       "      <th>direction</th>\n",
       "      <th>complete_transit_flag</th>\n",
       "    </tr>\n",
       "  </thead>\n",
       "  <tbody>\n",
       "    <tr>\n",
       "      <th>0</th>\n",
       "      <td>1016161</td>\n",
       "      <td>1</td>\n",
       "      <td>ZHONG PENG YOU YI</td>\n",
       "      <td>A33A2CC</td>\n",
       "      <td>Dry Cargo/Passenger</td>\n",
       "      <td>Container Ship (Fully Cellular)</td>\n",
       "      <td>2023-12-29 08:24:38</td>\n",
       "      <td>2023-12-29 15:09:25</td>\n",
       "      <td>South</td>\n",
       "      <td>North</td>\n",
       "      <td>3</td>\n",
       "      <td>0.0</td>\n",
       "      <td>6.746389</td>\n",
       "      <td>South-North</td>\n",
       "      <td>True</td>\n",
       "    </tr>\n",
       "    <tr>\n",
       "      <th>1</th>\n",
       "      <td>1016161</td>\n",
       "      <td>2</td>\n",
       "      <td>ZHONG PENG YOU YI</td>\n",
       "      <td>A33A2CC</td>\n",
       "      <td>Dry Cargo/Passenger</td>\n",
       "      <td>Container Ship (Fully Cellular)</td>\n",
       "      <td>2024-02-19 14:51:48</td>\n",
       "      <td>2024-02-19 22:21:52</td>\n",
       "      <td>North</td>\n",
       "      <td>South</td>\n",
       "      <td>3</td>\n",
       "      <td>0.0</td>\n",
       "      <td>7.501111</td>\n",
       "      <td>North-South</td>\n",
       "      <td>True</td>\n",
       "    </tr>\n",
       "    <tr>\n",
       "      <th>2</th>\n",
       "      <td>1016161</td>\n",
       "      <td>3</td>\n",
       "      <td>ZHONG PENG YOU YI</td>\n",
       "      <td>A33A2CC</td>\n",
       "      <td>Dry Cargo/Passenger</td>\n",
       "      <td>Container Ship (Fully Cellular)</td>\n",
       "      <td>2024-03-11 05:37:02</td>\n",
       "      <td>2024-03-11 11:45:57</td>\n",
       "      <td>South</td>\n",
       "      <td>North</td>\n",
       "      <td>3</td>\n",
       "      <td>0.0</td>\n",
       "      <td>6.148611</td>\n",
       "      <td>South-North</td>\n",
       "      <td>True</td>\n",
       "    </tr>\n",
       "    <tr>\n",
       "      <th>3</th>\n",
       "      <td>1041116</td>\n",
       "      <td>1</td>\n",
       "      <td>ALPER 2</td>\n",
       "      <td>A31A2GX</td>\n",
       "      <td>Dry Cargo/Passenger</td>\n",
       "      <td>General Cargo Ship</td>\n",
       "      <td>2024-03-14 20:43:02</td>\n",
       "      <td>2024-03-15 06:32:03</td>\n",
       "      <td>South</td>\n",
       "      <td>North</td>\n",
       "      <td>3</td>\n",
       "      <td>0.0</td>\n",
       "      <td>9.816944</td>\n",
       "      <td>South-North</td>\n",
       "      <td>True</td>\n",
       "    </tr>\n",
       "    <tr>\n",
       "      <th>4</th>\n",
       "      <td>7106994</td>\n",
       "      <td>1</td>\n",
       "      <td>ALMABROUKA 11</td>\n",
       "      <td>A31A2GX</td>\n",
       "      <td>Dry Cargo/Passenger</td>\n",
       "      <td>General Cargo Ship</td>\n",
       "      <td>2024-03-05 06:29:45</td>\n",
       "      <td>2024-03-05 18:56:39</td>\n",
       "      <td>North</td>\n",
       "      <td>South</td>\n",
       "      <td>3</td>\n",
       "      <td>0.0</td>\n",
       "      <td>12.448333</td>\n",
       "      <td>North-South</td>\n",
       "      <td>True</td>\n",
       "    </tr>\n",
       "  </tbody>\n",
       "</table>\n",
       "</div>"
      ],
      "text/plain": [
       "       imo  voyage        vessel_name StatCode5       ShiptypeLevel2  \\\n",
       "0  1016161       1  ZHONG PENG YOU YI   A33A2CC  Dry Cargo/Passenger   \n",
       "1  1016161       2  ZHONG PENG YOU YI   A33A2CC  Dry Cargo/Passenger   \n",
       "2  1016161       3  ZHONG PENG YOU YI   A33A2CC  Dry Cargo/Passenger   \n",
       "3  1041116       1            ALPER 2   A31A2GX  Dry Cargo/Passenger   \n",
       "4  7106994       1      ALMABROUKA 11   A31A2GX  Dry Cargo/Passenger   \n",
       "\n",
       "                    ShiptypeLevel5        arrival_date      departure_date  \\\n",
       "0  Container Ship (Fully Cellular) 2023-12-29 08:24:38 2023-12-29 15:09:25   \n",
       "1  Container Ship (Fully Cellular) 2024-02-19 14:51:48 2024-02-19 22:21:52   \n",
       "2  Container Ship (Fully Cellular) 2024-03-11 05:37:02 2024-03-11 11:45:57   \n",
       "3               General Cargo Ship 2024-03-14 20:43:02 2024-03-15 06:32:03   \n",
       "4               General Cargo Ship 2024-03-05 06:29:45 2024-03-05 18:56:39   \n",
       "\n",
       "  arrival_POI departure_POI  count_distinct_POI  idle_time  dwell_time  \\\n",
       "0       South         North                   3        0.0    6.746389   \n",
       "1       North         South                   3        0.0    7.501111   \n",
       "2       South         North                   3        0.0    6.148611   \n",
       "3       South         North                   3        0.0    9.816944   \n",
       "4       North         South                   3        0.0   12.448333   \n",
       "\n",
       "     direction  complete_transit_flag  \n",
       "0  South-North                   True  \n",
       "1  North-South                   True  \n",
       "2  South-North                   True  \n",
       "3  South-North                   True  \n",
       "4  North-South                   True  "
      ]
     },
     "execution_count": 28,
     "metadata": {},
     "output_type": "execute_result"
    }
   ],
   "source": [
    "#Each row of the output is a vessel transit. \n",
    "transits_df.head()"
   ]
  },
  {
   "cell_type": "markdown",
   "id": "6d540e2a-7c09-4435-967d-e85ee37a2820",
   "metadata": {
    "tags": []
   },
   "source": [
    "# 5. Statistics"
   ]
  },
  {
   "cell_type": "markdown",
   "id": "1c76960f-ea98-4d99-a796-7c89fb97c0d7",
   "metadata": {},
   "source": [
    "## 5.1 Count of Transit"
   ]
  },
  {
   "cell_type": "code",
   "execution_count": 29,
   "id": "9f9aee22-a8a5-4ab5-8750-0c4a666d1d6f",
   "metadata": {
    "execution": {
     "iopub.execute_input": "2024-08-19T07:40:37.214158Z",
     "iopub.status.busy": "2024-08-19T07:40:37.213546Z",
     "iopub.status.idle": "2024-08-19T07:40:37.218790Z",
     "shell.execute_reply": "2024-08-19T07:40:37.218282Z",
     "shell.execute_reply.started": "2024-08-19T07:40:37.214135Z"
    },
    "tags": []
   },
   "outputs": [
    {
     "name": "stdout",
     "output_type": "stream",
     "text": [
      "\n",
      "Total Transits: 7,627\n",
      "Complete Transits: 7,266\n",
      "Additional Transits due to Redundancy: 4.73%\n",
      "\n"
     ]
    }
   ],
   "source": [
    "n = transits_df[~transits_df['complete_transit_flag'] ].shape[0] / transits_df.shape[0]\n",
    "print(f\"\"\"\n",
    "Total Transits: {transits_df.shape[0]:,}\n",
    "Complete Transits: {transits_df['complete_transit_flag'].sum():,}\n",
    "Additional Transits due to Redundancy: {n*100:.2f}%\n",
    "\"\"\")"
   ]
  },
  {
   "cell_type": "code",
   "execution_count": 30,
   "id": "68435797-1abe-4ec3-9c95-b6c1ea6bc6e0",
   "metadata": {
    "execution": {
     "iopub.execute_input": "2024-08-19T07:40:38.595359Z",
     "iopub.status.busy": "2024-08-19T07:40:38.594963Z",
     "iopub.status.idle": "2024-08-19T07:40:38.604828Z",
     "shell.execute_reply": "2024-08-19T07:40:38.604343Z",
     "shell.execute_reply.started": "2024-08-19T07:40:38.595341Z"
    },
    "tags": []
   },
   "outputs": [
    {
     "data": {
      "text/html": [
       "<div>\n",
       "<style scoped>\n",
       "    .dataframe tbody tr th:only-of-type {\n",
       "        vertical-align: middle;\n",
       "    }\n",
       "\n",
       "    .dataframe tbody tr th {\n",
       "        vertical-align: top;\n",
       "    }\n",
       "\n",
       "    .dataframe thead th {\n",
       "        text-align: right;\n",
       "    }\n",
       "</style>\n",
       "<table border=\"1\" class=\"dataframe\">\n",
       "  <thead>\n",
       "    <tr style=\"text-align: right;\">\n",
       "      <th></th>\n",
       "      <th>North/South</th>\n",
       "      <th>North/South/Middle</th>\n",
       "      <th>% increase</th>\n",
       "    </tr>\n",
       "    <tr>\n",
       "      <th>ShiptypeLevel2</th>\n",
       "      <th></th>\n",
       "      <th></th>\n",
       "      <th></th>\n",
       "    </tr>\n",
       "  </thead>\n",
       "  <tbody>\n",
       "    <tr>\n",
       "      <th>Bulk Carriers</th>\n",
       "      <td>2464</td>\n",
       "      <td>2573</td>\n",
       "      <td>4.423701</td>\n",
       "    </tr>\n",
       "    <tr>\n",
       "      <th>Dry Cargo/Passenger</th>\n",
       "      <td>2194</td>\n",
       "      <td>2341</td>\n",
       "      <td>6.700091</td>\n",
       "    </tr>\n",
       "    <tr>\n",
       "      <th>Tankers</th>\n",
       "      <td>2608</td>\n",
       "      <td>2713</td>\n",
       "      <td>4.026074</td>\n",
       "    </tr>\n",
       "  </tbody>\n",
       "</table>\n",
       "</div>"
      ],
      "text/plain": [
       "                     North/South  North/South/Middle  % increase\n",
       "ShiptypeLevel2                                                  \n",
       "Bulk Carriers               2464                2573    4.423701\n",
       "Dry Cargo/Passenger         2194                2341    6.700091\n",
       "Tankers                     2608                2713    4.026074"
      ]
     },
     "execution_count": 30,
     "metadata": {},
     "output_type": "execute_result"
    }
   ],
   "source": [
    "count_per_poi = transits_df.groupby(\"ShiptypeLevel2\") \\\n",
    ".agg({'complete_transit_flag':'sum', 'imo':'count'}) \\\n",
    ".rename(columns={'complete_transit_flag':'North/South', 'imo':'North/South/Middle'})\n",
    "count_per_poi['% increase'] = 100*((count_per_poi['North/South/Middle'] - count_per_poi['North/South']) / count_per_poi['North/South'])\n",
    "count_per_poi\n",
    "\n",
    "#Count of Transits According to Vessel Type and POIs captured\n",
    "#Note: North/South means that the start and end POIs are both in either North or South. Thus it also contains those that passed Middle\n",
    "#North/South/Middle has Middle as either start or end POIs. "
   ]
  },
  {
   "cell_type": "markdown",
   "id": "d328b911-8fbe-457c-9770-617609ae525d",
   "metadata": {
    "tags": []
   },
   "source": [
    "## 5.2 Daily Count"
   ]
  },
  {
   "cell_type": "code",
   "execution_count": 31,
   "id": "2acebac4-bf01-4510-b920-4aab7db57eb9",
   "metadata": {
    "execution": {
     "iopub.execute_input": "2024-08-19T07:40:40.420245Z",
     "iopub.status.busy": "2024-08-19T07:40:40.419860Z",
     "iopub.status.idle": "2024-08-19T07:40:40.444270Z",
     "shell.execute_reply": "2024-08-19T07:40:40.443776Z",
     "shell.execute_reply.started": "2024-08-19T07:40:40.420227Z"
    },
    "tags": []
   },
   "outputs": [
    {
     "data": {
      "text/html": [
       "<div>\n",
       "<style scoped>\n",
       "    .dataframe tbody tr th:only-of-type {\n",
       "        vertical-align: middle;\n",
       "    }\n",
       "\n",
       "    .dataframe tbody tr th {\n",
       "        vertical-align: top;\n",
       "    }\n",
       "\n",
       "    .dataframe thead th {\n",
       "        text-align: right;\n",
       "    }\n",
       "</style>\n",
       "<table border=\"1\" class=\"dataframe\">\n",
       "  <thead>\n",
       "    <tr style=\"text-align: right;\">\n",
       "      <th></th>\n",
       "      <th>transit_per_arrival_day</th>\n",
       "      <th>complete_transit_per_arrival_day</th>\n",
       "      <th>complete_transit_dwell_time</th>\n",
       "      <th>complete_transit_idle_time</th>\n",
       "    </tr>\n",
       "    <tr>\n",
       "      <th>arrival_date</th>\n",
       "      <th></th>\n",
       "      <th></th>\n",
       "      <th></th>\n",
       "      <th></th>\n",
       "    </tr>\n",
       "  </thead>\n",
       "  <tbody>\n",
       "    <tr>\n",
       "      <th>2023-10-31</th>\n",
       "      <td>1</td>\n",
       "      <td>1</td>\n",
       "      <td>4.399722</td>\n",
       "      <td>0.0</td>\n",
       "    </tr>\n",
       "    <tr>\n",
       "      <th>2023-11-01</th>\n",
       "      <td>67</td>\n",
       "      <td>56</td>\n",
       "      <td>6.290417</td>\n",
       "      <td>0.0</td>\n",
       "    </tr>\n",
       "    <tr>\n",
       "      <th>2023-11-02</th>\n",
       "      <td>96</td>\n",
       "      <td>94</td>\n",
       "      <td>6.631667</td>\n",
       "      <td>0.0</td>\n",
       "    </tr>\n",
       "    <tr>\n",
       "      <th>2023-11-03</th>\n",
       "      <td>90</td>\n",
       "      <td>87</td>\n",
       "      <td>6.806389</td>\n",
       "      <td>0.0</td>\n",
       "    </tr>\n",
       "    <tr>\n",
       "      <th>2023-11-04</th>\n",
       "      <td>79</td>\n",
       "      <td>77</td>\n",
       "      <td>6.850556</td>\n",
       "      <td>0.0</td>\n",
       "    </tr>\n",
       "    <tr>\n",
       "      <th>...</th>\n",
       "      <td>...</td>\n",
       "      <td>...</td>\n",
       "      <td>...</td>\n",
       "      <td>...</td>\n",
       "    </tr>\n",
       "    <tr>\n",
       "      <th>2024-03-27</th>\n",
       "      <td>34</td>\n",
       "      <td>33</td>\n",
       "      <td>7.338889</td>\n",
       "      <td>0.0</td>\n",
       "    </tr>\n",
       "    <tr>\n",
       "      <th>2024-03-28</th>\n",
       "      <td>36</td>\n",
       "      <td>34</td>\n",
       "      <td>6.859861</td>\n",
       "      <td>0.0</td>\n",
       "    </tr>\n",
       "    <tr>\n",
       "      <th>2024-03-29</th>\n",
       "      <td>32</td>\n",
       "      <td>30</td>\n",
       "      <td>6.652500</td>\n",
       "      <td>0.0</td>\n",
       "    </tr>\n",
       "    <tr>\n",
       "      <th>2024-03-30</th>\n",
       "      <td>27</td>\n",
       "      <td>21</td>\n",
       "      <td>5.985000</td>\n",
       "      <td>0.0</td>\n",
       "    </tr>\n",
       "    <tr>\n",
       "      <th>2024-03-31</th>\n",
       "      <td>26</td>\n",
       "      <td>16</td>\n",
       "      <td>7.967639</td>\n",
       "      <td>0.0</td>\n",
       "    </tr>\n",
       "  </tbody>\n",
       "</table>\n",
       "<p>153 rows × 4 columns</p>\n",
       "</div>"
      ],
      "text/plain": [
       "              transit_per_arrival_day  complete_transit_per_arrival_day  \\\n",
       "arrival_date                                                              \n",
       "2023-10-31                          1                                 1   \n",
       "2023-11-01                         67                                56   \n",
       "2023-11-02                         96                                94   \n",
       "2023-11-03                         90                                87   \n",
       "2023-11-04                         79                                77   \n",
       "...                               ...                               ...   \n",
       "2024-03-27                         34                                33   \n",
       "2024-03-28                         36                                34   \n",
       "2024-03-29                         32                                30   \n",
       "2024-03-30                         27                                21   \n",
       "2024-03-31                         26                                16   \n",
       "\n",
       "              complete_transit_dwell_time  complete_transit_idle_time  \n",
       "arrival_date                                                           \n",
       "2023-10-31                       4.399722                         0.0  \n",
       "2023-11-01                       6.290417                         0.0  \n",
       "2023-11-02                       6.631667                         0.0  \n",
       "2023-11-03                       6.806389                         0.0  \n",
       "2023-11-04                       6.850556                         0.0  \n",
       "...                                   ...                         ...  \n",
       "2024-03-27                       7.338889                         0.0  \n",
       "2024-03-28                       6.859861                         0.0  \n",
       "2024-03-29                       6.652500                         0.0  \n",
       "2024-03-30                       5.985000                         0.0  \n",
       "2024-03-31                       7.967639                         0.0  \n",
       "\n",
       "[153 rows x 4 columns]"
      ]
     },
     "execution_count": 31,
     "metadata": {},
     "output_type": "execute_result"
    }
   ],
   "source": [
    "transits_stats = transits_df \\\n",
    ".groupby(pd.Grouper(key=\"arrival_date\", freq=\"D\")) \\\n",
    ".agg({'imo':'count'}) \\\n",
    ".rename(columns={'imo':'transit_per_arrival_day'}) \\\n",
    ".join(transits_df[transits_df['complete_transit_flag']] \\\n",
    "      .groupby(pd.Grouper(key=\"arrival_date\", freq=\"D\")) \\\n",
    "      .agg({'imo':'count',\n",
    "            'dwell_time':'median',\n",
    "            'idle_time':'median'}) \\\n",
    "     .rename(columns={'imo':'complete_transit_per_arrival_day',\n",
    "                      'dwell_time':'complete_transit_dwell_time',\n",
    "                      'idle_time':'complete_transit_idle_time'})\n",
    "     )\n",
    "transits_stats"
   ]
  },
  {
   "cell_type": "code",
   "execution_count": 33,
   "id": "af5faaf3-b592-4b0d-ad4b-929c06fc5172",
   "metadata": {
    "execution": {
     "iopub.execute_input": "2024-08-19T07:42:40.955465Z",
     "iopub.status.busy": "2024-08-19T07:42:40.954981Z",
     "iopub.status.idle": "2024-08-19T07:42:40.960119Z",
     "shell.execute_reply": "2024-08-19T07:42:40.959647Z",
     "shell.execute_reply.started": "2024-08-19T07:42:40.955446Z"
    },
    "tags": []
   },
   "outputs": [
    {
     "data": {
      "text/html": [
       "<a download=\"Bab el-Mandeb Strait Daily Transits 202311-202403 using AIS.csv\" href=\"data:text/csv;base64,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\" target=\"_blank\">Bab el-Mandeb Strait Daily Transits 202311-202403 using AIS.csv</a>"
      ],
      "text/plain": [
       "<IPython.core.display.HTML object>"
      ]
     },
     "execution_count": 33,
     "metadata": {},
     "output_type": "execute_result"
    }
   ],
   "source": [
    "#To get the outputs for  local storage\n",
    "af.create_download_link(transits_stats, \"Bab el-Mandeb Strait Daily Transits 202311-202403 using AIS.csv\",\"Bab el-Mandeb Strait Daily Transits 202311-202403 using AIS.csv\")"
   ]
  },
  {
   "cell_type": "code",
   "execution_count": null,
   "id": "95752a9d-040a-4fe0-b7ba-80b3e48012a1",
   "metadata": {},
   "outputs": [],
   "source": []
  }
 ],
 "metadata": {
  "kernelspec": {
   "display_name": "pyspark3.5 ais2.9",
   "language": "python3",
   "name": "pyspark-ais-nosedona-202403"
  },
  "language_info": {
   "codemirror_mode": {
    "name": "ipython",
    "version": 3
   },
   "file_extension": ".py",
   "mimetype": "text/x-python",
   "name": "python",
   "nbconvert_exporter": "python",
   "pygments_lexer": "ipython3",
   "version": "3.10.10"
  }
 },
 "nbformat": 4,
 "nbformat_minor": 5
}
