{
 "cells": [
  {
   "cell_type": "markdown",
   "id": "652a38c0-d9e5-420c-a9ad-af660af5762e",
   "metadata": {},
   "source": [
    "# 0. Notes:\n",
    "\n",
    "This notebook shows how to identify vessels transiting in Suez Canal. We apply the same procedures from the `Suez 0 Benchmarking.ipynb` notebook but for period during the blockage. \n",
    "\n",
    "Connect to the UN Global Platform and use kernel `pyspark3.5 ais2.9`"
   ]
  },
  {
   "cell_type": "markdown",
   "id": "7a8e0465-1c2a-47be-b2d6-5517a252368e",
   "metadata": {
    "tags": []
   },
   "source": [
    "# 1. Initialize"
   ]
  },
  {
   "cell_type": "code",
   "execution_count": 1,
   "id": "f3eafc0f-f552-46be-9f35-333f6207e97e",
   "metadata": {
    "execution": {
     "iopub.execute_input": "2024-08-20T08:40:06.910633Z",
     "iopub.status.busy": "2024-08-20T08:40:06.910159Z",
     "iopub.status.idle": "2024-08-20T08:40:07.619308Z",
     "shell.execute_reply": "2024-08-20T08:40:07.618844Z",
     "shell.execute_reply.started": "2024-08-20T08:40:06.910614Z"
    },
    "tags": []
   },
   "outputs": [
    {
     "name": "stdout",
     "output_type": "stream",
     "text": [
      "generated new fontManager\n"
     ]
    }
   ],
   "source": [
    "import geopandas as gpd\n",
    "from shapely.geometry import mapping, Polygon\n",
    "\n",
    "from pyspark.sql import functions as F\n",
    "from pyspark.sql import Window as W\n",
    "from ais import functions as af\n",
    "import h3.api.numpy_int as h3int\n",
    "\n",
    "import matplotlib.pyplot as plt"
   ]
  },
  {
   "cell_type": "code",
   "execution_count": 2,
   "id": "1ffffcc8-a54e-43ad-adb4-6c9f639933e4",
   "metadata": {
    "execution": {
     "iopub.execute_input": "2024-08-20T08:40:07.620446Z",
     "iopub.status.busy": "2024-08-20T08:40:07.620132Z",
     "iopub.status.idle": "2024-08-20T08:42:00.301943Z",
     "shell.execute_reply": "2024-08-20T08:42:00.301092Z",
     "shell.execute_reply.started": "2024-08-20T08:40:07.620430Z"
    },
    "tags": []
   },
   "outputs": [
    {
     "name": "stdout",
     "output_type": "stream",
     "text": [
      "Skipping SedonaKepler import, verify if keplergl is installed\n",
      "Skipping SedonaPyDeck import, verify if pydeck is installed\n"
     ]
    }
   ],
   "source": [
    "from sedona.spark import *\n",
    "\n",
    "sedona = SedonaContext.create(spark)"
   ]
  },
  {
   "cell_type": "code",
   "execution_count": 3,
   "id": "b9077e4d-03ff-4dc1-955c-c02242f70a1e",
   "metadata": {
    "execution": {
     "iopub.execute_input": "2024-08-20T08:42:00.303656Z",
     "iopub.status.busy": "2024-08-20T08:42:00.302879Z",
     "iopub.status.idle": "2024-08-20T08:42:00.306888Z",
     "shell.execute_reply": "2024-08-20T08:42:00.306337Z",
     "shell.execute_reply.started": "2024-08-20T08:42:00.303631Z"
    },
    "tags": []
   },
   "outputs": [],
   "source": [
    "import requests\n",
    "import base64\n",
    "import os\n",
    "import pandas as pd\n",
    "from io import StringIO"
   ]
  },
  {
   "cell_type": "code",
   "execution_count": 4,
   "id": "e1aa0cbf-8a49-496f-b840-114429a7549d",
   "metadata": {
    "execution": {
     "iopub.execute_input": "2024-08-20T08:42:00.308847Z",
     "iopub.status.busy": "2024-08-20T08:42:00.308453Z",
     "iopub.status.idle": "2024-08-20T08:42:00.311858Z",
     "shell.execute_reply": "2024-08-20T08:42:00.311196Z",
     "shell.execute_reply.started": "2024-08-20T08:42:00.308824Z"
    },
    "tags": []
   },
   "outputs": [],
   "source": [
    "passageway = \"suez_canal\"\n",
    "raw_ais_save_path = os.environ[\"USER_TEMP_S3PATH\"] + f\"cherryl/ais_passageways/{passageway}/ais/\""
   ]
  },
  {
   "cell_type": "markdown",
   "id": "55405b2f-277e-41e3-9aad-021f8787e555",
   "metadata": {
    "tags": []
   },
   "source": [
    "# 2. Geometries"
   ]
  },
  {
   "cell_type": "code",
   "execution_count": 5,
   "id": "1df1295b-b9c8-4b3e-9e4b-9e6527ec2d06",
   "metadata": {
    "execution": {
     "iopub.execute_input": "2024-08-20T04:32:04.528508Z",
     "iopub.status.busy": "2024-08-20T04:32:04.527640Z",
     "iopub.status.idle": "2024-08-20T04:32:04.763078Z",
     "shell.execute_reply": "2024-08-20T04:32:04.762148Z",
     "shell.execute_reply.started": "2024-08-20T04:32:04.528464Z"
    },
    "tags": []
   },
   "outputs": [
    {
     "data": {
      "text/html": [
       "<div>\n",
       "<style scoped>\n",
       "    .dataframe tbody tr th:only-of-type {\n",
       "        vertical-align: middle;\n",
       "    }\n",
       "\n",
       "    .dataframe tbody tr th {\n",
       "        vertical-align: top;\n",
       "    }\n",
       "\n",
       "    .dataframe thead th {\n",
       "        text-align: right;\n",
       "    }\n",
       "</style>\n",
       "<table border=\"1\" class=\"dataframe\">\n",
       "  <thead>\n",
       "    <tr style=\"text-align: right;\">\n",
       "      <th></th>\n",
       "      <th>Label</th>\n",
       "      <th>POI</th>\n",
       "      <th>geometry</th>\n",
       "    </tr>\n",
       "  </thead>\n",
       "  <tbody>\n",
       "    <tr>\n",
       "      <th>0</th>\n",
       "      <td>North Anchorage</td>\n",
       "      <td>North</td>\n",
       "      <td>POLYGON ((32.37009 31.32180, 32.57678 31.32166...</td>\n",
       "    </tr>\n",
       "    <tr>\n",
       "      <th>1</th>\n",
       "      <td>Great Bitter Lake</td>\n",
       "      <td>Middle</td>\n",
       "      <td>POLYGON ((32.28697 30.34816, 32.31222 30.28512...</td>\n",
       "    </tr>\n",
       "    <tr>\n",
       "      <th>2</th>\n",
       "      <td>South Anchorage</td>\n",
       "      <td>South</td>\n",
       "      <td>POLYGON ((32.52850 29.93424, 32.48518 29.92898...</td>\n",
       "    </tr>\n",
       "  </tbody>\n",
       "</table>\n",
       "</div>"
      ],
      "text/plain": [
       "               Label     POI  \\\n",
       "0    North Anchorage   North   \n",
       "1  Great Bitter Lake  Middle   \n",
       "2    South Anchorage   South   \n",
       "\n",
       "                                            geometry  \n",
       "0  POLYGON ((32.37009 31.32180, 32.57678 31.32166...  \n",
       "1  POLYGON ((32.28697 30.34816, 32.31222 30.28512...  \n",
       "2  POLYGON ((32.52850 29.93424, 32.48518 29.92898...  "
      ]
     },
     "execution_count": 5,
     "metadata": {},
     "output_type": "execute_result"
    }
   ],
   "source": [
    "request = requests.get(f\"https://api.github.com/repos/cherrylchico/ais_passageways/contents/data/{passageway}.geojson\")\n",
    "gdf = gpd.read_file(base64.b64decode(request.json()['content']).decode('utf-8'))\n",
    "gdf"
   ]
  },
  {
   "cell_type": "code",
   "execution_count": 6,
   "id": "7bc0f0fd-03d4-4e29-b5c2-28c22ddba635",
   "metadata": {
    "execution": {
     "iopub.execute_input": "2024-08-20T04:32:04.764844Z",
     "iopub.status.busy": "2024-08-20T04:32:04.764324Z",
     "iopub.status.idle": "2024-08-20T04:32:05.017885Z",
     "shell.execute_reply": "2024-08-20T04:32:05.016665Z",
     "shell.execute_reply.started": "2024-08-20T04:32:04.764812Z"
    },
    "tags": []
   },
   "outputs": [
    {
     "name": "stdout",
     "output_type": "stream",
     "text": [
      "Input polygon is too small to be filled in with hexagon of resolution: 4\n",
      "Attempting to fit a hex of resolution: 5...\n",
      "A hex of resolution: 5 fits the input polygon\n",
      "Finding it's parent in resolution: 4\n",
      "Input polygon is too small to be filled in with hexagon of resolution: 4\n",
      "Attempting to fit a hex of resolution: 5...\n",
      "A hex of resolution: 5 fits the input polygon\n",
      "Finding it's parent in resolution: 4\n",
      "\n",
      "H3 count:19\n"
     ]
    },
    {
     "name": "stderr",
     "output_type": "stream",
     "text": [
      "WARNING: there are hex ids contained in more than 1 polygon\n"
     ]
    },
    {
     "data": {
      "text/plain": [
       "<Axes: >"
      ]
     },
     "execution_count": 6,
     "metadata": {},
     "output_type": "execute_result"
    },
    {
     "data": {
      "image/png": "[encoded data removed]",
      "text/plain": [
       "<Figure size 640x480 with 1 Axes>"
      ]
     },
     "metadata": {},
     "output_type": "display_data"
    }
   ],
   "source": [
    "#We use H3 indices (https://h3geo.org/docs) as a geo-spatial filter for AIS data in the UNGP. \n",
    "#To get all AIS data within the AOIs, we overfill the geometries with H3 indices, then use the list of H3 indices as filter.  \n",
    "#To ensure that the filtering is efficient, the number of H3 indices should small and the area outside of the AOI should also be small\n",
    "#here, we chose H3 index resolution 4. \n",
    "\n",
    "h3_resolution = 4\n",
    "\n",
    "inputs = [(row['POI'], mapping(row['geometry'])) for index, row in gdf.iterrows()]\n",
    "hex_df = af.polygon_to_hex_df(inputs, h3_resolution, overfill=True)\n",
    "hexes = hex_df['hex_id'].drop_duplicates().tolist()\n",
    "\n",
    "print(f\"\\nH3 count:{len(hexes)}\")\n",
    "hexes = hex_df['hex_id'].drop_duplicates().tolist()\n",
    "h3_gdf = gpd.GeoDataFrame([[\"H3\",Polygon(h3int.h3_set_to_multi_polygon(hexes, geo_json=True)[0][0])]], columns=['h3','geometry'], crs=4326)\n",
    "fig, ax = plt.subplots()\n",
    "gdf.plot(ax=ax)\n",
    "h3_gdf.plot(ax=ax, facecolor=\"none\")"
   ]
  },
  {
   "cell_type": "markdown",
   "id": "c470c96e-b84f-4813-bc86-b5ede4ca73b5",
   "metadata": {
    "tags": []
   },
   "source": [
    "# 3. Extract AIS data and save to S3"
   ]
  },
  {
   "cell_type": "markdown",
   "id": "d2dd6d63-3b92-4de3-8935-ecaad6bd4501",
   "metadata": {
    "tags": []
   },
   "source": [
    "## 3.1 Preparation"
   ]
  },
  {
   "cell_type": "code",
   "execution_count": 7,
   "id": "9b82dbca-0849-4307-b526-381dc7ccaada",
   "metadata": {
    "execution": {
     "iopub.execute_input": "2024-08-20T04:32:05.020328Z",
     "iopub.status.busy": "2024-08-20T04:32:05.019467Z",
     "iopub.status.idle": "2024-08-20T04:32:05.024720Z",
     "shell.execute_reply": "2024-08-20T04:32:05.023703Z",
     "shell.execute_reply.started": "2024-08-20T04:32:05.020267Z"
    },
    "tags": []
   },
   "outputs": [],
   "source": [
    "ais_cols = [\n",
    " 'mmsi',\n",
    " 'longitude',\n",
    " 'latitude',\n",
    " 'imo',\n",
    " 'vessel_name',\n",
    " 'vessel_type',\n",
    " 'destination',\n",
    " 'sog',\n",
    " 'nav_status',\n",
    " 'dt_pos_utc']"
   ]
  },
  {
   "cell_type": "code",
   "execution_count": 8,
   "id": "23dcad69-aa66-46d8-a3cc-d75b2445c146",
   "metadata": {
    "execution": {
     "iopub.execute_input": "2024-08-20T04:32:05.026174Z",
     "iopub.status.busy": "2024-08-20T04:32:05.025910Z",
     "iopub.status.idle": "2024-08-20T04:32:24.088129Z",
     "shell.execute_reply": "2024-08-20T04:32:24.087192Z",
     "shell.execute_reply.started": "2024-08-20T04:32:05.026150Z"
    },
    "tags": []
   },
   "outputs": [],
   "source": [
    "#Read Ship Register datasets as a spark dataframe, use version 20210609 which is the earliest version available in UNGP\n",
    "#note that af module is from the ais package \n",
    "\n",
    "#The ShipData table provides information on the vessel's IMO, vessel type described by the StatCode5 and ShiptypeLevel5\n",
    "ihs = af.read_ihs_table(spark, \"ShipData.CSV\", version=\"20210609\") \\\n",
    ".select(\"ShipName\",\"LRIMOShipNo\",\"MaritimeMobileServiceIdentityMMSINumber\",\"StatCode5\",\"ShiptypeLevel5\")\n",
    "\n",
    "#We use the tblShipTypeCodes table to get more information on the vessel type.\n",
    "#We select only \"Cargo-carrying vessels\" which is identified by ShiptypeLevel2 information\n",
    "ihs_statcode = af.read_ihs_table(spark, \"tblShipTypeCodes.CSV\",  version=\"20210609\") \\\n",
    ".select(\"StatCode5\",\"ShiptypeLevel2\") \\\n",
    ".filter(F.col(\"ShiptypeLevel2\").isin([\"Bulk Carriers\", \"Dry Cargo/Passenger\", \"Tankers\"]))"
   ]
  },
  {
   "cell_type": "code",
   "execution_count": 9,
   "id": "d7f8167f-a5e6-4fce-b539-36255af431d0",
   "metadata": {
    "execution": {
     "iopub.execute_input": "2024-08-20T04:32:24.089573Z",
     "iopub.status.busy": "2024-08-20T04:32:24.089280Z",
     "iopub.status.idle": "2024-08-20T04:32:24.207023Z",
     "shell.execute_reply": "2024-08-20T04:32:24.205948Z",
     "shell.execute_reply.started": "2024-08-20T04:32:24.089531Z"
    },
    "tags": []
   },
   "outputs": [],
   "source": [
    "#Convert geometries to spark dataframe to prepare for spark processing of geospatial data\n",
    "sdf_poly = sedona.createDataFrame(gdf[['geometry','POI']])"
   ]
  },
  {
   "cell_type": "code",
   "execution_count": 10,
   "id": "6aeb8326-4127-47fb-9821-19b563bbee14",
   "metadata": {
    "execution": {
     "iopub.execute_input": "2024-08-20T04:32:24.209013Z",
     "iopub.status.busy": "2024-08-20T04:32:24.208449Z",
     "iopub.status.idle": "2024-08-20T04:32:24.219969Z",
     "shell.execute_reply": "2024-08-20T04:32:24.218809Z",
     "shell.execute_reply.started": "2024-08-20T04:32:24.208986Z"
    },
    "tags": []
   },
   "outputs": [],
   "source": [
    "def extract_passageway_cargo(start_date, end_date, hexes, raw_ais_save_path, mode=\"overwrite\"):\n",
    "    #Read AIS within the start date and end date where hex ids are within the hexes list\n",
    "    sdf = af.get_ais(spark, start_date=start_date, end_date=end_date, h3_list = hexes)\n",
    "    \n",
    "    #Get only AIS where location is within the POI geometries\n",
    "    sdf_w_point = sdf.withColumn(\"point\", F.expr(\"ST_Point(longitude, latitude)\"))\n",
    "    sdf_w_point.createOrReplaceTempView(\"ais_temp\")\n",
    "    sdf_poly.createOrReplaceTempView(\"poly_temp\")\n",
    "    sdf_poly_filter = spark.sql(\"\"\" select  * from ais_temp, poly_temp where ST_Within(point, geometry)\"\"\")\n",
    "    \n",
    "    #Get only AIS where the type is cargo related\n",
    "    sdf_cargo = sdf_poly_filter.join(ihs.withColumnRenamed(\"LRIMOShipNo\",\"imo\"), how=\"inner\", on=['imo']) \\\n",
    "    .join(ihs_statcode, how=\"inner\", on=['StatCode5']) \\\n",
    "    .select(*ais_cols, \"ShipName\",\"MaritimeMobileServiceIdentityMMSINumber\",\"StatCode5\",\"ShiptypeLevel5\",\"ShiptypeLevel2\",\"POI\") \\\n",
    "    .withColumns({\"year\":F.year(\"dt_pos_utc\"),\"month\":F.month(\"dt_pos_utc\")})\n",
    "    \n",
    "    #Save in S3\n",
    "    sdf_cargo.write.mode(mode).partitionBy(\"year\",\"month\").parquet(raw_ais_save_path)\n",
    "    return sdf_cargo"
   ]
  },
  {
   "cell_type": "markdown",
   "id": "f4a07ccf-47e0-486d-a212-9a9b3d5079ec",
   "metadata": {
    "tags": []
   },
   "source": [
    "## 3.2 Run"
   ]
  },
  {
   "cell_type": "code",
   "execution_count": 13,
   "id": "8aa6139b-c54d-4829-bf15-0357e1b50d79",
   "metadata": {
    "execution": {
     "iopub.execute_input": "2024-08-19T06:22:41.886276Z",
     "iopub.status.busy": "2024-08-19T06:22:41.885822Z",
     "iopub.status.idle": "2024-08-19T06:22:41.888874Z",
     "shell.execute_reply": "2024-08-19T06:22:41.888373Z",
     "shell.execute_reply.started": "2024-08-19T06:22:41.886257Z"
    },
    "tags": []
   },
   "outputs": [],
   "source": [
    "#Run the extraction process per month. Note that we are \"appending\" the data\n",
    "#to not overwrite the data from the Benchmarking Notebook.\n",
    "start_date = \"2021-03-01\"\n",
    "end_date = \"2021-03-31\"\n",
    "sdf = extract_passageway_cargo(start_date, end_date, hexes, raw_ais_save_path, mode=\"append\")"
   ]
  },
  {
   "cell_type": "code",
   "execution_count": 14,
   "id": "174d29e5-0f58-43bb-a907-17a028fbaae8",
   "metadata": {
    "execution": {
     "iopub.execute_input": "2024-08-19T06:22:45.786819Z",
     "iopub.status.busy": "2024-08-19T06:22:45.786250Z",
     "iopub.status.idle": "2024-08-19T06:22:45.789291Z",
     "shell.execute_reply": "2024-08-19T06:22:45.788725Z",
     "shell.execute_reply.started": "2024-08-19T06:22:45.786800Z"
    },
    "tags": []
   },
   "outputs": [],
   "source": [
    "start_date = \"2021-04-01\"\n",
    "end_date = \"2021-04-30\"\n",
    "sdf = extract_passageway_cargo(start_date, end_date, hexes, raw_ais_save_path, mode=\"append\")"
   ]
  },
  {
   "cell_type": "markdown",
   "id": "f0c31d2a-5f11-42e6-89b3-cfccf3385a4e",
   "metadata": {
    "tags": []
   },
   "source": [
    "# 4. Get transits"
   ]
  },
  {
   "cell_type": "markdown",
   "id": "8a78c57b-0b8f-44d5-973f-1755052cca3f",
   "metadata": {},
   "source": [
    "## 4.1 Preparation"
   ]
  },
  {
   "cell_type": "code",
   "execution_count": 5,
   "id": "1eee24e7-387e-4a51-85d2-9fbddbf6a097",
   "metadata": {
    "execution": {
     "iopub.execute_input": "2024-08-20T08:42:00.313241Z",
     "iopub.status.busy": "2024-08-20T08:42:00.312827Z",
     "iopub.status.idle": "2024-08-20T08:42:00.348703Z",
     "shell.execute_reply": "2024-08-20T08:42:00.348166Z",
     "shell.execute_reply.started": "2024-08-20T08:42:00.313217Z"
    },
    "tags": []
   },
   "outputs": [],
   "source": [
    "w = W.partitionBy(\"imo\").orderBy(\"dt_pos_utc\")\n",
    "def get_transits(sdf, min_time_diff):\n",
    "    #This function identifies the \"voyages\" of a vessel\n",
    "    #The voyage groups together consecutive messages that likely came from a single transit through the Suez canal\n",
    "    #A message is identified to have come from a different voyage is the time between the messages is at least a defined time period\n",
    "    sdf_groups = sdf.withColumn(\"prev_dt_pos_utc\", F.lag(\"dt_pos_utc\").over(w)) \\\n",
    "    .withColumn(\"time_diff_hours\", (F.col(\"dt_pos_utc\").cast(\"long\") - F.col(\"prev_dt_pos_utc\").cast(\"long\")) / 3600) \\\n",
    "    .withColumn(\"time_diff_flag\", F.when(F.col(\"time_diff_hours\").isNull(), 1) \\\n",
    "                                    .when(F.col(\"time_diff_hours\") > min_time_diff,1) \\\n",
    "                                    .otherwise(0)) \\\n",
    "    .withColumn(\"voyage\", F.sum(\"time_diff_flag\").over(w)) \\\n",
    "    .withColumn(\"idle_hours\", F.when(F.col(\"sog\") < 1, F.col(\"time_diff_hours\")).otherwise(0))\n",
    "    \n",
    "    #get important information from the voyages needed to identify transits and produce statistics\n",
    "    transits_sdf = sdf_groups \\\n",
    "    .groupBy(\"imo\",\"voyage\") \\\n",
    "    .agg(F.first(\"vessel_name\").alias(\"vessel_name\"),\n",
    "         F.first(\"StatCode5\").alias(\"StatCode5\"),\n",
    "         F.first(\"ShiptypeLevel2\").alias(\"ShiptypeLevel2\"),\n",
    "         F.first(\"ShiptypeLevel5\").alias(\"ShiptypeLevel5\"),\n",
    "         F.min(\"dt_pos_utc\").alias(\"arrival_date\"),\n",
    "         F.max(\"dt_pos_utc\").alias(\"departure_date\"),\n",
    "         F.min_by(\"POI\", \"dt_pos_utc\").alias(\"arrival_POI\"),\n",
    "         F.max_by(\"POI\", \"dt_pos_utc\").alias(\"departure_POI\"),\n",
    "         F.countDistinct(\"POI\").alias(\"count_distinct_POI\"),\n",
    "         F.sum(\"idle_hours\").alias(\"idle_time\")\n",
    "        ) \\\n",
    "    .filter(F.col(\"arrival_POI\")!=F.col(\"departure_POI\")) \\\n",
    "    .withColumn(\"dwell_time\",  (F.col(\"departure_date\").cast(\"long\") - F.col(\"arrival_date\").cast(\"long\")) / 3600) \\\n",
    "    .withColumn(\"direction\",     F.concat(F.col(\"arrival_POI\"), F.lit(\"-\"), F.col(\"departure_POI\"))) \\\n",
    "    .withColumn(\"complete_transit_flag\", F.col(\"direction\").isin(['North-South','South-North'])) \n",
    "    \n",
    "    return transits_sdf"
   ]
  },
  {
   "cell_type": "markdown",
   "id": "a397eafe-e75a-43e2-95cb-0eaaf584a1d2",
   "metadata": {
    "tags": []
   },
   "source": [
    "## 4.2 Run"
   ]
  },
  {
   "cell_type": "code",
   "execution_count": 6,
   "id": "e47ffe68-4df7-4e2e-ba03-3f3410ec8c46",
   "metadata": {
    "execution": {
     "iopub.execute_input": "2024-08-20T08:42:00.350068Z",
     "iopub.status.busy": "2024-08-20T08:42:00.349670Z",
     "iopub.status.idle": "2024-08-20T08:42:14.424379Z",
     "shell.execute_reply": "2024-08-20T08:42:14.423770Z",
     "shell.execute_reply.started": "2024-08-20T08:42:00.350044Z"
    },
    "tags": []
   },
   "outputs": [
    {
     "name": "stdout",
     "output_type": "stream",
     "text": [
      "Total AIS messages: 831,071\n",
      "-RECORD 0---------------------------------------------------------\n",
      " mmsi                                    | 671659000              \n",
      " longitude                               | 32.567233333333334     \n",
      " latitude                                | 29.65784               \n",
      " imo                                     | 7041053                \n",
      " vessel_name                             | PACIFIC M              \n",
      " vessel_type                             | Cargo                  \n",
      " destination                             | EG SUZ                 \n",
      " sog                                     | 6.6                    \n",
      " nav_status                              | Under Way Using Engine \n",
      " dt_pos_utc                              | 2021-04-18 05:38:03    \n",
      " ShipName                                | PACIFIC M              \n",
      " MaritimeMobileServiceIdentityMMSINumber | 671659000              \n",
      " StatCode5                               | A38A2GL                \n",
      " ShiptypeLevel5                          | Livestock Carrier      \n",
      " ShiptypeLevel2                          | Dry Cargo/Passenger    \n",
      " POI                                     | South                  \n",
      "only showing top 1 row\n",
      "\n"
     ]
    }
   ],
   "source": [
    "#Read the extracted data from Section 3\n",
    "sdf = spark.read.parquet(raw_ais_save_path + \"year=2021/month=3/\",\n",
    "                         raw_ais_save_path + \"year=2021/month=4/\")\n",
    "print(f\"Total AIS messages: {sdf.count():,}\")\n",
    "sdf.show(n=1, truncate=False, vertical =True)"
   ]
  },
  {
   "cell_type": "code",
   "execution_count": 7,
   "id": "0d512d8a-af90-4bc8-b3d3-b15125b9f722",
   "metadata": {
    "execution": {
     "iopub.execute_input": "2024-08-20T08:42:14.425435Z",
     "iopub.status.busy": "2024-08-20T08:42:14.425083Z",
     "iopub.status.idle": "2024-08-20T08:42:23.564773Z",
     "shell.execute_reply": "2024-08-20T08:42:23.563988Z",
     "shell.execute_reply.started": "2024-08-20T08:42:14.425417Z"
    },
    "tags": []
   },
   "outputs": [
    {
     "name": "stdout",
     "output_type": "stream",
     "text": [
      "<class 'pandas.core.frame.DataFrame'>\n",
      "RangeIndex: 3059 entries, 0 to 3058\n",
      "Data columns (total 15 columns):\n",
      " #   Column                 Non-Null Count  Dtype         \n",
      "---  ------                 --------------  -----         \n",
      " 0   imo                    3059 non-null   int32         \n",
      " 1   voyage                 3059 non-null   int64         \n",
      " 2   vessel_name            3059 non-null   object        \n",
      " 3   StatCode5              3059 non-null   object        \n",
      " 4   ShiptypeLevel2         3059 non-null   object        \n",
      " 5   ShiptypeLevel5         3059 non-null   object        \n",
      " 6   arrival_date           3059 non-null   datetime64[ns]\n",
      " 7   departure_date         3059 non-null   datetime64[ns]\n",
      " 8   arrival_POI            3059 non-null   object        \n",
      " 9   departure_POI          3059 non-null   object        \n",
      " 10  count_distinct_POI     3059 non-null   int64         \n",
      " 11  idle_time              3059 non-null   float64       \n",
      " 12  dwell_time             3059 non-null   float64       \n",
      " 13  direction              3059 non-null   object        \n",
      " 14  complete_transit_flag  3059 non-null   bool          \n",
      "dtypes: bool(1), datetime64[ns](2), float64(2), int32(1), int64(2), object(7)\n",
      "memory usage: 325.7+ KB\n"
     ]
    }
   ],
   "source": [
    "#Identify transits, using minimum time input of 16 hrs. \n",
    "transits_df =  get_transits(sdf, 16).toPandas()\n",
    "transits_df.info()"
   ]
  },
  {
   "cell_type": "code",
   "execution_count": 8,
   "id": "4504caea-9390-4b6a-96b3-caa71d043f79",
   "metadata": {
    "execution": {
     "iopub.execute_input": "2024-08-20T08:42:23.565808Z",
     "iopub.status.busy": "2024-08-20T08:42:23.565620Z",
     "iopub.status.idle": "2024-08-20T08:42:23.577587Z",
     "shell.execute_reply": "2024-08-20T08:42:23.577089Z",
     "shell.execute_reply.started": "2024-08-20T08:42:23.565793Z"
    },
    "tags": []
   },
   "outputs": [
    {
     "data": {
      "text/html": [
       "<div>\n",
       "<style scoped>\n",
       "    .dataframe tbody tr th:only-of-type {\n",
       "        vertical-align: middle;\n",
       "    }\n",
       "\n",
       "    .dataframe tbody tr th {\n",
       "        vertical-align: top;\n",
       "    }\n",
       "\n",
       "    .dataframe thead th {\n",
       "        text-align: right;\n",
       "    }\n",
       "</style>\n",
       "<table border=\"1\" class=\"dataframe\">\n",
       "  <thead>\n",
       "    <tr style=\"text-align: right;\">\n",
       "      <th></th>\n",
       "      <th>imo</th>\n",
       "      <th>voyage</th>\n",
       "      <th>vessel_name</th>\n",
       "      <th>StatCode5</th>\n",
       "      <th>ShiptypeLevel2</th>\n",
       "      <th>ShiptypeLevel5</th>\n",
       "      <th>arrival_date</th>\n",
       "      <th>departure_date</th>\n",
       "      <th>arrival_POI</th>\n",
       "      <th>departure_POI</th>\n",
       "      <th>count_distinct_POI</th>\n",
       "      <th>idle_time</th>\n",
       "      <th>dwell_time</th>\n",
       "      <th>direction</th>\n",
       "      <th>complete_transit_flag</th>\n",
       "    </tr>\n",
       "  </thead>\n",
       "  <tbody>\n",
       "    <tr>\n",
       "      <th>0</th>\n",
       "      <td>7104972</td>\n",
       "      <td>1</td>\n",
       "      <td>FREEDOM</td>\n",
       "      <td>A38A2GL</td>\n",
       "      <td>Dry Cargo/Passenger</td>\n",
       "      <td>Livestock Carrier</td>\n",
       "      <td>2021-03-21 18:54:55</td>\n",
       "      <td>2021-03-22 18:53:01</td>\n",
       "      <td>North</td>\n",
       "      <td>South</td>\n",
       "      <td>3</td>\n",
       "      <td>9.056111</td>\n",
       "      <td>23.968333</td>\n",
       "      <td>North-South</td>\n",
       "      <td>True</td>\n",
       "    </tr>\n",
       "    <tr>\n",
       "      <th>1</th>\n",
       "      <td>7104972</td>\n",
       "      <td>3</td>\n",
       "      <td>FREEDOM</td>\n",
       "      <td>A38A2GL</td>\n",
       "      <td>Dry Cargo/Passenger</td>\n",
       "      <td>Livestock Carrier</td>\n",
       "      <td>2021-04-03 11:42:56</td>\n",
       "      <td>2021-04-04 05:22:27</td>\n",
       "      <td>Middle</td>\n",
       "      <td>North</td>\n",
       "      <td>2</td>\n",
       "      <td>6.957500</td>\n",
       "      <td>17.658611</td>\n",
       "      <td>Middle-North</td>\n",
       "      <td>False</td>\n",
       "    </tr>\n",
       "    <tr>\n",
       "      <th>2</th>\n",
       "      <td>7113624</td>\n",
       "      <td>3</td>\n",
       "      <td>MARIONA</td>\n",
       "      <td>A38A2GL</td>\n",
       "      <td>Dry Cargo/Passenger</td>\n",
       "      <td>Livestock Carrier</td>\n",
       "      <td>2021-03-19 05:17:48</td>\n",
       "      <td>2021-03-20 20:06:23</td>\n",
       "      <td>South</td>\n",
       "      <td>North</td>\n",
       "      <td>3</td>\n",
       "      <td>4.795000</td>\n",
       "      <td>38.809722</td>\n",
       "      <td>South-North</td>\n",
       "      <td>True</td>\n",
       "    </tr>\n",
       "    <tr>\n",
       "      <th>3</th>\n",
       "      <td>7113624</td>\n",
       "      <td>5</td>\n",
       "      <td>MARIONA</td>\n",
       "      <td>A38A2GL</td>\n",
       "      <td>Dry Cargo/Passenger</td>\n",
       "      <td>Livestock Carrier</td>\n",
       "      <td>2021-04-09 17:06:30</td>\n",
       "      <td>2021-04-10 04:13:05</td>\n",
       "      <td>Middle</td>\n",
       "      <td>South</td>\n",
       "      <td>2</td>\n",
       "      <td>0.122778</td>\n",
       "      <td>11.109722</td>\n",
       "      <td>Middle-South</td>\n",
       "      <td>False</td>\n",
       "    </tr>\n",
       "    <tr>\n",
       "      <th>4</th>\n",
       "      <td>7113624</td>\n",
       "      <td>7</td>\n",
       "      <td>MARIONA</td>\n",
       "      <td>A38A2GL</td>\n",
       "      <td>Dry Cargo/Passenger</td>\n",
       "      <td>Livestock Carrier</td>\n",
       "      <td>2021-04-19 07:27:14</td>\n",
       "      <td>2021-04-19 19:27:40</td>\n",
       "      <td>South</td>\n",
       "      <td>North</td>\n",
       "      <td>3</td>\n",
       "      <td>0.000000</td>\n",
       "      <td>12.007222</td>\n",
       "      <td>South-North</td>\n",
       "      <td>True</td>\n",
       "    </tr>\n",
       "  </tbody>\n",
       "</table>\n",
       "</div>"
      ],
      "text/plain": [
       "       imo  voyage vessel_name StatCode5       ShiptypeLevel2  \\\n",
       "0  7104972       1     FREEDOM   A38A2GL  Dry Cargo/Passenger   \n",
       "1  7104972       3     FREEDOM   A38A2GL  Dry Cargo/Passenger   \n",
       "2  7113624       3     MARIONA   A38A2GL  Dry Cargo/Passenger   \n",
       "3  7113624       5     MARIONA   A38A2GL  Dry Cargo/Passenger   \n",
       "4  7113624       7     MARIONA   A38A2GL  Dry Cargo/Passenger   \n",
       "\n",
       "      ShiptypeLevel5        arrival_date      departure_date arrival_POI  \\\n",
       "0  Livestock Carrier 2021-03-21 18:54:55 2021-03-22 18:53:01       North   \n",
       "1  Livestock Carrier 2021-04-03 11:42:56 2021-04-04 05:22:27      Middle   \n",
       "2  Livestock Carrier 2021-03-19 05:17:48 2021-03-20 20:06:23       South   \n",
       "3  Livestock Carrier 2021-04-09 17:06:30 2021-04-10 04:13:05      Middle   \n",
       "4  Livestock Carrier 2021-04-19 07:27:14 2021-04-19 19:27:40       South   \n",
       "\n",
       "  departure_POI  count_distinct_POI  idle_time  dwell_time     direction  \\\n",
       "0         South                   3   9.056111   23.968333   North-South   \n",
       "1         North                   2   6.957500   17.658611  Middle-North   \n",
       "2         North                   3   4.795000   38.809722   South-North   \n",
       "3         South                   2   0.122778   11.109722  Middle-South   \n",
       "4         North                   3   0.000000   12.007222   South-North   \n",
       "\n",
       "   complete_transit_flag  \n",
       "0                   True  \n",
       "1                  False  \n",
       "2                   True  \n",
       "3                  False  \n",
       "4                   True  "
      ]
     },
     "execution_count": 8,
     "metadata": {},
     "output_type": "execute_result"
    }
   ],
   "source": [
    "#Each row of the output is a vessel transit. \n",
    "transits_df.head()"
   ]
  },
  {
   "cell_type": "markdown",
   "id": "eb013d17-9233-41cf-ac22-c6ca092ec0a0",
   "metadata": {},
   "source": [
    "## 4.3 Attach SCA categories"
   ]
  },
  {
   "cell_type": "code",
   "execution_count": 9,
   "id": "8f217d94-da46-49ad-89bb-7a11d5478a8e",
   "metadata": {
    "execution": {
     "iopub.execute_input": "2024-08-20T08:42:23.579572Z",
     "iopub.status.busy": "2024-08-20T08:42:23.579136Z",
     "iopub.status.idle": "2024-08-20T08:42:23.680996Z",
     "shell.execute_reply": "2024-08-20T08:42:23.680477Z",
     "shell.execute_reply.started": "2024-08-20T08:42:23.579556Z"
    },
    "tags": []
   },
   "outputs": [
    {
     "data": {
      "text/html": [
       "<div>\n",
       "<style scoped>\n",
       "    .dataframe tbody tr th:only-of-type {\n",
       "        vertical-align: middle;\n",
       "    }\n",
       "\n",
       "    .dataframe tbody tr th {\n",
       "        vertical-align: top;\n",
       "    }\n",
       "\n",
       "    .dataframe thead th {\n",
       "        text-align: right;\n",
       "    }\n",
       "</style>\n",
       "<table border=\"1\" class=\"dataframe\">\n",
       "  <thead>\n",
       "    <tr style=\"text-align: right;\">\n",
       "      <th></th>\n",
       "      <th>StatCode5</th>\n",
       "      <th>ShiptypeLevel2</th>\n",
       "      <th>ShiptypeLevel5</th>\n",
       "      <th>SCA Vessel Type</th>\n",
       "    </tr>\n",
       "  </thead>\n",
       "  <tbody>\n",
       "    <tr>\n",
       "      <th>0</th>\n",
       "      <td>A11A2TN</td>\n",
       "      <td>Tankers</td>\n",
       "      <td>LNG Tanker</td>\n",
       "      <td>LNG Ships</td>\n",
       "    </tr>\n",
       "    <tr>\n",
       "      <th>1</th>\n",
       "      <td>A11A2TZ</td>\n",
       "      <td>Tankers</td>\n",
       "      <td>Combination Gas Tanker (LNG/LPG)</td>\n",
       "      <td>LNG Ships</td>\n",
       "    </tr>\n",
       "    <tr>\n",
       "      <th>2</th>\n",
       "      <td>A11B2TG</td>\n",
       "      <td>Tankers</td>\n",
       "      <td>LPG Tanker</td>\n",
       "      <td>Tankers</td>\n",
       "    </tr>\n",
       "    <tr>\n",
       "      <th>3</th>\n",
       "      <td>A11B2TH</td>\n",
       "      <td>Tankers</td>\n",
       "      <td>LPG/Chemical Tanker</td>\n",
       "      <td>Tankers</td>\n",
       "    </tr>\n",
       "    <tr>\n",
       "      <th>4</th>\n",
       "      <td>A12A2LP</td>\n",
       "      <td>Tankers</td>\n",
       "      <td>Molten Sulphur Tanker</td>\n",
       "      <td>Tankers</td>\n",
       "    </tr>\n",
       "  </tbody>\n",
       "</table>\n",
       "</div>"
      ],
      "text/plain": [
       "  StatCode5 ShiptypeLevel2                    ShiptypeLevel5 SCA Vessel Type\n",
       "0   A11A2TN        Tankers                        LNG Tanker       LNG Ships\n",
       "1   A11A2TZ        Tankers  Combination Gas Tanker (LNG/LPG)       LNG Ships\n",
       "2   A11B2TG        Tankers                        LPG Tanker         Tankers\n",
       "3   A11B2TH        Tankers               LPG/Chemical Tanker         Tankers\n",
       "4   A12A2LP        Tankers             Molten Sulphur Tanker         Tankers"
      ]
     },
     "execution_count": 9,
     "metadata": {},
     "output_type": "execute_result"
    }
   ],
   "source": [
    "#Read the vessel type mapping between IHS and SCA vessel types. Note that the mapping was done by the authors based on available information from the two sources\n",
    "request = requests.get(f\"https://api.github.com/repos/cherrylchico/ais_passageways/contents/data/IHS SCA Vessel Category Mapping.csv\")\n",
    "mapping = pd.read_csv(StringIO(base64.b64decode(request.json()['content']).decode('utf-8')))\n",
    "mapping.head()"
   ]
  },
  {
   "cell_type": "code",
   "execution_count": 10,
   "id": "e4d6423a-1af0-4a05-a34b-3bbbcfe97bd8",
   "metadata": {
    "execution": {
     "iopub.execute_input": "2024-08-20T08:42:23.681677Z",
     "iopub.status.busy": "2024-08-20T08:42:23.681543Z",
     "iopub.status.idle": "2024-08-20T08:42:23.685756Z",
     "shell.execute_reply": "2024-08-20T08:42:23.685230Z",
     "shell.execute_reply.started": "2024-08-20T08:42:23.681665Z"
    },
    "tags": []
   },
   "outputs": [],
   "source": [
    "#Determine SCA vessel type to vessel transits\n",
    "transits_df[\"SCA_Vessel_Type\"] = transits_df['StatCode5'].map(mapping.set_index(\"StatCode5\")[\"SCA Vessel Type\"])"
   ]
  },
  {
   "cell_type": "markdown",
   "id": "6d540e2a-7c09-4435-967d-e85ee37a2820",
   "metadata": {
    "tags": []
   },
   "source": [
    "# 5. Statistics"
   ]
  },
  {
   "cell_type": "markdown",
   "id": "1c76960f-ea98-4d99-a796-7c89fb97c0d7",
   "metadata": {},
   "source": [
    "## 5.1 Count of Transit"
   ]
  },
  {
   "cell_type": "code",
   "execution_count": 11,
   "id": "9f9aee22-a8a5-4ab5-8750-0c4a666d1d6f",
   "metadata": {
    "execution": {
     "iopub.execute_input": "2024-08-20T08:42:23.686924Z",
     "iopub.status.busy": "2024-08-20T08:42:23.686494Z",
     "iopub.status.idle": "2024-08-20T08:42:23.694047Z",
     "shell.execute_reply": "2024-08-20T08:42:23.693541Z",
     "shell.execute_reply.started": "2024-08-20T08:42:23.686901Z"
    },
    "tags": []
   },
   "outputs": [
    {
     "name": "stdout",
     "output_type": "stream",
     "text": [
      "\n",
      "Total Transits: 3,059\n",
      "Complete Transits: 2,783\n",
      "Additional Transits due to Redundancy: 9.02%\n",
      "\n"
     ]
    }
   ],
   "source": [
    "n = transits_df[~transits_df['complete_transit_flag'] ].shape[0] / transits_df.shape[0]\n",
    "print(f\"\"\"\n",
    "Total Transits: {transits_df.shape[0]:,}\n",
    "Complete Transits: {transits_df['complete_transit_flag'].sum():,}\n",
    "Additional Transits due to Redundancy: {n*100:.2f}%\n",
    "\"\"\")"
   ]
  },
  {
   "cell_type": "code",
   "execution_count": 12,
   "id": "68435797-1abe-4ec3-9c95-b6c1ea6bc6e0",
   "metadata": {
    "execution": {
     "iopub.execute_input": "2024-08-20T08:42:23.695026Z",
     "iopub.status.busy": "2024-08-20T08:42:23.694851Z",
     "iopub.status.idle": "2024-08-20T08:42:23.704489Z",
     "shell.execute_reply": "2024-08-20T08:42:23.703938Z",
     "shell.execute_reply.started": "2024-08-20T08:42:23.695012Z"
    },
    "tags": []
   },
   "outputs": [
    {
     "data": {
      "text/html": [
       "<div>\n",
       "<style scoped>\n",
       "    .dataframe tbody tr th:only-of-type {\n",
       "        vertical-align: middle;\n",
       "    }\n",
       "\n",
       "    .dataframe tbody tr th {\n",
       "        vertical-align: top;\n",
       "    }\n",
       "\n",
       "    .dataframe thead th {\n",
       "        text-align: right;\n",
       "    }\n",
       "</style>\n",
       "<table border=\"1\" class=\"dataframe\">\n",
       "  <thead>\n",
       "    <tr style=\"text-align: right;\">\n",
       "      <th></th>\n",
       "      <th></th>\n",
       "      <th>North/South</th>\n",
       "      <th>North/South/Middle</th>\n",
       "      <th>% increase</th>\n",
       "    </tr>\n",
       "    <tr>\n",
       "      <th>ShiptypeLevel2</th>\n",
       "      <th>SCA_Vessel_Type</th>\n",
       "      <th></th>\n",
       "      <th></th>\n",
       "      <th></th>\n",
       "    </tr>\n",
       "  </thead>\n",
       "  <tbody>\n",
       "    <tr>\n",
       "      <th>Bulk Carriers</th>\n",
       "      <th>Bulk Carrier</th>\n",
       "      <td>780</td>\n",
       "      <td>827</td>\n",
       "      <td>6.025641</td>\n",
       "    </tr>\n",
       "    <tr>\n",
       "      <th rowspan=\"5\" valign=\"top\">Dry Cargo/Passenger</th>\n",
       "      <th>Car Carrier</th>\n",
       "      <td>141</td>\n",
       "      <td>148</td>\n",
       "      <td>4.964539</td>\n",
       "    </tr>\n",
       "    <tr>\n",
       "      <th>Container Ships</th>\n",
       "      <td>707</td>\n",
       "      <td>809</td>\n",
       "      <td>14.427157</td>\n",
       "    </tr>\n",
       "    <tr>\n",
       "      <th>General Cargo</th>\n",
       "      <td>283</td>\n",
       "      <td>346</td>\n",
       "      <td>22.261484</td>\n",
       "    </tr>\n",
       "    <tr>\n",
       "      <th>Passenger Ships</th>\n",
       "      <td>2</td>\n",
       "      <td>2</td>\n",
       "      <td>0.000000</td>\n",
       "    </tr>\n",
       "    <tr>\n",
       "      <th>RoRo</th>\n",
       "      <td>24</td>\n",
       "      <td>26</td>\n",
       "      <td>8.333333</td>\n",
       "    </tr>\n",
       "    <tr>\n",
       "      <th rowspan=\"2\" valign=\"top\">Tankers</th>\n",
       "      <th>LNG Ships</th>\n",
       "      <td>134</td>\n",
       "      <td>134</td>\n",
       "      <td>0.000000</td>\n",
       "    </tr>\n",
       "    <tr>\n",
       "      <th>Tankers</th>\n",
       "      <td>708</td>\n",
       "      <td>763</td>\n",
       "      <td>7.768362</td>\n",
       "    </tr>\n",
       "  </tbody>\n",
       "</table>\n",
       "</div>"
      ],
      "text/plain": [
       "                                     North/South  North/South/Middle  \\\n",
       "ShiptypeLevel2      SCA_Vessel_Type                                    \n",
       "Bulk Carriers       Bulk Carrier             780                 827   \n",
       "Dry Cargo/Passenger Car Carrier              141                 148   \n",
       "                    Container Ships          707                 809   \n",
       "                    General Cargo            283                 346   \n",
       "                    Passenger Ships            2                   2   \n",
       "                    RoRo                      24                  26   \n",
       "Tankers             LNG Ships                134                 134   \n",
       "                    Tankers                  708                 763   \n",
       "\n",
       "                                     % increase  \n",
       "ShiptypeLevel2      SCA_Vessel_Type              \n",
       "Bulk Carriers       Bulk Carrier       6.025641  \n",
       "Dry Cargo/Passenger Car Carrier        4.964539  \n",
       "                    Container Ships   14.427157  \n",
       "                    General Cargo     22.261484  \n",
       "                    Passenger Ships    0.000000  \n",
       "                    RoRo               8.333333  \n",
       "Tankers             LNG Ships          0.000000  \n",
       "                    Tankers            7.768362  "
      ]
     },
     "execution_count": 12,
     "metadata": {},
     "output_type": "execute_result"
    }
   ],
   "source": [
    "count_per_poi = transits_df.groupby([\"ShiptypeLevel2\", \"SCA_Vessel_Type\"]) \\\n",
    ".agg({'complete_transit_flag':'sum', 'imo':'count'}) \\\n",
    ".rename(columns={'complete_transit_flag':'North/South', 'imo':'North/South/Middle'})\n",
    "count_per_poi['% increase'] = 100*((count_per_poi['North/South/Middle'] - count_per_poi['North/South']) / count_per_poi['North/South'])\n",
    "count_per_poi\n",
    "\n",
    "#Count of Transits According to Vessel Type and POIs captured\n",
    "#Note: North/South means that the start and end POIs are both in either North or South. Thus it also contains those that passed Middle\n",
    "#North/South/Middle has Middle as either start or end POIs. "
   ]
  },
  {
   "cell_type": "code",
   "execution_count": 13,
   "id": "b3de7a85-70a1-47ae-9b10-6d0bd847cf9b",
   "metadata": {
    "execution": {
     "iopub.execute_input": "2024-08-20T08:42:23.705235Z",
     "iopub.status.busy": "2024-08-20T08:42:23.705061Z",
     "iopub.status.idle": "2024-08-20T08:42:23.709931Z",
     "shell.execute_reply": "2024-08-20T08:42:23.709491Z",
     "shell.execute_reply.started": "2024-08-20T08:42:23.705222Z"
    },
    "tags": []
   },
   "outputs": [
    {
     "data": {
      "text/html": [
       "<a download=\"Suez Canal Transits per Type and POI 202103-202104 using AIS.csv\" href=\"data:text/csv;base64,U2hpcHR5cGVMZXZlbDIsU0NBX1Zlc3NlbF9UeXBlLE5vcnRoL1NvdXRoLE5vcnRoL1NvdXRoL01pZGRsZSwlIGluY3JlYXNlCkJ1bGsgQ2FycmllcnMsQnVsayBDYXJyaWVyLDc4MCw4MjcsNi4wMjU2NDEwMjU2NDEwMjU1CkRyeSBDYXJnby9QYXNzZW5nZXIsQ2FyIENhcnJpZXIsMTQxLDE0OCw0Ljk2NDUzOTAwNzA5MjE5OQpEcnkgQ2FyZ28vUGFzc2VuZ2VyLENvbnRhaW5lciBTaGlwcyw3MDcsODA5LDE0LjQyNzE1NzAwMTQxNDQyOQpEcnkgQ2FyZ28vUGFzc2VuZ2VyLEdlbmVyYWwgQ2FyZ28sMjgzLDM0NiwyMi4yNjE0ODQwOTg5Mzk5MjgKRHJ5IENhcmdvL1Bhc3NlbmdlcixQYXNzZW5nZXIgU2hpcHMsMiwyLDAuMApEcnkgQ2FyZ28vUGFzc2VuZ2VyLFJvUm8sMjQsMjYsOC4zMzMzMzMzMzMzMzMzMzIKVGFua2VycyxMTkcgU2hpcHMsMTM0LDEzNCwwLjAKVGFua2VycyxUYW5rZXJzLDcwOCw3NjMsNy43NjgzNjE1ODE5MjA5MDUK\" target=\"_blank\">Suez Canal Transits per Type and POI 202103-202104 using AIS.csv</a>"
      ],
      "text/plain": [
       "<IPython.core.display.HTML object>"
      ]
     },
     "execution_count": 13,
     "metadata": {},
     "output_type": "execute_result"
    }
   ],
   "source": [
    "af.create_download_link(count_per_poi, \"Suez Canal Transits per Type and POI 202103-202104 using AIS.csv\", \"Suez Canal Transits per Type and POI 202103-202104 using AIS.csv\")"
   ]
  },
  {
   "cell_type": "markdown",
   "id": "d328b911-8fbe-457c-9770-617609ae525d",
   "metadata": {
    "tags": []
   },
   "source": [
    "## 5.2 Daily Count"
   ]
  },
  {
   "cell_type": "code",
   "execution_count": 14,
   "id": "2acebac4-bf01-4510-b920-4aab7db57eb9",
   "metadata": {
    "execution": {
     "iopub.execute_input": "2024-08-20T08:42:23.710784Z",
     "iopub.status.busy": "2024-08-20T08:42:23.710644Z",
     "iopub.status.idle": "2024-08-20T08:42:23.723609Z",
     "shell.execute_reply": "2024-08-20T08:42:23.723096Z",
     "shell.execute_reply.started": "2024-08-20T08:42:23.710771Z"
    },
    "tags": []
   },
   "outputs": [],
   "source": [
    "transits_stats = transits_df \\\n",
    ".groupby(pd.Grouper(key=\"arrival_date\", freq=\"D\")) \\\n",
    ".agg({'imo':'count'}) \\\n",
    ".rename(columns={'imo':'transit_per_arrival_day'}) \\\n",
    ".join(transits_df[transits_df['complete_transit_flag']] \\\n",
    "      .groupby(pd.Grouper(key=\"arrival_date\", freq=\"D\")) \\\n",
    "      .agg({'imo':'count',\n",
    "            'dwell_time':'median',\n",
    "            'idle_time':'median'}) \\\n",
    "     .rename(columns={'imo':'complete_transit_per_arrival_day',\n",
    "                      'dwell_time':'complete_transit_dwell_time',\n",
    "                      'idle_time':'complete_transit_idle_time'})\n",
    "     )"
   ]
  },
  {
   "cell_type": "code",
   "execution_count": 15,
   "id": "1487141a-dde7-45ae-99b7-8f2fccddc6ae",
   "metadata": {
    "execution": {
     "iopub.execute_input": "2024-08-20T08:42:23.724376Z",
     "iopub.status.busy": "2024-08-20T08:42:23.724237Z",
     "iopub.status.idle": "2024-08-20T08:42:23.732398Z",
     "shell.execute_reply": "2024-08-20T08:42:23.731993Z",
     "shell.execute_reply.started": "2024-08-20T08:42:23.724364Z"
    },
    "tags": []
   },
   "outputs": [
    {
     "data": {
      "text/html": [
       "<div>\n",
       "<style scoped>\n",
       "    .dataframe tbody tr th:only-of-type {\n",
       "        vertical-align: middle;\n",
       "    }\n",
       "\n",
       "    .dataframe tbody tr th {\n",
       "        vertical-align: top;\n",
       "    }\n",
       "\n",
       "    .dataframe thead th {\n",
       "        text-align: right;\n",
       "    }\n",
       "</style>\n",
       "<table border=\"1\" class=\"dataframe\">\n",
       "  <thead>\n",
       "    <tr style=\"text-align: right;\">\n",
       "      <th></th>\n",
       "      <th>transit_per_arrival_day</th>\n",
       "      <th>complete_transit_per_arrival_day</th>\n",
       "      <th>complete_transit_dwell_time</th>\n",
       "      <th>complete_transit_idle_time</th>\n",
       "    </tr>\n",
       "    <tr>\n",
       "      <th>arrival_date</th>\n",
       "      <th></th>\n",
       "      <th></th>\n",
       "      <th></th>\n",
       "      <th></th>\n",
       "    </tr>\n",
       "  </thead>\n",
       "  <tbody>\n",
       "    <tr>\n",
       "      <th>2021-03-02</th>\n",
       "      <td>49</td>\n",
       "      <td>44</td>\n",
       "      <td>29.300417</td>\n",
       "      <td>13.614444</td>\n",
       "    </tr>\n",
       "    <tr>\n",
       "      <th>2021-03-03</th>\n",
       "      <td>56</td>\n",
       "      <td>52</td>\n",
       "      <td>27.065139</td>\n",
       "      <td>11.646528</td>\n",
       "    </tr>\n",
       "    <tr>\n",
       "      <th>2021-03-04</th>\n",
       "      <td>53</td>\n",
       "      <td>49</td>\n",
       "      <td>28.229722</td>\n",
       "      <td>11.860833</td>\n",
       "    </tr>\n",
       "    <tr>\n",
       "      <th>2021-03-05</th>\n",
       "      <td>46</td>\n",
       "      <td>41</td>\n",
       "      <td>27.991389</td>\n",
       "      <td>12.349167</td>\n",
       "    </tr>\n",
       "    <tr>\n",
       "      <th>2021-03-06</th>\n",
       "      <td>59</td>\n",
       "      <td>53</td>\n",
       "      <td>26.499722</td>\n",
       "      <td>11.432222</td>\n",
       "    </tr>\n",
       "    <tr>\n",
       "      <th>2021-03-07</th>\n",
       "      <td>56</td>\n",
       "      <td>53</td>\n",
       "      <td>25.796111</td>\n",
       "      <td>11.855000</td>\n",
       "    </tr>\n",
       "    <tr>\n",
       "      <th>2021-03-08</th>\n",
       "      <td>60</td>\n",
       "      <td>55</td>\n",
       "      <td>26.239722</td>\n",
       "      <td>10.325556</td>\n",
       "    </tr>\n",
       "    <tr>\n",
       "      <th>2021-03-09</th>\n",
       "      <td>60</td>\n",
       "      <td>56</td>\n",
       "      <td>27.542500</td>\n",
       "      <td>12.671389</td>\n",
       "    </tr>\n",
       "    <tr>\n",
       "      <th>2021-03-10</th>\n",
       "      <td>55</td>\n",
       "      <td>51</td>\n",
       "      <td>25.819167</td>\n",
       "      <td>10.422222</td>\n",
       "    </tr>\n",
       "    <tr>\n",
       "      <th>2021-03-11</th>\n",
       "      <td>58</td>\n",
       "      <td>55</td>\n",
       "      <td>25.375833</td>\n",
       "      <td>9.970000</td>\n",
       "    </tr>\n",
       "    <tr>\n",
       "      <th>2021-03-12</th>\n",
       "      <td>44</td>\n",
       "      <td>42</td>\n",
       "      <td>27.848889</td>\n",
       "      <td>13.088333</td>\n",
       "    </tr>\n",
       "    <tr>\n",
       "      <th>2021-03-13</th>\n",
       "      <td>59</td>\n",
       "      <td>56</td>\n",
       "      <td>24.263194</td>\n",
       "      <td>10.090278</td>\n",
       "    </tr>\n",
       "    <tr>\n",
       "      <th>2021-03-14</th>\n",
       "      <td>47</td>\n",
       "      <td>44</td>\n",
       "      <td>28.786111</td>\n",
       "      <td>14.110000</td>\n",
       "    </tr>\n",
       "    <tr>\n",
       "      <th>2021-03-15</th>\n",
       "      <td>45</td>\n",
       "      <td>43</td>\n",
       "      <td>26.404444</td>\n",
       "      <td>10.039167</td>\n",
       "    </tr>\n",
       "    <tr>\n",
       "      <th>2021-03-16</th>\n",
       "      <td>61</td>\n",
       "      <td>54</td>\n",
       "      <td>28.562500</td>\n",
       "      <td>12.509444</td>\n",
       "    </tr>\n",
       "    <tr>\n",
       "      <th>2021-03-17</th>\n",
       "      <td>36</td>\n",
       "      <td>36</td>\n",
       "      <td>25.457222</td>\n",
       "      <td>11.336389</td>\n",
       "    </tr>\n",
       "    <tr>\n",
       "      <th>2021-03-18</th>\n",
       "      <td>44</td>\n",
       "      <td>40</td>\n",
       "      <td>26.039028</td>\n",
       "      <td>10.348472</td>\n",
       "    </tr>\n",
       "    <tr>\n",
       "      <th>2021-03-19</th>\n",
       "      <td>61</td>\n",
       "      <td>54</td>\n",
       "      <td>27.043194</td>\n",
       "      <td>11.906944</td>\n",
       "    </tr>\n",
       "    <tr>\n",
       "      <th>2021-03-20</th>\n",
       "      <td>52</td>\n",
       "      <td>50</td>\n",
       "      <td>26.186806</td>\n",
       "      <td>10.625278</td>\n",
       "    </tr>\n",
       "    <tr>\n",
       "      <th>2021-03-21</th>\n",
       "      <td>46</td>\n",
       "      <td>43</td>\n",
       "      <td>26.650278</td>\n",
       "      <td>11.152222</td>\n",
       "    </tr>\n",
       "    <tr>\n",
       "      <th>2021-03-22</th>\n",
       "      <td>44</td>\n",
       "      <td>31</td>\n",
       "      <td>174.071944</td>\n",
       "      <td>158.823333</td>\n",
       "    </tr>\n",
       "    <tr>\n",
       "      <th>2021-03-23</th>\n",
       "      <td>47</td>\n",
       "      <td>40</td>\n",
       "      <td>196.722083</td>\n",
       "      <td>176.983889</td>\n",
       "    </tr>\n",
       "    <tr>\n",
       "      <th>2021-03-24</th>\n",
       "      <td>44</td>\n",
       "      <td>41</td>\n",
       "      <td>171.340556</td>\n",
       "      <td>155.595000</td>\n",
       "    </tr>\n",
       "    <tr>\n",
       "      <th>2021-03-25</th>\n",
       "      <td>38</td>\n",
       "      <td>37</td>\n",
       "      <td>172.155556</td>\n",
       "      <td>155.862500</td>\n",
       "    </tr>\n",
       "    <tr>\n",
       "      <th>2021-03-26</th>\n",
       "      <td>17</td>\n",
       "      <td>16</td>\n",
       "      <td>148.290833</td>\n",
       "      <td>131.685833</td>\n",
       "    </tr>\n",
       "    <tr>\n",
       "      <th>2021-03-27</th>\n",
       "      <td>11</td>\n",
       "      <td>10</td>\n",
       "      <td>125.619722</td>\n",
       "      <td>110.435833</td>\n",
       "    </tr>\n",
       "    <tr>\n",
       "      <th>2021-03-28</th>\n",
       "      <td>26</td>\n",
       "      <td>17</td>\n",
       "      <td>109.638889</td>\n",
       "      <td>92.866111</td>\n",
       "    </tr>\n",
       "    <tr>\n",
       "      <th>2021-03-29</th>\n",
       "      <td>32</td>\n",
       "      <td>19</td>\n",
       "      <td>105.594444</td>\n",
       "      <td>91.677500</td>\n",
       "    </tr>\n",
       "    <tr>\n",
       "      <th>2021-03-30</th>\n",
       "      <td>44</td>\n",
       "      <td>30</td>\n",
       "      <td>91.515972</td>\n",
       "      <td>80.001667</td>\n",
       "    </tr>\n",
       "    <tr>\n",
       "      <th>2021-03-31</th>\n",
       "      <td>67</td>\n",
       "      <td>59</td>\n",
       "      <td>78.171667</td>\n",
       "      <td>62.392500</td>\n",
       "    </tr>\n",
       "    <tr>\n",
       "      <th>2021-04-01</th>\n",
       "      <td>71</td>\n",
       "      <td>66</td>\n",
       "      <td>80.103889</td>\n",
       "      <td>65.443056</td>\n",
       "    </tr>\n",
       "    <tr>\n",
       "      <th>2021-04-02</th>\n",
       "      <td>72</td>\n",
       "      <td>66</td>\n",
       "      <td>41.252639</td>\n",
       "      <td>26.932917</td>\n",
       "    </tr>\n",
       "    <tr>\n",
       "      <th>2021-04-03</th>\n",
       "      <td>72</td>\n",
       "      <td>66</td>\n",
       "      <td>55.931806</td>\n",
       "      <td>45.984028</td>\n",
       "    </tr>\n",
       "    <tr>\n",
       "      <th>2021-04-04</th>\n",
       "      <td>66</td>\n",
       "      <td>60</td>\n",
       "      <td>60.865000</td>\n",
       "      <td>47.081250</td>\n",
       "    </tr>\n",
       "    <tr>\n",
       "      <th>2021-04-05</th>\n",
       "      <td>55</td>\n",
       "      <td>54</td>\n",
       "      <td>57.569167</td>\n",
       "      <td>41.786944</td>\n",
       "    </tr>\n",
       "    <tr>\n",
       "      <th>2021-04-06</th>\n",
       "      <td>49</td>\n",
       "      <td>46</td>\n",
       "      <td>58.038611</td>\n",
       "      <td>42.634444</td>\n",
       "    </tr>\n",
       "    <tr>\n",
       "      <th>2021-04-07</th>\n",
       "      <td>51</td>\n",
       "      <td>51</td>\n",
       "      <td>52.240833</td>\n",
       "      <td>29.998889</td>\n",
       "    </tr>\n",
       "    <tr>\n",
       "      <th>2021-04-08</th>\n",
       "      <td>64</td>\n",
       "      <td>58</td>\n",
       "      <td>33.343333</td>\n",
       "      <td>17.395833</td>\n",
       "    </tr>\n",
       "    <tr>\n",
       "      <th>2021-04-09</th>\n",
       "      <td>49</td>\n",
       "      <td>45</td>\n",
       "      <td>29.299167</td>\n",
       "      <td>14.056944</td>\n",
       "    </tr>\n",
       "    <tr>\n",
       "      <th>2021-04-10</th>\n",
       "      <td>52</td>\n",
       "      <td>43</td>\n",
       "      <td>27.108333</td>\n",
       "      <td>12.307222</td>\n",
       "    </tr>\n",
       "    <tr>\n",
       "      <th>2021-04-11</th>\n",
       "      <td>46</td>\n",
       "      <td>42</td>\n",
       "      <td>25.243611</td>\n",
       "      <td>11.177639</td>\n",
       "    </tr>\n",
       "    <tr>\n",
       "      <th>2021-04-12</th>\n",
       "      <td>44</td>\n",
       "      <td>36</td>\n",
       "      <td>25.116806</td>\n",
       "      <td>10.735694</td>\n",
       "    </tr>\n",
       "    <tr>\n",
       "      <th>2021-04-13</th>\n",
       "      <td>47</td>\n",
       "      <td>45</td>\n",
       "      <td>24.856389</td>\n",
       "      <td>10.821111</td>\n",
       "    </tr>\n",
       "    <tr>\n",
       "      <th>2021-04-14</th>\n",
       "      <td>47</td>\n",
       "      <td>46</td>\n",
       "      <td>24.741528</td>\n",
       "      <td>11.089444</td>\n",
       "    </tr>\n",
       "    <tr>\n",
       "      <th>2021-04-15</th>\n",
       "      <td>41</td>\n",
       "      <td>38</td>\n",
       "      <td>26.088056</td>\n",
       "      <td>11.300000</td>\n",
       "    </tr>\n",
       "    <tr>\n",
       "      <th>2021-04-16</th>\n",
       "      <td>54</td>\n",
       "      <td>51</td>\n",
       "      <td>28.853611</td>\n",
       "      <td>10.918611</td>\n",
       "    </tr>\n",
       "    <tr>\n",
       "      <th>2021-04-17</th>\n",
       "      <td>42</td>\n",
       "      <td>41</td>\n",
       "      <td>27.189167</td>\n",
       "      <td>11.825556</td>\n",
       "    </tr>\n",
       "    <tr>\n",
       "      <th>2021-04-18</th>\n",
       "      <td>49</td>\n",
       "      <td>46</td>\n",
       "      <td>25.310139</td>\n",
       "      <td>10.780833</td>\n",
       "    </tr>\n",
       "    <tr>\n",
       "      <th>2021-04-19</th>\n",
       "      <td>53</td>\n",
       "      <td>53</td>\n",
       "      <td>24.555833</td>\n",
       "      <td>9.402778</td>\n",
       "    </tr>\n",
       "    <tr>\n",
       "      <th>2021-04-20</th>\n",
       "      <td>49</td>\n",
       "      <td>45</td>\n",
       "      <td>24.771944</td>\n",
       "      <td>10.484444</td>\n",
       "    </tr>\n",
       "    <tr>\n",
       "      <th>2021-04-21</th>\n",
       "      <td>58</td>\n",
       "      <td>54</td>\n",
       "      <td>26.734722</td>\n",
       "      <td>11.060556</td>\n",
       "    </tr>\n",
       "    <tr>\n",
       "      <th>2021-04-22</th>\n",
       "      <td>48</td>\n",
       "      <td>46</td>\n",
       "      <td>27.022917</td>\n",
       "      <td>12.643194</td>\n",
       "    </tr>\n",
       "    <tr>\n",
       "      <th>2021-04-23</th>\n",
       "      <td>54</td>\n",
       "      <td>51</td>\n",
       "      <td>27.016389</td>\n",
       "      <td>12.361111</td>\n",
       "    </tr>\n",
       "    <tr>\n",
       "      <th>2021-04-24</th>\n",
       "      <td>54</td>\n",
       "      <td>51</td>\n",
       "      <td>26.225556</td>\n",
       "      <td>12.173333</td>\n",
       "    </tr>\n",
       "    <tr>\n",
       "      <th>2021-04-25</th>\n",
       "      <td>56</td>\n",
       "      <td>51</td>\n",
       "      <td>25.901389</td>\n",
       "      <td>11.834444</td>\n",
       "    </tr>\n",
       "    <tr>\n",
       "      <th>2021-04-26</th>\n",
       "      <td>51</td>\n",
       "      <td>46</td>\n",
       "      <td>23.227778</td>\n",
       "      <td>8.605972</td>\n",
       "    </tr>\n",
       "    <tr>\n",
       "      <th>2021-04-27</th>\n",
       "      <td>36</td>\n",
       "      <td>34</td>\n",
       "      <td>24.719583</td>\n",
       "      <td>9.607500</td>\n",
       "    </tr>\n",
       "    <tr>\n",
       "      <th>2021-04-28</th>\n",
       "      <td>50</td>\n",
       "      <td>48</td>\n",
       "      <td>25.608750</td>\n",
       "      <td>9.994167</td>\n",
       "    </tr>\n",
       "    <tr>\n",
       "      <th>2021-04-29</th>\n",
       "      <td>40</td>\n",
       "      <td>38</td>\n",
       "      <td>24.288333</td>\n",
       "      <td>9.949306</td>\n",
       "    </tr>\n",
       "  </tbody>\n",
       "</table>\n",
       "</div>"
      ],
      "text/plain": [
       "              transit_per_arrival_day  complete_transit_per_arrival_day  \\\n",
       "arrival_date                                                              \n",
       "2021-03-02                         49                                44   \n",
       "2021-03-03                         56                                52   \n",
       "2021-03-04                         53                                49   \n",
       "2021-03-05                         46                                41   \n",
       "2021-03-06                         59                                53   \n",
       "2021-03-07                         56                                53   \n",
       "2021-03-08                         60                                55   \n",
       "2021-03-09                         60                                56   \n",
       "2021-03-10                         55                                51   \n",
       "2021-03-11                         58                                55   \n",
       "2021-03-12                         44                                42   \n",
       "2021-03-13                         59                                56   \n",
       "2021-03-14                         47                                44   \n",
       "2021-03-15                         45                                43   \n",
       "2021-03-16                         61                                54   \n",
       "2021-03-17                         36                                36   \n",
       "2021-03-18                         44                                40   \n",
       "2021-03-19                         61                                54   \n",
       "2021-03-20                         52                                50   \n",
       "2021-03-21                         46                                43   \n",
       "2021-03-22                         44                                31   \n",
       "2021-03-23                         47                                40   \n",
       "2021-03-24                         44                                41   \n",
       "2021-03-25                         38                                37   \n",
       "2021-03-26                         17                                16   \n",
       "2021-03-27                         11                                10   \n",
       "2021-03-28                         26                                17   \n",
       "2021-03-29                         32                                19   \n",
       "2021-03-30                         44                                30   \n",
       "2021-03-31                         67                                59   \n",
       "2021-04-01                         71                                66   \n",
       "2021-04-02                         72                                66   \n",
       "2021-04-03                         72                                66   \n",
       "2021-04-04                         66                                60   \n",
       "2021-04-05                         55                                54   \n",
       "2021-04-06                         49                                46   \n",
       "2021-04-07                         51                                51   \n",
       "2021-04-08                         64                                58   \n",
       "2021-04-09                         49                                45   \n",
       "2021-04-10                         52                                43   \n",
       "2021-04-11                         46                                42   \n",
       "2021-04-12                         44                                36   \n",
       "2021-04-13                         47                                45   \n",
       "2021-04-14                         47                                46   \n",
       "2021-04-15                         41                                38   \n",
       "2021-04-16                         54                                51   \n",
       "2021-04-17                         42                                41   \n",
       "2021-04-18                         49                                46   \n",
       "2021-04-19                         53                                53   \n",
       "2021-04-20                         49                                45   \n",
       "2021-04-21                         58                                54   \n",
       "2021-04-22                         48                                46   \n",
       "2021-04-23                         54                                51   \n",
       "2021-04-24                         54                                51   \n",
       "2021-04-25                         56                                51   \n",
       "2021-04-26                         51                                46   \n",
       "2021-04-27                         36                                34   \n",
       "2021-04-28                         50                                48   \n",
       "2021-04-29                         40                                38   \n",
       "\n",
       "              complete_transit_dwell_time  complete_transit_idle_time  \n",
       "arrival_date                                                           \n",
       "2021-03-02                      29.300417                   13.614444  \n",
       "2021-03-03                      27.065139                   11.646528  \n",
       "2021-03-04                      28.229722                   11.860833  \n",
       "2021-03-05                      27.991389                   12.349167  \n",
       "2021-03-06                      26.499722                   11.432222  \n",
       "2021-03-07                      25.796111                   11.855000  \n",
       "2021-03-08                      26.239722                   10.325556  \n",
       "2021-03-09                      27.542500                   12.671389  \n",
       "2021-03-10                      25.819167                   10.422222  \n",
       "2021-03-11                      25.375833                    9.970000  \n",
       "2021-03-12                      27.848889                   13.088333  \n",
       "2021-03-13                      24.263194                   10.090278  \n",
       "2021-03-14                      28.786111                   14.110000  \n",
       "2021-03-15                      26.404444                   10.039167  \n",
       "2021-03-16                      28.562500                   12.509444  \n",
       "2021-03-17                      25.457222                   11.336389  \n",
       "2021-03-18                      26.039028                   10.348472  \n",
       "2021-03-19                      27.043194                   11.906944  \n",
       "2021-03-20                      26.186806                   10.625278  \n",
       "2021-03-21                      26.650278                   11.152222  \n",
       "2021-03-22                     174.071944                  158.823333  \n",
       "2021-03-23                     196.722083                  176.983889  \n",
       "2021-03-24                     171.340556                  155.595000  \n",
       "2021-03-25                     172.155556                  155.862500  \n",
       "2021-03-26                     148.290833                  131.685833  \n",
       "2021-03-27                     125.619722                  110.435833  \n",
       "2021-03-28                     109.638889                   92.866111  \n",
       "2021-03-29                     105.594444                   91.677500  \n",
       "2021-03-30                      91.515972                   80.001667  \n",
       "2021-03-31                      78.171667                   62.392500  \n",
       "2021-04-01                      80.103889                   65.443056  \n",
       "2021-04-02                      41.252639                   26.932917  \n",
       "2021-04-03                      55.931806                   45.984028  \n",
       "2021-04-04                      60.865000                   47.081250  \n",
       "2021-04-05                      57.569167                   41.786944  \n",
       "2021-04-06                      58.038611                   42.634444  \n",
       "2021-04-07                      52.240833                   29.998889  \n",
       "2021-04-08                      33.343333                   17.395833  \n",
       "2021-04-09                      29.299167                   14.056944  \n",
       "2021-04-10                      27.108333                   12.307222  \n",
       "2021-04-11                      25.243611                   11.177639  \n",
       "2021-04-12                      25.116806                   10.735694  \n",
       "2021-04-13                      24.856389                   10.821111  \n",
       "2021-04-14                      24.741528                   11.089444  \n",
       "2021-04-15                      26.088056                   11.300000  \n",
       "2021-04-16                      28.853611                   10.918611  \n",
       "2021-04-17                      27.189167                   11.825556  \n",
       "2021-04-18                      25.310139                   10.780833  \n",
       "2021-04-19                      24.555833                    9.402778  \n",
       "2021-04-20                      24.771944                   10.484444  \n",
       "2021-04-21                      26.734722                   11.060556  \n",
       "2021-04-22                      27.022917                   12.643194  \n",
       "2021-04-23                      27.016389                   12.361111  \n",
       "2021-04-24                      26.225556                   12.173333  \n",
       "2021-04-25                      25.901389                   11.834444  \n",
       "2021-04-26                      23.227778                    8.605972  \n",
       "2021-04-27                      24.719583                    9.607500  \n",
       "2021-04-28                      25.608750                    9.994167  \n",
       "2021-04-29                      24.288333                    9.949306  "
      ]
     },
     "execution_count": 15,
     "metadata": {},
     "output_type": "execute_result"
    }
   ],
   "source": [
    "transits_stats.iloc[1:-1]"
   ]
  },
  {
   "cell_type": "code",
   "execution_count": 16,
   "id": "af5faaf3-b592-4b0d-ad4b-929c06fc5172",
   "metadata": {
    "execution": {
     "iopub.execute_input": "2024-08-20T08:42:23.733110Z",
     "iopub.status.busy": "2024-08-20T08:42:23.732974Z",
     "iopub.status.idle": "2024-08-20T08:42:23.737767Z",
     "shell.execute_reply": "2024-08-20T08:42:23.737383Z",
     "shell.execute_reply.started": "2024-08-20T08:42:23.733098Z"
    },
    "tags": []
   },
   "outputs": [
    {
     "data": {
      "text/html": [
       "<a download=\"Suez Canal Daily Transits 202103-202104 using AIS.csv\" href=\"data:text/csv;base64,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\" target=\"_blank\">Suez Canal Daily Transits 202103-202104 using AIS.csv</a>"
      ],
      "text/plain": [
       "<IPython.core.display.HTML object>"
      ]
     },
     "execution_count": 16,
     "metadata": {},
     "output_type": "execute_result"
    }
   ],
   "source": [
    "#To get the outputs for  local storage\n",
    "af.create_download_link(transits_stats, \"Suez Canal Daily Transits 202103-202104 using AIS.csv\",\"Suez Canal Daily Transits 202103-202104 using AIS.csv\")"
   ]
  },
  {
   "cell_type": "markdown",
   "id": "4f03a78c-d442-4b0b-bc6d-52abbe64e338",
   "metadata": {},
   "source": [
    "## 5.3 Queued vessels"
   ]
  },
  {
   "cell_type": "code",
   "execution_count": 35,
   "id": "0817003e-db7e-4a5f-8cab-97a5e8293f28",
   "metadata": {
    "execution": {
     "iopub.execute_input": "2024-08-20T08:50:04.120463Z",
     "iopub.status.busy": "2024-08-20T08:50:04.120150Z",
     "iopub.status.idle": "2024-08-20T08:50:04.124151Z",
     "shell.execute_reply": "2024-08-20T08:50:04.123638Z",
     "shell.execute_reply.started": "2024-08-20T08:50:04.120445Z"
    },
    "tags": []
   },
   "outputs": [],
   "source": [
    "preblockage = (transits_stats.index <= \"2021-03-21\") & (transits_stats.index >= \"2021-03-02\")\n",
    "blockage = (transits_stats.index >= \"2021-03-22\") & (transits_stats.index <= \"2021-03-29\")\n",
    "recovery = (transits_stats.index >= \"2021-03-30\") & (transits_stats.index <= \"2021-04-08\")\n",
    "postrecovery = (transits_stats.index >= \"2021-04-09\")   & (transits_stats.index <= \"2021-04-29\")"
   ]
  },
  {
   "cell_type": "code",
   "execution_count": 36,
   "id": "6a624b63-5a58-46f7-85d8-a64fab049244",
   "metadata": {
    "execution": {
     "iopub.execute_input": "2024-08-20T08:50:21.930258Z",
     "iopub.status.busy": "2024-08-20T08:50:21.929683Z",
     "iopub.status.idle": "2024-08-20T08:50:21.937645Z",
     "shell.execute_reply": "2024-08-20T08:50:21.937183Z",
     "shell.execute_reply.started": "2024-08-20T08:50:21.930236Z"
    }
   },
   "outputs": [
    {
     "name": "stdout",
     "output_type": "stream",
     "text": [
      "\n",
      "Pre-Incident BAU stats:\n",
      "transit_per_arrival_day             52.0\n",
      "complete_transit_per_arrival_day    49.0\n",
      "complete_transit_dwell_time         27.0\n",
      "complete_transit_idle_time          12.0\n",
      "dtype: float64\n",
      "\n",
      "Blockage stats:\n",
      "transit_per_arrival_day              32.0\n",
      "complete_transit_per_arrival_day     26.0\n",
      "complete_transit_dwell_time         150.0\n",
      "complete_transit_idle_time          134.0\n",
      "dtype: float64\n",
      "\n",
      "Recovery stats:\n",
      "transit_per_arrival_day             61.0\n",
      "complete_transit_per_arrival_day    56.0\n",
      "complete_transit_dwell_time         61.0\n",
      "complete_transit_idle_time          46.0\n",
      "dtype: float64\n",
      "\n",
      "Port-Indicent BAU stats:\n",
      "transit_per_arrival_day             49.0\n",
      "complete_transit_per_arrival_day    45.0\n",
      "complete_transit_dwell_time         26.0\n",
      "complete_transit_idle_time          11.0\n",
      "dtype: float64\n",
      "\n"
     ]
    }
   ],
   "source": [
    "#excluding start and end dates\n",
    "\n",
    "print(f\"\"\"\n",
    "Pre-Incident BAU stats:\n",
    "{transits_stats[preblockage].mean().round()}\n",
    "\n",
    "Blockage stats:\n",
    "{transits_stats[blockage].mean().round()}\n",
    "\n",
    "Recovery stats:\n",
    "{transits_stats[recovery].mean().round()}\n",
    "\n",
    "Port-Indicent BAU stats:\n",
    "{transits_stats[postrecovery].mean().round()}\n",
    "\"\"\")"
   ]
  },
  {
   "cell_type": "code",
   "execution_count": 39,
   "id": "d02f8975-c174-443f-a9cf-0a035a954905",
   "metadata": {
    "execution": {
     "iopub.execute_input": "2024-08-20T08:50:53.586849Z",
     "iopub.status.busy": "2024-08-20T08:50:53.586391Z",
     "iopub.status.idle": "2024-08-20T08:50:53.591952Z",
     "shell.execute_reply": "2024-08-20T08:50:53.591464Z",
     "shell.execute_reply.started": "2024-08-20T08:50:53.586826Z"
    },
    "tags": []
   },
   "outputs": [],
   "source": [
    "preblockage = (transits_df.arrival_date <= \"2021-03-21\") & (transits_df.arrival_date >= \"2021-03-02\")\n",
    "blockage = (transits_df.arrival_date >= \"2021-03-22\") & (transits_df.arrival_date <= \"2021-03-29\")\n",
    "recovery = (transits_df.arrival_date >= \"2021-03-30\") & (transits_df.arrival_date <= \"2021-04-08\")\n",
    "postrecovery = (transits_df.arrival_date >= \"2021-04-09\")   & (transits_df.arrival_date <= \"2021-04-29\")"
   ]
  },
  {
   "cell_type": "code",
   "execution_count": 40,
   "id": "8d783c14-dc53-4b83-b3a3-9a55f3e52a45",
   "metadata": {
    "execution": {
     "iopub.execute_input": "2024-08-20T08:50:55.646356Z",
     "iopub.status.busy": "2024-08-20T08:50:55.645909Z",
     "iopub.status.idle": "2024-08-20T08:50:55.654005Z",
     "shell.execute_reply": "2024-08-20T08:50:55.653539Z",
     "shell.execute_reply.started": "2024-08-20T08:50:55.646334Z"
    },
    "tags": []
   },
   "outputs": [
    {
     "name": "stdout",
     "output_type": "stream",
     "text": [
      "BAU Dwell Time Distribution (Complete Transits Only)\n"
     ]
    },
    {
     "data": {
      "text/plain": [
       "count    1840.000000\n",
       "mean       30.404616\n",
       "std        27.880433\n",
       "min        10.741944\n",
       "50%        26.444306\n",
       "60%        28.790278\n",
       "70%        31.326917\n",
       "80%        34.848222\n",
       "90%        39.150306\n",
       "95%        45.419514\n",
       "99%        98.900092\n",
       "max       678.595000\n",
       "Name: dwell_time, dtype: float64"
      ]
     },
     "execution_count": 40,
     "metadata": {},
     "output_type": "execute_result"
    }
   ],
   "source": [
    "print(f\"BAU Dwell Time Distribution (Complete Transits Only)\")\n",
    "transits_df[(preblockage | postrecovery) & transits_df['complete_transit_flag']].dwell_time.describe(percentiles=[0.5,0.6, 0.7,0.8,0.9,0.95,0.99])"
   ]
  },
  {
   "cell_type": "code",
   "execution_count": 42,
   "id": "3e4750df-f3b8-461d-948d-256d723d6feb",
   "metadata": {
    "execution": {
     "iopub.execute_input": "2024-08-20T08:51:41.974485Z",
     "iopub.status.busy": "2024-08-20T08:51:41.974002Z",
     "iopub.status.idle": "2024-08-20T08:51:41.981854Z",
     "shell.execute_reply": "2024-08-20T08:51:41.981387Z",
     "shell.execute_reply.started": "2024-08-20T08:51:41.974466Z"
    },
    "tags": []
   },
   "outputs": [
    {
     "name": "stdout",
     "output_type": "stream",
     "text": [
      "\n",
      "Total Transits Blockage + Recovery: 690\n",
      "Max Dwell Time During BAU: 45 hours\n",
      "Affected vessels (queued): 507\n",
      "% Vessels Affected:  73.48%\n",
      "\n",
      "Note that figures only include vessels with complete transits\n",
      "\n"
     ]
    }
   ],
   "source": [
    "max_dwell_time_bau = transits_df[(preblockage | postrecovery) & transits_df['complete_transit_flag']].dwell_time.quantile(0.95)\n",
    "n =  transits_df[(recovery | blockage) & transits_df['complete_transit_flag']].shape[0]\n",
    "queued =  transits_df[(recovery | blockage) & transits_df['complete_transit_flag'] & (transits_df['dwell_time'] >= max_dwell_time_bau)].shape[0]\n",
    "print(f\"\"\"\n",
    "Total Transits Blockage + Recovery: {n}\n",
    "Max Dwell Time During BAU: {max_dwell_time_bau:.0f} hours\n",
    "Affected vessels (queued): {queued}\n",
    "% Vessels Affected: {(queued / n )*100: .2f}%\n",
    "\n",
    "Note that figures only include vessels with complete transits\n",
    "\"\"\")"
   ]
  },
  {
   "cell_type": "code",
   "execution_count": null,
   "id": "77f4b59d-d90f-42db-bf80-d4d513b99ac7",
   "metadata": {},
   "outputs": [],
   "source": []
  }
 ],
 "metadata": {
  "kernelspec": {
   "display_name": "pyspark3.5 ais2.9",
   "language": "python3",
   "name": "pyspark-ais-nosedona-202403"
  },
  "language_info": {
   "codemirror_mode": {
    "name": "ipython",
    "version": 3
   },
   "file_extension": ".py",
   "mimetype": "text/x-python",
   "name": "python",
   "nbconvert_exporter": "python",
   "pygments_lexer": "ipython3",
   "version": "3.10.10"
  }
 },
 "nbformat": 4,
 "nbformat_minor": 5
}
